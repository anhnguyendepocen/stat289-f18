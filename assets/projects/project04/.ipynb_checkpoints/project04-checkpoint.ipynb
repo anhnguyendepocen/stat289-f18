{
 "cells": [
  {
   "cell_type": "markdown",
   "metadata": {},
   "source": [
    "## Project 04: Extending Wikipedia Text Explorer\n",
    "\n",
    "- **Due**: Tuesday, 30 October 2018; 12:00pm\n",
    "- **Total Points**: 180\n",
    "    - code runs and does not produce too many lint/style warnings, 40 points\n",
    "    - the output shows the changes correctly on your dataset, 100 points\n",
    "    - the code works on other datasets as well, 40 points\n",
    "    \n",
    "In this project, each of your will be tasked with making some modification\n",
    "to the `wikitext.py` module. You need to make the change and re-run the analysis\n",
    "that you had from Project 03 (if getting the topic and cluster names again is too\n",
    "difficult, that is not a big deal). If you have any questions about a specific task,\n",
    "please let me know!\n",
    "\n",
    "**For submission, make sure to upload all of the html files. You should also\n",
    "upload this project file.**"
   ]
  },
  {
   "cell_type": "markdown",
   "metadata": {},
   "source": [
    "### Tasks\n",
    "\n",
    "For this assignment, you'll pick one of the follow sets of tasks. My intent\n",
    "was that all five are equally time-consuming, though (roughly) as you move\n",
    "down the list the difficulty increases but the number of tasks you have to\n",
    "perform descreases. \n",
    "\n",
    "1. **Update user interface**: The user interface is fairly basic at \n",
    "the moment. Add, with appropriate documentation, the following elements:\n",
    "    1. Allow users to select the number of top documents shown in the\n",
    "    topics page and the most similar documents shown on the documents \n",
    "    page.\n",
    "    2. Print out status messages for initalizing the WikiCorpus object\n",
    "    and the function `wiki_text_explorer`. If you are feeling ambitious,\n",
    "    use the logging module for this.\n",
    "    3. Modify `json_meta_template` to construct better default topic and\n",
    "    cluster names. Perhaps the top 3-5 terms in each, seperated by a hyphen?\n",
    "2. **Linguistic Information**: I have stored a list of other languages \n",
    "that pages have been translated into in the `WikiCorpus` metadata. Display\n",
    "a subset of these (say, a dozen or so popular languages) on the document\n",
    "page by showing a country flag when a page has been translated into a given\n",
    "language.\n",
    "3. **Network Analysis**: Compute a network structure using the internal links\n",
    "and display the eigenvalue centrality on the documents page. \n",
    "4. **Images**: Write a function that finds the first image found on a\n",
    "Wikipedia page and store the `src` attribute in the `WikiCorpus` metadata.\n",
    "Then, add a column to the document page that includes the image. \n",
    "5. **Integrate with spacy**: Load the *spacy* module and use its much\n",
    "more sophisticated tokenization algorithms to parse the texts. Save\n",
    "the lemmas, perform part of speech filtering (nouns and verbs, perhaps)\n",
    "and use these in the `WikiCorpus` class. Finally, use the spacy document\n",
    "similarity measurement to construct the similarity scores."
   ]
  },
  {
   "cell_type": "markdown",
   "metadata": {},
   "source": [
    "### General approach\n",
    "\n",
    "**In this block, describe in just a couple of sentences the task you choose and\n",
    "approach you took to solving the problem.**"
   ]
  },
  {
   "cell_type": "markdown",
   "metadata": {},
   "source": [
    "### Application\n",
    "\n",
    "There is not much more code that you need to write in this file. Basically, just copy\n",
    "the code you had from Project 3 over to this page so that it will reproduce your\n",
    "Text Explorer page, but with your new `wikitext` module."
   ]
  },
  {
   "cell_type": "code",
   "execution_count": null,
   "metadata": {},
   "outputs": [],
   "source": [
    "%load_ext autoreload\n",
    "%autoreload 2"
   ]
  },
  {
   "cell_type": "code",
   "execution_count": null,
   "metadata": {},
   "outputs": [],
   "source": [
    "import wiki\n",
    "import iplot\n",
    "import wikitext"
   ]
  },
  {
   "cell_type": "code",
   "execution_count": null,
   "metadata": {},
   "outputs": [],
   "source": [
    "assert wiki.__version__ >= 6\n",
    "assert wikitext.__version__ >= 3\n",
    "assert iplot.__version__ >= 3"
   ]
  },
  {
   "cell_type": "code",
   "execution_count": null,
   "metadata": {},
   "outputs": [],
   "source": [
    "links = wikitext.get_internal_links('List_of_important_publications_in_philosophy') \n",
    "wcorp = wikitext.WikiCorpus(links['ilinks'], num_clusters=40, num_topics=15)"
   ]
  },
  {
   "cell_type": "code",
   "execution_count": null,
   "metadata": {},
   "outputs": [],
   "source": [
    "wikitext.wiki_text_explorer(wcorp, output_dir=\"philosophy-pub\")"
   ]
  },
  {
   "cell_type": "code",
   "execution_count": null,
   "metadata": {},
   "outputs": [],
   "source": []
  },
  {
   "cell_type": "markdown",
   "metadata": {},
   "source": [
    "You should also check that your code is not producing too many warnings with\n",
    "`pycodestyle` and `pylint` (Note: you do not need to be perfect, just don't have\n",
    "too many simple errors)."
   ]
  },
  {
   "cell_type": "code",
   "execution_count": null,
   "metadata": {},
   "outputs": [],
   "source": [
    "import pycodestyle\n",
    "pycodestyle.Checker(filename='wikitext.py').check_all()"
   ]
  },
  {
   "cell_type": "code",
   "execution_count": null,
   "metadata": {},
   "outputs": [],
   "source": [
    "from pylint.epylint import lint\n",
    "lint(\"wikitext.py\")"
   ]
  },
  {
   "cell_type": "code",
   "execution_count": null,
   "metadata": {},
   "outputs": [],
   "source": [
    "wcorp.meta.eigen"
   ]
  },
  {
   "cell_type": "code",
   "execution_count": null,
   "metadata": {},
   "outputs": [],
   "source": []
  },
  {
   "cell_type": "code",
   "execution_count": null,
   "metadata": {},
   "outputs": [],
   "source": []
  },
  {
   "cell_type": "code",
   "execution_count": null,
   "metadata": {},
   "outputs": [],
   "source": []
  },
  {
   "cell_type": "code",
   "execution_count": null,
   "metadata": {},
   "outputs": [],
   "source": []
  }
 ],
 "metadata": {
  "kernelspec": {
   "display_name": "Python 3",
   "language": "python",
   "name": "python3"
  },
  "language_info": {
   "codemirror_mode": {
    "name": "ipython",
    "version": 3
   },
   "file_extension": ".py",
   "mimetype": "text/x-python",
   "name": "python",
   "nbconvert_exporter": "python",
   "pygments_lexer": "ipython3",
   "version": "3.6.6"
  }
 },
 "nbformat": 4,
 "nbformat_minor": 2
}
