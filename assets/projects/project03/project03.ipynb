{
 "cells": [
  {
   "cell_type": "markdown",
   "metadata": {},
   "source": [
    "## Project 03: Exploring Textual Corpora\n",
    "\n",
    "- **Due**: Tuesday, 23 October 2018; 12:00pm\n",
    "- **Total Points**: 170\n",
    "    - select a reasonable corpus and upload all of the required files, 30 points\n",
    "    - produce a good set of topic labels, 40 points\n",
    "    - produce a good set of topic labels, 40 points\n",
    "    - select a good title and image for the front index page, 20 points\n",
    "    - produce interesting insights in the introductory paragraphs, 40 points\n",
    "\n",
    "In this project you will select a set of Wikipedia pages that you want to\n",
    "investigate and create Wikipedia Text Explorer page for the corpus. You need\n",
    "to name, as best you can, all of the topics and clusters produced by the \n",
    "explorer and fill in a short expository description of what you found interesting\n",
    "in the analysis.\n",
    "\n",
    "Here are the steps that you need to follow:\n",
    "\n",
    "1. Select a corpus of Wikipedia pages, preferable something that includes 200-1000\n",
    "pages. *You should have some research question behind your set, specifically you \n",
    "should have some interesting thoughts about what types of relationships of forms of\n",
    "representation will show up in the collection*.\n",
    "2. Create a Wikipedia Text Explorer page for the corpus. Play around with the number\n",
    "of topics and clusters until things look nice. Not every cluster nor topic will \n",
    "be understandable, but at least some should make sense to you. Hint: you may find\n",
    "that reducing the number of topics to 15 or 20 helps a lot.\n",
    "3. Name, as best as you can, the topics and clusters. Feel free to give multiple \n",
    "names such as \"oceans/writers\" when the topic or cluster seems to contain more than\n",
    "one set of things (this happens frequently). Don't worry about the tricky ones, these\n",
    "can be labeled \"other 1\", \"other 2\", ect.; pay more attention to the clusters that\n",
    "make sense.\n",
    "4. Recreate the Wikipedia Text Explorer page with all of the filled in topic and\n",
    "clusters.\n",
    "5. Finally, edit the 'index.html' page (Note: the code will not overwrite this file if\n",
    "it exists) to have your own title, image, and 2-3 short paragraphs of expository text\n",
    "about the corpus. Try to focus on a few interesting details rather than just summarizing\n",
    "the entire dataset. Also, try to make at least one link to a section tag in your HTML\n",
    "file (I can help with this if you need).\n",
    "\n",
    "Starter code is given below.\n",
    "\n",
    "**For submission, make sure to upload all of the html files. You should also\n",
    "upload this project file.**"
   ]
  },
  {
   "cell_type": "markdown",
   "metadata": {},
   "source": [
    "There is not much code that you need to write this time. Here is some to get you\n",
    "started. Start by reading in all of the modules:"
   ]
  },
  {
   "cell_type": "code",
   "execution_count": null,
   "metadata": {},
   "outputs": [],
   "source": [
    "import wiki\n",
    "import iplot\n",
    "import wikitext"
   ]
  },
  {
   "cell_type": "code",
   "execution_count": null,
   "metadata": {},
   "outputs": [],
   "source": [
    "assert wiki.__version__ >= 6\n",
    "assert wikitext.__version__ >= 2\n",
    "assert iplot.__version__ >= 3"
   ]
  },
  {
   "cell_type": "markdown",
   "metadata": {},
   "source": [
    "Now modify the following to create a dataset. "
   ]
  },
  {
   "cell_type": "code",
   "execution_count": null,
   "metadata": {},
   "outputs": [],
   "source": [
    "links = wikitext.get_internal_links('List_of_important_publications_in_philosophy') \n",
    "links['ilinks']\n",
    "wcorp = wikitext.WikiCorpus(links['ilinks'], num_clusters=40, num_topics=15)"
   ]
  },
  {
   "cell_type": "markdown",
   "metadata": {},
   "source": [
    "And create a version of the text explorer:"
   ]
  },
  {
   "cell_type": "code",
   "execution_count": null,
   "metadata": {},
   "outputs": [],
   "source": [
    "wikitext.wiki_text_explorer(wcorp, output_dir=\"philosophy-pub\")"
   ]
  },
  {
   "cell_type": "markdown",
   "metadata": {},
   "source": [
    "**Only once you are satisfied with the page, uncomment and\n",
    "run the following snippet of code. Make sure you recomment it\n",
    "so as not to overwrite your JSON file.**"
   ]
  },
  {
   "cell_type": "code",
   "execution_count": null,
   "metadata": {},
   "outputs": [],
   "source": [
    "#import json\n",
    "#with open('philosophy-pub.json', 'w') as fout:\n",
    "#    json.dump(wcorp.json_meta_template(), fout, indent=2)"
   ]
  },
  {
   "cell_type": "markdown",
   "metadata": {},
   "source": [
    "Then, you can re-create the page with the filled in categories."
   ]
  },
  {
   "cell_type": "code",
   "execution_count": null,
   "metadata": {},
   "outputs": [],
   "source": [
    "wikitext.wiki_text_explorer(wcorp, input_file=\"philosophy-pub.json\", output_dir=\"philosophy-pub\")"
   ]
  },
  {
   "cell_type": "markdown",
   "metadata": {},
   "source": [
    "Finally, fill in the code on the 'index.html' page."
   ]
  },
  {
   "cell_type": "code",
   "execution_count": null,
   "metadata": {},
   "outputs": [],
   "source": [
    "random_input = [\"I like ducks.\", \"I also like cake.\", \"\"]"
   ]
  }
 ],
 "metadata": {
  "kernelspec": {
   "display_name": "Python 3",
   "language": "python",
   "name": "python3"
  },
  "language_info": {
   "codemirror_mode": {
    "name": "ipython",
    "version": 3
   },
   "file_extension": ".py",
   "mimetype": "text/x-python",
   "name": "python",
   "nbconvert_exporter": "python",
   "pygments_lexer": "ipython3",
   "version": "3.6.6"
  }
 },
 "nbformat": 4,
 "nbformat_minor": 2
}
