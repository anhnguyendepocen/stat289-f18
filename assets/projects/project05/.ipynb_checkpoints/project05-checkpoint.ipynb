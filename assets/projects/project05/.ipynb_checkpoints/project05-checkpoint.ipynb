{
 "cells": [
  {
   "cell_type": "markdown",
   "metadata": {},
   "source": [
    "## Project 05: Wikipedia Page Histories\n",
    "\n",
    "- **Due**: (essay and project) Tuesday, 4 December 2018; 12:00pm\n",
    "- **Total Points**: 350\n",
    "    - selected and described a coherent corpus for analysis, 40 points\n",
    "    - completed a thoughtful, well-written essay on your topic, 320 points\n",
    "    - oral presentation is clear and rehearsed, 40 points\n",
    "    \n",
    "This projects serves as the \"final\" project for the semester. It has several\n",
    "components that we will build up to through the final week of classes. You must\n",
    "again create a set of interactive webpages, as in Projects 3 and 4, but this\n",
    "time the set should be smaller and more focused. At the same time, your analysis\n",
    "will also include information about page histories. \n",
    "\n",
    "Here are the steps that you should take, roughly in order, for the project:\n",
    "\n",
    "1. Run my sample code below exactly as-is. This will create a page for the page\n",
    "histories of 6 well-known philosophers. Click around and see all of the information\n",
    "that is shown for the pages. Note that I have manually written the pages that I want\n",
    "to include as a text file.\n",
    "2. Select a topic that you want to study for this analysis, which should contain\n",
    "anywhere from about 30-200 pages. Start by filling in just a few links and doing\n",
    "another test run. Look at the pages and think about what information is captured\n",
    "and shown.\n",
    "3. Finish filling in the links and having Python pull all of the data. You should\n",
    "now have a reasonable looking corpus to study.\n",
    "4. Now, write a short essay about the collection, the methods you used, and\n",
    "interesting patterns. Connect this with some other literature on your topic of \n",
    "interest and include citations. Note that this is the largest component of your\n",
    "grade! I expect somewhere around 1000-1500 words of content. Please write this in\n",
    "either LaTeX or Word. \n",
    "5. In class on December 4th, the website and essay are due. That day we will\n",
    "put your essay into the index page of your site and show you how to publish your\n",
    "results.\n",
    "6. On the last day of class, December 6th, you will briefly present your site to\n",
    "rest of the class.\n",
    "\n",
    "**Make sure to hand this file, your list of pages, your essay, and the entire website, \n",
    "online on GitHub prior to the due date.**"
   ]
  },
  {
   "cell_type": "markdown",
   "metadata": {},
   "source": [
    "### Application\n",
    "\n",
    "The only thing you need to change with the code this time is the parameter\n",
    "`page_name`. Otherwise all of your changes will come from changing the data\n",
    "found in the file `page-names.txt`."
   ]
  },
  {
   "cell_type": "code",
   "execution_count": null,
   "metadata": {},
   "outputs": [],
   "source": [
    "import wiki\n",
    "import wikitext\n",
    "import wikihistory"
   ]
  },
  {
   "cell_type": "code",
   "execution_count": null,
   "metadata": {},
   "outputs": [],
   "source": [
    "with open('page-names.txt', 'rt', encoding='UTF-8') as finput:\n",
    "    links = [x for x in finput.read().splitlines() if x]"
   ]
  },
  {
   "cell_type": "code",
   "execution_count": null,
   "metadata": {},
   "outputs": [],
   "source": [
    "links"
   ]
  },
  {
   "cell_type": "code",
   "execution_count": null,
   "metadata": {},
   "outputs": [],
   "source": [
    "wcorp = wikitext.WikiCorpus(links, num_clusters=2)"
   ]
  },
  {
   "cell_type": "code",
   "execution_count": null,
   "metadata": {},
   "outputs": [],
   "source": [
    "wikitext.wiki_text_explorer(wcorp, page_name=\"Philosophy\")"
   ]
  },
  {
   "cell_type": "code",
   "execution_count": null,
   "metadata": {
    "scrolled": false
   },
   "outputs": [],
   "source": [
    "wikihistory.wiki_text_explore_page(wcorp, page_name=\"Philosophy\")"
   ]
  },
  {
   "cell_type": "code",
   "execution_count": null,
   "metadata": {},
   "outputs": [],
   "source": [
    "z = wiki.get_wiki_json(\"Plato\")"
   ]
  },
  {
   "cell_type": "code",
   "execution_count": null,
   "metadata": {},
   "outputs": [],
   "source": []
  }
 ],
 "metadata": {
  "kernelspec": {
   "display_name": "Python 3",
   "language": "python",
   "name": "python3"
  },
  "language_info": {
   "codemirror_mode": {
    "name": "ipython",
    "version": 3
   },
   "file_extension": ".py",
   "mimetype": "text/x-python",
   "name": "python",
   "nbconvert_exporter": "python",
   "pygments_lexer": "ipython3",
   "version": "3.6.6"
  }
 },
 "nbformat": 4,
 "nbformat_minor": 2
}
