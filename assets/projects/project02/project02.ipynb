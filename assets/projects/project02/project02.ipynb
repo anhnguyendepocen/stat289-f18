{
 "cells": [
  {
   "cell_type": "markdown",
   "metadata": {},
   "source": [
    "## Project 02: Network Communities and Wikipedia Metrics\n",
    "\n",
    "- **Due**: Tuesday, 4 October 2018; 12:00pm\n",
    "- **Total Points**: 70\n",
    "    - correctly produce the DataFrame object (Sec. 1), 25 points\n",
    "    - apply plots and models for centrality metrics (Sec. 2), 20 points\n",
    "    - analysis of community structures (Sec. 3), 25 points\n",
    "\n",
    "In this project, you'll be practicing the network algorithms and statistical\n",
    "modeling that we have been working on. Start by picking a starting page;\n",
    "a list is fine but it can actually by any page you want. Just make sure\n",
    "that the one you start with is relatively long (at least 500 internal links;\n",
    "1000 is better).\n",
    "\n",
    "As we did with the \"Richmond, Virginia\" page, you are going to create a network\n",
    "of all of the internal links from pages linked to from your starting page. Our\n",
    "two main questions will be:\n",
    "\n",
    "- What is the relationship between degree centrality and eigenvector centrality\n",
    "in the network you created? Are there outliers that are high in one metric but\n",
    "not in another?\n",
    "- What communities are formed within your datasets network structure?\n",
    "\n",
    "Complete the code and analysis below according to the instructions.\n",
    "\n",
    "**For submission, first make sure that all of the code runs using\n",
    "Kernel=>'Restart and Run All'. Then, use File=>'Download as...' and select\n",
    "HTML. Make sure to upload both the ipynb and html files. You can include the\n",
    "`wiki.py` and `iplot.py` but these are not required**"
   ]
  },
  {
   "cell_type": "markdown",
   "metadata": {},
   "source": [
    "### Section 01: Data collection\n",
    "\n",
    "In this first section you should gather your dataset, construct a network/graph\n",
    "object G, and create a pandas DataFrame that contains columns for: (1) a link/title\n",
    "for the page, (2) the eigenvalue centrality of the page, and (3) the degree centrality\n",
    "of the page.\n",
    "\n",
    "Use as many code chunks as you need."
   ]
  },
  {
   "cell_type": "code",
   "execution_count": null,
   "metadata": {},
   "outputs": [],
   "source": []
  },
  {
   "cell_type": "code",
   "execution_count": null,
   "metadata": {},
   "outputs": [],
   "source": []
  },
  {
   "cell_type": "code",
   "execution_count": null,
   "metadata": {},
   "outputs": [],
   "source": []
  },
  {
   "cell_type": "code",
   "execution_count": null,
   "metadata": {},
   "outputs": [],
   "source": []
  },
  {
   "cell_type": "code",
   "execution_count": null,
   "metadata": {},
   "outputs": [],
   "source": []
  },
  {
   "cell_type": "code",
   "execution_count": null,
   "metadata": {},
   "outputs": [],
   "source": []
  },
  {
   "cell_type": "code",
   "execution_count": null,
   "metadata": {},
   "outputs": [],
   "source": []
  },
  {
   "cell_type": "markdown",
   "metadata": {},
   "source": [
    "### Section 02: Centrality metrics\n",
    "\n",
    "In the code below, produce an interactive plot of the eigenvalue centrality \n",
    "and degree centrality for your network. Then, build a regression model that\n",
    "predicts eigenvalue centrality as a function of degree centrality. Write a\n",
    "paragraph or two (about 5-10 sentences) about the relationship between these\n",
    "metrics, any interesting outliers, and an hypothesis about why you are seeing\n",
    "the relationship that  you have.\n",
    "\n",
    "Again, use as many code and markdown cells as you need."
   ]
  },
  {
   "cell_type": "code",
   "execution_count": null,
   "metadata": {},
   "outputs": [],
   "source": []
  },
  {
   "cell_type": "code",
   "execution_count": null,
   "metadata": {},
   "outputs": [],
   "source": []
  },
  {
   "cell_type": "code",
   "execution_count": null,
   "metadata": {},
   "outputs": [],
   "source": []
  },
  {
   "cell_type": "code",
   "execution_count": null,
   "metadata": {},
   "outputs": [],
   "source": []
  },
  {
   "cell_type": "markdown",
   "metadata": {},
   "source": [
    "### Section 03: Communities\n",
    "\n",
    "Finally, find communities within your network graph object. Start with 25, but you can\n",
    "change that number depending on the results. Make sure to set the random seed so that\n",
    "your code is reproducable. Print out the pages within each community using the code I\n",
    "provided in the `networkx` tutorial.\n",
    "\n",
    "Using a markdown cell, describe at least 6 communities (reference them by the id number)."
   ]
  },
  {
   "cell_type": "code",
   "execution_count": null,
   "metadata": {},
   "outputs": [],
   "source": []
  },
  {
   "cell_type": "code",
   "execution_count": null,
   "metadata": {},
   "outputs": [],
   "source": []
  },
  {
   "cell_type": "code",
   "execution_count": null,
   "metadata": {},
   "outputs": [],
   "source": []
  },
  {
   "cell_type": "code",
   "execution_count": null,
   "metadata": {},
   "outputs": [],
   "source": []
  }
 ],
 "metadata": {
  "kernelspec": {
   "display_name": "Python 3",
   "language": "python",
   "name": "python3"
  },
  "language_info": {
   "codemirror_mode": {
    "name": "ipython",
    "version": 3
   },
   "file_extension": ".py",
   "mimetype": "text/x-python",
   "name": "python",
   "nbconvert_exporter": "python",
   "pygments_lexer": "ipython3",
   "version": "3.6.6"
  }
 },
 "nbformat": 4,
 "nbformat_minor": 2
}
