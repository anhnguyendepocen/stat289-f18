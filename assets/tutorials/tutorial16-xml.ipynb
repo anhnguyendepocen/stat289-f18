{
 "cells": [
  {
   "cell_type": "markdown",
   "metadata": {},
   "source": [
    "## Tutorial 16: Parsing XML\n",
    "\n",
    "Extensible Markup Language, more commonly know as XML, is a standard\n",
    "format for structuring documents and information. One particular\n",
    "extension is XHTML, a standard used to describe the content of webpages.\n",
    "\n",
    "We have already worked a bit with parsing the (X)HTML code returned from\n",
    "the MediaWiki API using regular expressions. Regular expressions are a\n",
    "great way to start, but for more extensive use a proper library that\n",
    "fully parses XML offers much more control and avoid common pitfalls. \n",
    "\n",
    "In these notes we see how to use the `xml` module to parse the text\n",
    "returned from Wikipedia. "
   ]
  },
  {
   "cell_type": "markdown",
   "metadata": {},
   "source": [
    "### Creating an ElementTree object\n",
    "\n",
    "It will be easier to understand how to parse XML code using a smaller\n",
    "example than we would get from Wikipedia. Here is a very simple snippet\n",
    "of code that contains a title and two paragraphs."
   ]
  },
  {
   "cell_type": "code",
   "execution_count": null,
   "metadata": {},
   "outputs": [],
   "source": [
    "html = \"\"\"<div>\n",
    "<h1 class='page'><i>A title in italics</i></h1>\n",
    "<p>Here is one paragraph of text with something in a <b>bold</b> font.</p>\n",
    "<p> Another paragraph! In this case I have <a href=\"https://github.com\">a link</a> that <i id='my'>you</i> click on.</p>\n",
    "</div>\n",
    "\"\"\"\n",
    "\n",
    "print(html)"
   ]
  },
  {
   "cell_type": "markdown",
   "metadata": {},
   "source": [
    "We start by reading in the submodule `xml.etree.ElementTree`. By convention,\n",
    "we'll save it as `ET`."
   ]
  },
  {
   "cell_type": "code",
   "execution_count": null,
   "metadata": {},
   "outputs": [],
   "source": [
    "import xml.etree.ElementTree as ET"
   ]
  },
  {
   "cell_type": "markdown",
   "metadata": {},
   "source": [
    "Next, use the `fromstring` function to take the string and convert it into an\n",
    "`ElementTree` object."
   ]
  },
  {
   "cell_type": "code",
   "execution_count": null,
   "metadata": {},
   "outputs": [],
   "source": [
    "tree = ET.fromstring(html)\n",
    "type(tree)"
   ]
  },
  {
   "cell_type": "markdown",
   "metadata": {},
   "source": [
    "The object has three element corresponding to the three top-level elements\n",
    "in the XML. Elements are accessed the same way they would be in a list: with\n",
    "square brackets and an index. The first element is our `h1` element:"
   ]
  },
  {
   "cell_type": "code",
   "execution_count": null,
   "metadata": {},
   "outputs": [],
   "source": [
    "print(tree[0])"
   ]
  },
  {
   "cell_type": "markdown",
   "metadata": {},
   "source": [
    "The second elements two are paragraph tags:"
   ]
  },
  {
   "cell_type": "code",
   "execution_count": null,
   "metadata": {},
   "outputs": [],
   "source": [
    "print(tree[1])\n",
    "print(tree[2])"
   ]
  },
  {
   "cell_type": "markdown",
   "metadata": {},
   "source": [
    "Also like a list, we can cycle through the elements with a `for` loop:"
   ]
  },
  {
   "cell_type": "code",
   "execution_count": null,
   "metadata": {},
   "outputs": [],
   "source": [
    "for child in tree:\n",
    "    print(child)"
   ]
  },
  {
   "cell_type": "markdown",
   "metadata": {},
   "source": [
    "Finally, we can also manually convert the tree to a list:"
   ]
  },
  {
   "cell_type": "code",
   "execution_count": null,
   "metadata": {},
   "outputs": [],
   "source": [
    "list(tree)"
   ]
  },
  {
   "cell_type": "markdown",
   "metadata": {},
   "source": [
    "Typically there is not much reason to manually convert an `ElementTree`\n",
    "into a list in your final code, but it can be very useful when testing\n",
    "and debugging."
   ]
  },
  {
   "cell_type": "markdown",
   "metadata": {},
   "source": [
    "### Working with XML Elements\n",
    "\n",
    "Let's take the first element of tree, the title of our document."
   ]
  },
  {
   "cell_type": "code",
   "execution_count": null,
   "metadata": {},
   "outputs": [],
   "source": [
    "child = tree[0]"
   ]
  },
  {
   "cell_type": "markdown",
   "metadata": {},
   "source": [
    "There are several useful properties given to us by the element.\n",
    "The `tag` properties of the element is a string giving the type \n",
    "of element."
   ]
  },
  {
   "cell_type": "code",
   "execution_count": null,
   "metadata": {},
   "outputs": [],
   "source": [
    "child.tag"
   ]
  },
  {
   "cell_type": "markdown",
   "metadata": {},
   "source": [
    "The `attrib` property is a dictionary that yields the properties (if there are any)\n",
    "of the XML tag. Looking at the 'h1' element in the example, we see that there is an\n",
    "attribute named 'class' that's equal to 'page'. "
   ]
  },
  {
   "cell_type": "code",
   "execution_count": null,
   "metadata": {},
   "outputs": [],
   "source": [
    "child.attrib"
   ]
  },
  {
   "cell_type": "markdown",
   "metadata": {},
   "source": [
    "Finally, the property `text` contains the actual text *inside* of the element. "
   ]
  },
  {
   "cell_type": "code",
   "execution_count": null,
   "metadata": {},
   "outputs": [],
   "source": [
    "child.text"
   ]
  },
  {
   "cell_type": "markdown",
   "metadata": {},
   "source": [
    "You should notice that there is **no** text in the tag? What's going on here?!\n",
    "If you look at the XML input, there is an 'i' tag inside of the 'h1' tag and all\n",
    "of the text is inside of *this* tag. We can see all of the elements inside of 'h1',\n",
    "as above, using the `list` function:"
   ]
  },
  {
   "cell_type": "code",
   "execution_count": null,
   "metadata": {},
   "outputs": [],
   "source": [
    "list(child)"
   ]
  },
  {
   "cell_type": "markdown",
   "metadata": {},
   "source": [
    "This child of the child has a tag equal to 'i' (its an italic symbol in HTML):"
   ]
  },
  {
   "cell_type": "code",
   "execution_count": null,
   "metadata": {},
   "outputs": [],
   "source": [
    "child[0].tag"
   ]
  },
  {
   "cell_type": "markdown",
   "metadata": {},
   "source": [
    "But no attributes:"
   ]
  },
  {
   "cell_type": "code",
   "execution_count": null,
   "metadata": {},
   "outputs": [],
   "source": [
    "child[0].attrib"
   ]
  },
  {
   "cell_type": "markdown",
   "metadata": {},
   "source": [
    "However, it **does** have a text property containg the actual text:"
   ]
  },
  {
   "cell_type": "code",
   "execution_count": null,
   "metadata": {},
   "outputs": [],
   "source": [
    "child[0].text"
   ]
  },
  {
   "cell_type": "markdown",
   "metadata": {},
   "source": [
    "Let's now work with the first paragraph element:"
   ]
  },
  {
   "cell_type": "code",
   "execution_count": null,
   "metadata": {},
   "outputs": [],
   "source": [
    "child = tree[1]\n",
    "child.tag"
   ]
  },
  {
   "cell_type": "markdown",
   "metadata": {},
   "source": [
    "As you should expect, it has a 'b' (bold) element inside of it:"
   ]
  },
  {
   "cell_type": "code",
   "execution_count": null,
   "metadata": {},
   "outputs": [],
   "source": [
    "list(child)"
   ]
  },
  {
   "cell_type": "markdown",
   "metadata": {},
   "source": [
    "What happens if we try to grab the text?"
   ]
  },
  {
   "cell_type": "code",
   "execution_count": null,
   "metadata": {},
   "outputs": [],
   "source": [
    "child.text"
   ]
  },
  {
   "cell_type": "markdown",
   "metadata": {},
   "source": [
    "It only contains the text *up to* the 'b' tag, similar to what happened\n",
    "with the title element... This could get be very difficult to work with\n",
    "if we wanted all of the information inside of a paragraph or other element.\n",
    "The solution is to use the method `itertext`; it (when converted into a\n",
    "list) returns all of the text inside of an element. "
   ]
  },
  {
   "cell_type": "code",
   "execution_count": null,
   "metadata": {},
   "outputs": [],
   "source": [
    "list(child.itertext())"
   ]
  },
  {
   "cell_type": "markdown",
   "metadata": {},
   "source": [
    "The individual elements can be combined by using the function `join`:"
   ]
  },
  {
   "cell_type": "code",
   "execution_count": null,
   "metadata": {},
   "outputs": [],
   "source": [
    "\"\".join(child.itertext())"
   ]
  },
  {
   "cell_type": "markdown",
   "metadata": {},
   "source": [
    "### Loops and XPath Expression\n",
    "\n",
    "We now have the basic elements for working with an XML document. If we wanted,\n",
    "for example, to get a list with one element for each paragraph we could use a\n",
    "`for` loop and `if` statement:"
   ]
  },
  {
   "cell_type": "code",
   "execution_count": null,
   "metadata": {},
   "outputs": [],
   "source": [
    "p = []\n",
    "for child in tree:\n",
    "    if child.tag == \"p\":\n",
    "        text = \"\".join(child.itertext())\n",
    "        p.append(text)\n",
    "        \n",
    "p"
   ]
  },
  {
   "cell_type": "markdown",
   "metadata": {},
   "source": [
    "For some applications, this approach (cycling through children) is ideal.\n",
    "One drawback, however, is that it becomes difficult to find elements that\n",
    "might be buried deeper in the XML tree. For example, if we wanted all links\n",
    "in the document.\n",
    "\n",
    "A way to address this is to use a notation called an *XPath Expression* that\n",
    "describes a element in an XML document. We won't go into the\n",
    "[full spec](https://www.w3.org/TR/xpath-31/) for XPath expression, but will\n",
    "show a few examples that will be most useful.\n",
    "\n",
    "To use an XPath expression to find nodes in an `ElementTree`, we use the\n",
    "`findall` method. A simply query simply just starts with './/' (this means \n",
    "that the tag can start anywhere) and includes the name of the tags that you\n",
    "want to find:"
   ]
  },
  {
   "cell_type": "code",
   "execution_count": null,
   "metadata": {},
   "outputs": [],
   "source": [
    "list(tree.findall(\".//i\"))"
   ]
  },
  {
   "cell_type": "markdown",
   "metadata": {},
   "source": [
    "If you want to find one element inside of another, use a `/`. For example,\n",
    "this finds italics tags inside of a paragraph:"
   ]
  },
  {
   "cell_type": "code",
   "execution_count": null,
   "metadata": {},
   "outputs": [],
   "source": [
    "list(tree.findall(\".//p/i\"))"
   ]
  },
  {
   "cell_type": "markdown",
   "metadata": {},
   "source": [
    "Finally, we can specific attributes using square brackets:"
   ]
  },
  {
   "cell_type": "code",
   "execution_count": null,
   "metadata": {},
   "outputs": [],
   "source": [
    "list(tree.findall(\".//i[@id='my']\"))"
   ]
  },
  {
   "cell_type": "markdown",
   "metadata": {},
   "source": [
    "These will go a long way towards letting us parse information in\n",
    "the Wikipedia XML output."
   ]
  },
  {
   "cell_type": "markdown",
   "metadata": {},
   "source": [
    "### Wikipedia Application\n",
    "\n",
    "Let's try to apply what we have now seen to some actual data from Wikipedia. Load\n",
    "the `wiki` module:"
   ]
  },
  {
   "cell_type": "code",
   "execution_count": null,
   "metadata": {},
   "outputs": [],
   "source": [
    "import wiki\n",
    "\n",
    "assert wiki.__version__ >= 3"
   ]
  },
  {
   "cell_type": "markdown",
   "metadata": {},
   "source": [
    "And pull up the page on *Plato* (it will be useful to also open\n",
    "the [Paris page](https://en.wikipedia.org/wiki/Paris) itself.)"
   ]
  },
  {
   "cell_type": "code",
   "execution_count": null,
   "metadata": {
    "scrolled": true
   },
   "outputs": [],
   "source": [
    "data = wiki.get_wiki_json(\"Paris\")\n",
    "html = data['text']['*']\n",
    "html[:1000]"
   ]
  },
  {
   "cell_type": "markdown",
   "metadata": {},
   "source": [
    "Now, create a `xml.etree.ElementTree.Element` object named `tree` from the\n",
    "html data."
   ]
  },
  {
   "cell_type": "code",
   "execution_count": null,
   "metadata": {},
   "outputs": [],
   "source": []
  },
  {
   "cell_type": "markdown",
   "metadata": {},
   "source": [
    "Using a for loop, create a list named `p` with one element for each paragraph in `tree` \n",
    "containing all of the text in the paragraph."
   ]
  },
  {
   "cell_type": "code",
   "execution_count": null,
   "metadata": {},
   "outputs": [],
   "source": []
  },
  {
   "cell_type": "markdown",
   "metadata": {},
   "source": [
    "The element `p[0]` should contain just four new lines. Check to make sure\n",
    "that `p[1]` matches the first real paragraph on the Wikipedia page."
   ]
  },
  {
   "cell_type": "code",
   "execution_count": null,
   "metadata": {
    "scrolled": true
   },
   "outputs": [],
   "source": []
  },
  {
   "cell_type": "markdown",
   "metadata": {},
   "source": [
    "Using an XPath expression, find all of the 'h2' elements (you do not need to save them).\n",
    "These correspond to the section headings in the article. "
   ]
  },
  {
   "cell_type": "code",
   "execution_count": null,
   "metadata": {
    "scrolled": false
   },
   "outputs": [],
   "source": []
  },
  {
   "cell_type": "markdown",
   "metadata": {},
   "source": [
    "Now, there is a 'span' element inside of the headers of class \"mw-headline\"\n",
    "that contains the actual text of the section. Write an XPath expression that\n",
    "grabs these elements and store them as a variable named `headings`:"
   ]
  },
  {
   "cell_type": "code",
   "execution_count": null,
   "metadata": {},
   "outputs": [],
   "source": []
  },
  {
   "cell_type": "markdown",
   "metadata": {},
   "source": [
    "Now, cycle through the headings, extract the `text` element and append these\n",
    "two a list named `headings_text`:"
   ]
  },
  {
   "cell_type": "code",
   "execution_count": null,
   "metadata": {},
   "outputs": [],
   "source": []
  },
  {
   "cell_type": "markdown",
   "metadata": {},
   "source": [
    "Print out the object `headings_text`:"
   ]
  },
  {
   "cell_type": "code",
   "execution_count": null,
   "metadata": {
    "scrolled": false
   },
   "outputs": [],
   "source": []
  },
  {
   "cell_type": "markdown",
   "metadata": {},
   "source": [
    "Verify that these links match those on the page."
   ]
  },
  {
   "cell_type": "markdown",
   "metadata": {},
   "source": [
    "Finally, there is a special Wikipedia XML span element of class 'geo'.\n",
    "The page may contain many of these, but we only need to the first so\n",
    "use `tree.find` in place of `tree.findall`. In the code below, find this\n",
    "first element and extract the text:"
   ]
  },
  {
   "cell_type": "code",
   "execution_count": null,
   "metadata": {},
   "outputs": [],
   "source": []
  },
  {
   "cell_type": "markdown",
   "metadata": {},
   "source": [
    "You should see the string '48.8567; 2.3508'. This is the latitude and longitude of\n",
    "Paris. We would be able to automate detection of this information to add context to\n",
    "any pages with an associate latitude and longitude."
   ]
  },
  {
   "cell_type": "code",
   "execution_count": null,
   "metadata": {},
   "outputs": [],
   "source": []
  }
 ],
 "metadata": {
  "kernelspec": {
   "display_name": "Python 3",
   "language": "python",
   "name": "python3"
  },
  "language_info": {
   "codemirror_mode": {
    "name": "ipython",
    "version": 3
   },
   "file_extension": ".py",
   "mimetype": "text/x-python",
   "name": "python",
   "nbconvert_exporter": "python",
   "pygments_lexer": "ipython3",
   "version": "3.6.6"
  }
 },
 "nbformat": 4,
 "nbformat_minor": 2
}
