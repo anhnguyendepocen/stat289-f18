{
 "cells": [
  {
   "cell_type": "markdown",
   "metadata": {},
   "source": [
    "## Tutorial 21: Customizing wikitext exlorer\n",
    "\n",
    "The third and four projects require you to build a corpus of pages\n",
    "and apply the Wiki Text Explorer code to this corpus. Today I will\n",
    "show you a few other details for putting together your projects.\n",
    "Start by loading the "
   ]
  },
  {
   "cell_type": "code",
   "execution_count": null,
   "metadata": {},
   "outputs": [],
   "source": [
    "import wiki\n",
    "import iplot\n",
    "import wikitext"
   ]
  },
  {
   "cell_type": "code",
   "execution_count": null,
   "metadata": {},
   "outputs": [],
   "source": [
    "assert wiki.__version__ >= 6\n",
    "assert wikitext.__version__ >= 2\n",
    "assert iplot.__version__ >= 3"
   ]
  },
  {
   "cell_type": "markdown",
   "metadata": {},
   "source": [
    "### Getting internal links\n",
    "\n",
    "The new `wikitext` module include a function `get_internal_links` that\n",
    "takes a link to a Wikipedia page and returns a dictionary with three elements."
   ]
  },
  {
   "cell_type": "code",
   "execution_count": null,
   "metadata": {},
   "outputs": [],
   "source": [
    "links_us = wikitext.get_internal_links('History_of_the_United_States')\n",
    "links_us.keys()"
   ]
  },
  {
   "cell_type": "markdown",
   "metadata": {},
   "source": [
    "The element 'ilinks' includes all links given on the page. The 'ilinks_p' are\n",
    "all links contained within paragraph tags, and 'ilinks_li' are all links given\n",
    "inside of list items (before bullet points). We can use all of these to build\n",
    "a corpus of interest for your projects."
   ]
  },
  {
   "cell_type": "markdown",
   "metadata": {},
   "source": [
    "### Customizing topic and cluster names\n",
    "\n",
    "Now, let's say that you've created a `WikiCorpus` object, such as this one:"
   ]
  },
  {
   "cell_type": "code",
   "execution_count": null,
   "metadata": {},
   "outputs": [],
   "source": [
    "wcorp = wikitext.WikiCorpus(links_us['ilinks_p'])"
   ]
  },
  {
   "cell_type": "markdown",
   "metadata": {},
   "source": [
    "There is a method provided by `wcorp` that produces a dictionary object with\n",
    "template names for all of the topics and clusters in our corpus. Here we will\n",
    "use it to store the file as a file named 'history-us.json':"
   ]
  },
  {
   "cell_type": "code",
   "execution_count": null,
   "metadata": {},
   "outputs": [],
   "source": [
    "import json\n",
    "\n",
    "with open('history-us.json', 'w') as fout:\n",
    "    json.dump(wcorp.json_meta_template(), fout, indent=2)"
   ]
  },
  {
   "cell_type": "markdown",
   "metadata": {},
   "source": [
    "Now, open the file through Jupyter notebook (or your favorite text editor). Change\n",
    "the name of the first topic and now create the Text Explorer output:"
   ]
  },
  {
   "cell_type": "code",
   "execution_count": null,
   "metadata": {},
   "outputs": [],
   "source": [
    "wikitext.wiki_text_explorer(wcorp, input_file=\"history-us.json\")"
   ]
  },
  {
   "cell_type": "markdown",
   "metadata": {},
   "source": [
    "You should see that the page now names the first topic whatever you renamed it to.\n",
    "A large part of the next project involves constructing names for all of your topics."
   ]
  },
  {
   "cell_type": "code",
   "execution_count": null,
   "metadata": {},
   "outputs": [],
   "source": []
  }
 ],
 "metadata": {
  "kernelspec": {
   "display_name": "Python 3",
   "language": "python",
   "name": "python3"
  },
  "language_info": {
   "codemirror_mode": {
    "name": "ipython",
    "version": 3
   },
   "file_extension": ".py",
   "mimetype": "text/x-python",
   "name": "python",
   "nbconvert_exporter": "python",
   "pygments_lexer": "ipython3",
   "version": "3.6.6"
  }
 },
 "nbformat": 4,
 "nbformat_minor": 2
}
