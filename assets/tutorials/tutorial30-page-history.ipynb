{
 "cells": [
  {
   "cell_type": "markdown",
   "metadata": {},
   "source": [
    "## Tutorial 30: MediaWiki Page History\n",
    "\n",
    "Here, we return to our study of the MediaWiki API. This will be a useful\n",
    "review of how to grab and parse data, both are key steps in doing work in\n",
    "data science. Specifically, we will see how to grab and parse the history\n",
    "of a wikipedia page.\n",
    "\n",
    "Start by loading some useful modules:"
   ]
  },
  {
   "cell_type": "code",
   "execution_count": null,
   "metadata": {},
   "outputs": [],
   "source": [
    "import json\n",
    "import os\n",
    "from os.path import join\n",
    "import re\n",
    "import requests\n",
    "\n",
    "import wiki\n",
    "import iplot\n",
    "import matplotlib.pyplot as plt"
   ]
  },
  {
   "cell_type": "markdown",
   "metadata": {},
   "source": [
    "I am going to demonstrate at first using the Wikipedia page for\n",
    "coffee. You'll be able to look at other pages later in the tutorial.\n",
    "To start, let's grab the page JSON file (either from disk or downloaded\n",
    "through the functions provided in `wiki.py`). I'll also print out the\n",
    "keys in the returned dictionary object."
   ]
  },
  {
   "cell_type": "code",
   "execution_count": null,
   "metadata": {},
   "outputs": [],
   "source": [
    "page_json = wiki.get_wiki_json(\"Coffee\")\n",
    "page_json.keys()"
   ]
  },
  {
   "cell_type": "markdown",
   "metadata": {},
   "source": [
    "We have not done anything with the 'revid', but this will be key for our work\n",
    "today. The 'revid' is a unique key that describes a particular version of a page.\n",
    "It is unique *on it's own*; you do not need to combine it with the 'pageid' (I \n",
    "found this confusing in the MediaWiki documentation). "
   ]
  },
  {
   "cell_type": "markdown",
   "metadata": {},
   "source": [
    "### Query API\n",
    "\n",
    "In order to get previous revision ids for a given page, we need to use the \n",
    "'query' API. Last time, and throughout the semester so far, we have been only\n",
    "using the 'parse' functionality of the MediaWiki API. Let's see how the query\n",
    "API works. Recall that we need a base API URL that the query is sent to. This\n",
    "remains unchanged from tutorial 8:"
   ]
  },
  {
   "cell_type": "code",
   "execution_count": null,
   "metadata": {},
   "outputs": [],
   "source": [
    "lang = 'en'\n",
    "base_api_url = 'https://' + lang + '.wikipedia.org/w/api.php?'\n",
    "base_api_url"
   ]
  },
  {
   "cell_type": "markdown",
   "metadata": {},
   "source": [
    "Now, we produce a query by providing variable keys separated by the\n",
    "amperstand (&) symbol. For the query API we need to specify the following:\n",
    "\n",
    "- `action=query` to describe the action that we want to take\n",
    "- `format=json` to let the API know we want data returned as JSON objects\n",
    "- `prop=revisions` to tell the API that we want to see the page revisions\n",
    "- `rvprop=ids|flags|timestamp|comment|user` indicate what data to return\n",
    "about the revision\n",
    "- `rvstartid=######` to indicate the revision we want to start at, with the\n",
    "proper revid filled in for the `########`\n",
    "\n",
    "\n",
    "Start by extracting the revid for the Coffee page: "
   ]
  },
  {
   "cell_type": "code",
   "execution_count": null,
   "metadata": {},
   "outputs": [],
   "source": [
    "pageid = page_json['pageid']\n",
    "pageid"
   ]
  },
  {
   "cell_type": "code",
   "execution_count": null,
   "metadata": {},
   "outputs": [],
   "source": [
    "revid = page_json['revid']\n",
    "revid"
   ]
  },
  {
   "cell_type": "markdown",
   "metadata": {},
   "source": [
    "And then construct the API query:"
   ]
  },
  {
   "cell_type": "code",
   "execution_count": null,
   "metadata": {},
   "outputs": [],
   "source": [
    "api_query = base_api_url + \"action=query&\" + \"format=json&\" + \\\n",
    "            \"prop=revisions&\" + \"rvprop=ids|flags|timestamp|comment|user&\" \\\n",
    "            \"pageids={0:d}&\".format(pageid) + \\\n",
    "            \"rvstartid={0:d}&\".format(revid)\n",
    "api_query"
   ]
  },
  {
   "cell_type": "markdown",
   "metadata": {},
   "source": [
    "Finally, we can call the API and have the page data returned to us. Take a few\n",
    "minutes to look at the output before moving on the next section."
   ]
  },
  {
   "cell_type": "code",
   "execution_count": null,
   "metadata": {
    "scrolled": false
   },
   "outputs": [],
   "source": [
    "r = requests.get(api_query)\n",
    "page_data = r.json()\n",
    "page_data"
   ]
  },
  {
   "cell_type": "markdown",
   "metadata": {},
   "source": [
    "What information is shown about revision? What information\n",
    "does the parameter 'parentid' give you about the revision?\n",
    "How many revisions are returned here?"
   ]
  },
  {
   "cell_type": "markdown",
   "metadata": {},
   "source": [
    "**Answer**:"
   ]
  },
  {
   "cell_type": "markdown",
   "metadata": {},
   "source": [
    "### Parsing page dates\n",
    "\n",
    "I want you to try writing some code again. Cycle through the output of `page_data` \n",
    "to produce a python list named `rev_years` that gives the year of each revision.\n",
    "Note: you might start by storing the entire time stamp and then modify the code to\n",
    "store just the year. Second note: You don't need to be too clever to get the year\n",
    "from the time stamp, just take the first four characters in the string."
   ]
  },
  {
   "cell_type": "code",
   "execution_count": null,
   "metadata": {},
   "outputs": [],
   "source": []
  },
  {
   "cell_type": "markdown",
   "metadata": {},
   "source": [
    "Once you have created the list `rev_years`, run the following to show how many\n",
    "revisions there are in each year."
   ]
  },
  {
   "cell_type": "code",
   "execution_count": null,
   "metadata": {},
   "outputs": [],
   "source": [
    "import collections\n",
    "\n",
    "collections.Counter(rev_years)"
   ]
  },
  {
   "cell_type": "markdown",
   "metadata": {},
   "source": [
    "The output likely won't be too interesting yet because you only have the first \n",
    "10 revisions of the page. Let's see how to rectify that now."
   ]
  },
  {
   "cell_type": "markdown",
   "metadata": {},
   "source": [
    "### Increasing the page limit\n",
    "\n",
    "By default, MediaWiki returns only the last 10 revisions. We can fetch up to\n",
    "500 revisions by adding the parameter `rvlimit=max` to the query. Modify the\n",
    "variable `api_query` and fetch the modifyied data. I suggest NOT printing out\n",
    "the results of `page_data` because there will be a lot of them!"
   ]
  },
  {
   "cell_type": "code",
   "execution_count": null,
   "metadata": {},
   "outputs": [],
   "source": []
  },
  {
   "cell_type": "markdown",
   "metadata": {},
   "source": [
    "Now, copy the code you had above to find the distribution of years for the first\n",
    "500 revisions."
   ]
  },
  {
   "cell_type": "code",
   "execution_count": null,
   "metadata": {},
   "outputs": [],
   "source": []
  },
  {
   "cell_type": "markdown",
   "metadata": {},
   "source": [
    "You should see about 112 revisions for 2018, 386 for 2017, and\n",
    "just 2 for 2016. This is a bit more interesting, but still not the\n",
    "whole story because even the maximum query returns just 500 pages."
   ]
  },
  {
   "cell_type": "markdown",
   "metadata": {},
   "source": [
    "### Continuing the query\n",
    "\n",
    "In order to get more results from the API we must place another query request.\n",
    "This is similar to seeing the \"next page\" of results on a site such as Google\n",
    "or Amazon when searching for a webpage or product. The idea here is common to\n",
    "many API's such as the ones used by Google, Twitter, and Facebook.\n",
    "\n",
    "Notice that the variable `page_data` contains an element named `continue`:"
   ]
  },
  {
   "cell_type": "code",
   "execution_count": null,
   "metadata": {},
   "outputs": [],
   "source": [
    "page_data['continue']"
   ]
  },
  {
   "cell_type": "markdown",
   "metadata": {},
   "source": [
    "Create a variable `api_query_continue` that adds the parameter\n",
    "`rvcontinue=######` with the `#####` filled in from the above value\n",
    "to the variable `api_query`. "
   ]
  },
  {
   "cell_type": "code",
   "execution_count": null,
   "metadata": {},
   "outputs": [],
   "source": []
  },
  {
   "cell_type": "markdown",
   "metadata": {},
   "source": [
    "Next, call this query and load the data into the variable `page_data`. "
   ]
  },
  {
   "cell_type": "code",
   "execution_count": null,
   "metadata": {},
   "outputs": [],
   "source": []
  },
  {
   "cell_type": "markdown",
   "metadata": {},
   "source": [
    "And now see the distribution of page years in this new chunk of data:"
   ]
  },
  {
   "cell_type": "code",
   "execution_count": null,
   "metadata": {},
   "outputs": [],
   "source": []
  },
  {
   "cell_type": "markdown",
   "metadata": {},
   "source": [
    "You should see about 322 revisions in 2016 and another 178 in 2015."
   ]
  },
  {
   "cell_type": "markdown",
   "metadata": {},
   "source": [
    "### Getting all of the pages\n",
    "\n",
    "We still do not have all of the Coffee pages, just the next 500 of them. In\n",
    "order to get all of the pages we have to cycle through these continue statements\n",
    "until we reach the end of the pages. Let's write the code to handle this now.\n",
    "Rather than just grabbing the years, we will construct a list of all the information\n",
    "about each revision.\n",
    "\n",
    "I've written the function here for you to generate the list of revisions, but\n",
    "you should be able to understand what is going on in all of the code. It spits\n",
    "out the progress of the API by showing the number of revisions grabbed as well\n",
    "as indicating what the last timestamp grabbed was."
   ]
  },
  {
   "cell_type": "code",
   "execution_count": null,
   "metadata": {},
   "outputs": [],
   "source": [
    "def wiki_page_revisions(page_title):\n",
    "    page_json = wiki.get_wiki_json(page_title)\n",
    "    pageid = page_json['pageid']\n",
    "    revid = page_json['revid']\n",
    "    \n",
    "    api_query = base_api_url + \"action=query&\" + \"format=json&\" + \\\n",
    "                \"prop=revisions&\" + \"rvprop=ids|flags|timestamp|comment|user&\" \\\n",
    "                \"rvlimit=max&\" + \\\n",
    "                \"pageids={0:d}&\".format(pageid) + \\\n",
    "                \"rvstartid={0:d}&\".format(revid)\n",
    "    r = requests.get(api_query)\n",
    "    page_data = r.json()\n",
    "\n",
    "    rev_data = page_data['query']['pages'][str(pageid)]['revisions']\n",
    "\n",
    "    while 'continue' in page_data:\n",
    "        api_query_continue = api_query + \\\n",
    "                             \"rvcontinue={0:s}&\".format(page_data['continue']['rvcontinue'])\n",
    "        r = requests.get(api_query_continue)\n",
    "        page_data = r.json()\n",
    "        rev_data += page_data['query']['pages'][str(pageid)]['revisions']\n",
    "        msg = \"Loaded {0:d} revisions, through {1:s}\"\n",
    "        print(msg.format(len(rev_data), rev_data[-1]['timestamp']))\n",
    "        \n",
    "    return rev_data"
   ]
  },
  {
   "cell_type": "code",
   "execution_count": null,
   "metadata": {
    "scrolled": false
   },
   "outputs": [],
   "source": [
    "rev_data = wiki_page_revisions(\"Coffee\")"
   ]
  },
  {
   "cell_type": "markdown",
   "metadata": {},
   "source": [
    "Just looking at the message output, how many revisions have been made to the\n",
    "Coffee page and when was the page first created?"
   ]
  },
  {
   "cell_type": "markdown",
   "metadata": {},
   "source": [
    "**Answer**:"
   ]
  },
  {
   "cell_type": "markdown",
   "metadata": {},
   "source": [
    "Modify your code you used above to grab the list `rev_years` from\n",
    "the list `rev_data` (the code will actually be a bit cleaner then\n",
    "getting it from the raw query JSON)."
   ]
  },
  {
   "cell_type": "code",
   "execution_count": null,
   "metadata": {},
   "outputs": [],
   "source": []
  },
  {
   "cell_type": "markdown",
   "metadata": {},
   "source": [
    "In what year were the most revisions completed? Has 2018 had an unusually high\n",
    "or lower number of revisions at this point in the year?"
   ]
  },
  {
   "cell_type": "markdown",
   "metadata": {},
   "source": [
    "**Answer**:"
   ]
  },
  {
   "cell_type": "markdown",
   "metadata": {},
   "source": [
    "Finally, you can even use the following code to produce a line plot of the\n",
    "number of revisions in each year."
   ]
  },
  {
   "cell_type": "code",
   "execution_count": null,
   "metadata": {},
   "outputs": [],
   "source": [
    "plt.rcParams[\"figure.figsize\"] = (12, 10)"
   ]
  },
  {
   "cell_type": "code",
   "execution_count": null,
   "metadata": {
    "scrolled": false
   },
   "outputs": [],
   "source": [
    "cnt = collections.Counter(rev_years).items()\n",
    "cnt = sorted(cnt, key=lambda x: x[0])\n",
    "plt.xticks(rotation=90)\n",
    "plt.plot([x[0] for x in cnt], [x[1] for x in cnt], 'k-', lw=2)"
   ]
  },
  {
   "cell_type": "markdown",
   "metadata": {},
   "source": [
    "### Revision data\n",
    "\n",
    "We now have some information about each of the page revisions, but we still have not\n",
    "seen how to grab the actual page data from a given revision. To do this, we need to\n",
    "return to the \"parse\" API with our revision ids in hand. Essentially, all we need to\n",
    "do is call the parse action, specify the format as JSON, and provid the revid to the\n",
    "parameter `oldid`. So, to get the very first version of the coffee page we would first\n",
    "get the revision id:"
   ]
  },
  {
   "cell_type": "code",
   "execution_count": null,
   "metadata": {},
   "outputs": [],
   "source": [
    "revid = rev_data[-1]['revid']\n",
    "revid"
   ]
  },
  {
   "cell_type": "markdown",
   "metadata": {},
   "source": [
    "And then place the following API query:"
   ]
  },
  {
   "cell_type": "code",
   "execution_count": null,
   "metadata": {},
   "outputs": [],
   "source": [
    "api_query = base_api_url + \"action=parse&\" + \"format=json&\" + \\\n",
    "            \"oldid={0:d}&\".format(revid)\n",
    "r = requests.get(api_query)\n",
    "page_data = r.json()['parse']"
   ]
  },
  {
   "cell_type": "markdown",
   "metadata": {},
   "source": [
    "This page is now in the format we have been working with the rest of the semester but gives\n",
    "and old version of the page, way back from 2014."
   ]
  },
  {
   "cell_type": "code",
   "execution_count": null,
   "metadata": {},
   "outputs": [],
   "source": [
    "page_data.keys()"
   ]
  },
  {
   "cell_type": "markdown",
   "metadata": {},
   "source": [
    "It would be fun to see what this page actually looks like rendered as html.\n",
    "Let's write it to disk with some header information to make it look reasonable:"
   ]
  },
  {
   "cell_type": "code",
   "execution_count": null,
   "metadata": {},
   "outputs": [],
   "source": [
    "with open('temp.html', 'w') as fin:\n",
    "    fin.writelines(\"<html><body>\")\n",
    "    fin.writelines(page_data['text']['*'])\n",
    "    fin.writelines(\"</body></html>\")"
   ]
  },
  {
   "cell_type": "markdown",
   "metadata": {},
   "source": [
    "You should see that the page was very basic back in 2004!"
   ]
  },
  {
   "cell_type": "markdown",
   "metadata": {},
   "source": [
    "### A different page\n",
    "\n",
    "Repeat the code above (you can drop all of the steps into one or two code blocks)\n",
    "to look at another page that interests you."
   ]
  },
  {
   "cell_type": "code",
   "execution_count": null,
   "metadata": {},
   "outputs": [],
   "source": []
  },
  {
   "cell_type": "markdown",
   "metadata": {},
   "source": [
    "How does the pattern of number of changes differ from the coffee page?"
   ]
  },
  {
   "cell_type": "markdown",
   "metadata": {},
   "source": [
    "**Answer**:"
   ]
  },
  {
   "cell_type": "markdown",
   "metadata": {},
   "source": [
    "### What next\n",
    "\n",
    "We certainly could grab the revision history for every change that has been made to the Coffee\n",
    "page. Most changes, though, are not particularly interesting on their own (at least for our level\n",
    "of study here). Instead, I want to focus on large-scale change over time by grabbing one page for\n",
    "each year in the collection. Starting with the values in `rev_data`, I want you to use the space\n",
    "below to grab the last version of the pages on Coffee for each year. That is, start with the \n",
    "current page, then get the last page from 2017, then 2016, and so forth until you get back to the\n",
    "page at the end of 2004. Store these pages as a list named `page_history`."
   ]
  },
  {
   "cell_type": "code",
   "execution_count": null,
   "metadata": {},
   "outputs": [],
   "source": [
    "# Note: run this cell just once to refresh the value in `rev_data`\n",
    "# from running the code to grab a different page above\n",
    "rev_data = wiki_page_revisions(\"Coffee\")"
   ]
  },
  {
   "cell_type": "code",
   "execution_count": null,
   "metadata": {},
   "outputs": [],
   "source": []
  },
  {
   "cell_type": "markdown",
   "metadata": {},
   "source": [
    "Then, when you are done with that, cycle through the pages to extract the length of the\n",
    "page in characters, the number of internal links, the number of external links, the \n",
    "number of images, and the number of sections."
   ]
  },
  {
   "cell_type": "code",
   "execution_count": null,
   "metadata": {
    "scrolled": true
   },
   "outputs": [],
   "source": []
  },
  {
   "cell_type": "markdown",
   "metadata": {},
   "source": [
    "Finally, plot the data across time for each of these variables. For example,\n",
    "if you stored the data for the number of internal links as a list named\n",
    "`num_ilinks`, you should be able to run something like this:"
   ]
  },
  {
   "cell_type": "code",
   "execution_count": null,
   "metadata": {},
   "outputs": [],
   "source": [
    "plt.xticks(rotation=90)\n",
    "plt.plot(list(range(2018,2003,-1)), num_ilinks, 'k-', lw=2)"
   ]
  },
  {
   "cell_type": "markdown",
   "metadata": {},
   "source": [
    "Take note of any interesting patterns that arise over time with the pages."
   ]
  },
  {
   "cell_type": "markdown",
   "metadata": {},
   "source": [
    "### Even more practice\n",
    "\n",
    "My guess is that the above tasks will take up most of the class time. If you want\n",
    "extra practice or finish early, wrap up the code above in a function that takes \n",
    "just a page name and returns all of the metrics as a panda's DataFrame object. Include\n",
    "the timestamp as the first column of the data frame and make sure that you handle the\n",
    "case where the number of years may be different and there may even be no revisions\n",
    "in a given year."
   ]
  },
  {
   "cell_type": "code",
   "execution_count": null,
   "metadata": {},
   "outputs": [],
   "source": []
  },
  {
   "cell_type": "code",
   "execution_count": null,
   "metadata": {},
   "outputs": [],
   "source": []
  },
  {
   "cell_type": "code",
   "execution_count": null,
   "metadata": {},
   "outputs": [],
   "source": []
  }
 ],
 "metadata": {
  "kernelspec": {
   "display_name": "Python 3",
   "language": "python",
   "name": "python3"
  },
  "language_info": {
   "codemirror_mode": {
    "name": "ipython",
    "version": 3
   },
   "file_extension": ".py",
   "mimetype": "text/x-python",
   "name": "python",
   "nbconvert_exporter": "python",
   "pygments_lexer": "ipython3",
   "version": "3.6.6"
  }
 },
 "nbformat": 4,
 "nbformat_minor": 2
}
