{
 "cells": [
  {
   "cell_type": "markdown",
   "metadata": {},
   "source": [
    "## Tutorial 12: Networks and Algorithms\n",
    "\n",
    "In this very short tutorial, I'll introduce the changes I've made to the\n",
    "`wiki.py` file (you'll need to download it once again). Make sure that the\n",
    "follow code block runs without an error; it checks that you have an updated\n",
    "version of the code."
   ]
  },
  {
   "cell_type": "code",
   "execution_count": null,
   "metadata": {},
   "outputs": [],
   "source": [
    "import wiki\n",
    "\n",
    "assert wiki.__version__ >= 3"
   ]
  },
  {
   "cell_type": "markdown",
   "metadata": {},
   "source": [
    "**Before continuing, please delete all of the Wikipedia json files that you have\n",
    "downloaded. Trust me, it will be okay.**\n",
    "\n",
    "Now, I've made two major changes to the functions in `wiki.py`. First of all, let's\n",
    "see what happens when we download the Wikipedia page for Richmond:"
   ]
  },
  {
   "cell_type": "code",
   "execution_count": null,
   "metadata": {},
   "outputs": [],
   "source": [
    "data = wiki.get_wiki_json('Richmond,_Virginia')"
   ]
  },
  {
   "cell_type": "markdown",
   "metadata": {},
   "source": [
    "Now look at the saved data on your laptop:"
   ]
  },
  {
   "cell_type": "code",
   "execution_count": null,
   "metadata": {},
   "outputs": [],
   "source": [
    "import os\n",
    "\n",
    "os.listdir(os.path.join(os.path.dirname(os.getcwd()), \"data\", \"en\"))"
   ]
  },
  {
   "cell_type": "markdown",
   "metadata": {},
   "source": [
    "You should notice that the file is now saved as a `json.gz` file. This is a\n",
    "compressed version of the json file that can be read by Python. It is about\n",
    "4 times smaller than the raw files and should help us keep your machines with\n",
    "plenty of space as we use larger datasets."
   ]
  },
  {
   "cell_type": "markdown",
   "metadata": {},
   "source": [
    "### Bulk downloads\n",
    "\n",
    "As you noticed last class, it can take a while for everyone in class to download\n",
    "pages from Wikipedia. Its not so slow that you can't do it on your own time for\n",
    "specific projects, but becomes a pain when we are just sitting around waiting for\n",
    "pages to download (the internet in our room also slows down and we aren't being \n",
    "very nice to the MediaWiki API).\n",
    "\n",
    "As an alternative, I've written the function `wiki.bulk_download`. It allows you\n",
    "to grab a zip file from my server that contains all of the Wikipedia pages for a\n",
    "specific category. It should take care of all the details for you. Here is the \n",
    "help page:"
   ]
  },
  {
   "cell_type": "code",
   "execution_count": null,
   "metadata": {},
   "outputs": [],
   "source": [
    "help(wiki.bulk_download)"
   ]
  },
  {
   "cell_type": "markdown",
   "metadata": {},
   "source": [
    "Right now it points to the server that my Distant Viewing project sits, but I kept\n",
    "open the possibility that files may be put elsewhere in the future.\n",
    "\n",
    "Now, let's test this code with the following, which downloads all of the pages from\n",
    "Richmond Virginia (hopefully my server can keep up!)."
   ]
  },
  {
   "cell_type": "code",
   "execution_count": null,
   "metadata": {},
   "outputs": [],
   "source": [
    "wiki.bulk_download('richmond-va')"
   ]
  },
  {
   "cell_type": "markdown",
   "metadata": {},
   "source": [
    "It should say that it added 1125 files from an archive of 1126. What happened with\n",
    "the last file? You already had it from when you downloaded the page for 'Richmond, Virginia'.\n",
    "\n",
    "Here are two other bulk downloads that will be helpful to have:"
   ]
  },
  {
   "cell_type": "code",
   "execution_count": null,
   "metadata": {},
   "outputs": [],
   "source": [
    "wiki.bulk_download('birthday-cake')\n",
    "wiki.bulk_download('authors')"
   ]
  },
  {
   "cell_type": "markdown",
   "metadata": {},
   "source": [
    "The first should add 202 files and the second adds a much larger set of 10128\n",
    "(out of 10134). The overlaping 6 pages are authors that were linked to from the\n",
    "Richmond page. We will be using all three sets of data over the next few classes. "
   ]
  },
  {
   "cell_type": "markdown",
   "metadata": {},
   "source": [
    "#### Final task\n",
    "\n",
    "One drawback of the way I wrote the function `wiki.bulk_download` is that it has no\n",
    "way of knowing whether you've already downloaded a file. Therefore, it is a good idea\n",
    "to *comment out* the bulk download commands. We do this, recall, by adding the `#` symbol\n",
    "at the start of the bulk download lines. Do this above to the three download commands,\n",
    "so that they look like this:"
   ]
  },
  {
   "cell_type": "code",
   "execution_count": null,
   "metadata": {},
   "outputs": [],
   "source": [
    "# wiki.bulk_download('richmond-va')"
   ]
  },
  {
   "cell_type": "code",
   "execution_count": null,
   "metadata": {},
   "outputs": [],
   "source": []
  }
 ],
 "metadata": {
  "kernelspec": {
   "display_name": "Python 3",
   "language": "python",
   "name": "python3"
  },
  "language_info": {
   "codemirror_mode": {
    "name": "ipython",
    "version": 3
   },
   "file_extension": ".py",
   "mimetype": "text/x-python",
   "name": "python",
   "nbconvert_exporter": "python",
   "pygments_lexer": "ipython3",
   "version": "3.6.6"
  }
 },
 "nbformat": 4,
 "nbformat_minor": 2
}
