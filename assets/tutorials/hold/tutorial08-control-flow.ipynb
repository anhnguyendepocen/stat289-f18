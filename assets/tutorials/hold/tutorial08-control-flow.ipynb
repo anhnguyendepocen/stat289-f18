{
 "cells": [
  {
   "cell_type": "markdown",
   "metadata": {},
   "source": [
    "## Tutorial 08: Control Flow\n",
    "\n",
    "These notes are adapted from the Python tutorial available at: https://docs.python.org/3/tutorial/.\n",
    "\n",
    "Here we see write blocks of code that are run a variable number\n",
    "of times depending on conditional statements."
   ]
  },
  {
   "cell_type": "markdown",
   "metadata": {},
   "source": [
    "### `if` Statements\n",
    "\n",
    "We have so far written code where each line is run in order, exacty one\n",
    "time. To create more complex programs we need ways of optionally running\n",
    "code lines, running code chunks if different orders, and executing the\n",
    "same code multiple times. These tasks are collectively known as \"control\n",
    "flow\".\n",
    "\n",
    "Perhaps the most well-known control flow type is an `if` statement. A block\n",
    "of code is run *only if* another statement is true. In Python we create an\n",
    "`if` statement like this:"
   ]
  },
  {
   "cell_type": "code",
   "execution_count": 1,
   "metadata": {},
   "outputs": [
    {
     "name": "stdout",
     "output_type": "stream",
     "text": [
      "Hi there!\n",
      "This only runs if x is less than 2\n",
      "This prints regardless of the input\n"
     ]
    }
   ],
   "source": [
    "x = 0\n",
    "if x < 2:\n",
    "    print(\"Hi there!\")\n",
    "    print(\"This only runs if x is less than 2\")\n",
    "    \n",
    "print(\"This prints regardless of the input\")"
   ]
  },
  {
   "cell_type": "markdown",
   "metadata": {},
   "source": [
    "The same code with a different value of `x` produces a different output:"
   ]
  },
  {
   "cell_type": "code",
   "execution_count": 2,
   "metadata": {},
   "outputs": [
    {
     "name": "stdout",
     "output_type": "stream",
     "text": [
      "This prints regardless of the input\n"
     ]
    }
   ],
   "source": [
    "x = 5\n",
    "if x < 2:\n",
    "    print(\"Hi there!\")\n",
    "    print(\"This only runs if x is less than 2\")\n",
    "    \n",
    "print(\"This prints regardless of the input\")"
   ]
  },
  {
   "cell_type": "markdown",
   "metadata": {},
   "source": [
    "In Python, the statements that get run *only* when the condition is `True` are\n",
    "distinguished by an indent with 4 spaces. The indendent code is known as a block.\n",
    "In Jupyter you can make this easily with the Tab key."
   ]
  },
  {
   "cell_type": "markdown",
   "metadata": {},
   "source": [
    "An `if` statement can also contain a `else` clause that is run only when the\n",
    "condition is `False`. For example:"
   ]
  },
  {
   "cell_type": "code",
   "execution_count": 3,
   "metadata": {},
   "outputs": [
    {
     "name": "stdout",
     "output_type": "stream",
     "text": [
      "This prints only if x is not less than 2\n",
      "This prints regardless of the input\n"
     ]
    }
   ],
   "source": [
    "x = 5\n",
    "if x < 2:\n",
    "    print(\"Hi there!\")\n",
    "    print(\"This only runs if x is less than 2\")\n",
    "else:\n",
    "    print(\"This prints only if x is not less than 2\")\n",
    "    \n",
    "print(\"This prints regardless of the input\")"
   ]
  },
  {
   "cell_type": "markdown",
   "metadata": {},
   "source": [
    "Finally, we can create a `elif` statement that has an additional condition that only runs if the prior conditions are false. For example:"
   ]
  },
  {
   "cell_type": "code",
   "execution_count": 4,
   "metadata": {},
   "outputs": [
    {
     "name": "stdout",
     "output_type": "stream",
     "text": [
      "This prints only if x between 2 and 10\n",
      "This prints regardless of the input\n"
     ]
    }
   ],
   "source": [
    "x = 8\n",
    "if x < 2:\n",
    "    print(\"Hi there!\")\n",
    "    print(\"This only runs if x is less than 2\")\n",
    "elif x < 10:\n",
    "    print(\"This prints only if x between 2 and 10\")\n",
    "else:\n",
    "    print(\"This prints only if x is 10 or larger\")\n",
    "    \n",
    "print(\"This prints regardless of the input\")"
   ]
  },
  {
   "cell_type": "markdown",
   "metadata": {},
   "source": [
    "There can be zero or more elif parts. The keyword ‘elif’ is short for ‘else if’, and is useful to avoid excessive indentation."
   ]
  },
  {
   "cell_type": "markdown",
   "metadata": {},
   "source": [
    "### `for` Statements\n",
    "\n",
    "While the `if` statement lets us run a block of code either 0 or 1 times, a `for`\n",
    "statement runs a block of code many times while one or more variables are modified\n",
    "each run.\n",
    "\n",
    "Python’s for statement iterates over the items of any sequence (a list or a string),\n",
    "in the order that they appear in the sequence. For example:"
   ]
  },
  {
   "cell_type": "code",
   "execution_count": 6,
   "metadata": {
    "scrolled": true
   },
   "outputs": [
    {
     "name": "stdout",
     "output_type": "stream",
     "text": [
      "I\n",
      "love\n",
      "Python\n",
      "a\n",
      "lot\n",
      "more\n",
      "than\n",
      "java\n"
     ]
    }
   ],
   "source": [
    "words = ['I', 'love', 'Python', 'a', 'lot', 'more', 'than', 'java']\n",
    "for w in words:\n",
    "    print(w)"
   ]
  },
  {
   "cell_type": "markdown",
   "metadata": {},
   "source": [
    "We can mix the `if` and `for` statements to create more complex code, such\n",
    "as:"
   ]
  },
  {
   "cell_type": "code",
   "execution_count": 7,
   "metadata": {},
   "outputs": [
    {
     "name": "stdout",
     "output_type": "stream",
     "text": [
      "love\n",
      "Python\n",
      "more\n",
      "than\n",
      "java\n"
     ]
    }
   ],
   "source": [
    "words = ['I', 'love', 'Python', 'a', 'lot', 'more', 'than', 'java']\n",
    "for w in words:\n",
    "    if len(w) >= 4:\n",
    "        print(w)"
   ]
  },
  {
   "cell_type": "markdown",
   "metadata": {},
   "source": [
    "-------\n",
    "\n",
    "## Practice"
   ]
  },
  {
   "cell_type": "code",
   "execution_count": null,
   "metadata": {},
   "outputs": [],
   "source": []
  }
 ],
 "metadata": {
  "kernelspec": {
   "display_name": "Python 3",
   "language": "python",
   "name": "python3"
  },
  "language_info": {
   "codemirror_mode": {
    "name": "ipython",
    "version": 3
   },
   "file_extension": ".py",
   "mimetype": "text/x-python",
   "name": "python",
   "nbconvert_exporter": "python",
   "pygments_lexer": "ipython3",
   "version": "3.6.6"
  }
 },
 "nbformat": 4,
 "nbformat_minor": 2
}
