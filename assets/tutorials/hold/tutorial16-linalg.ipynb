{
 "cells": [
  {
   "cell_type": "markdown",
   "metadata": {},
   "source": [
    "## Tutorial 16: Linear Algebra\n",
    "\n",
    "This is a very brief introduction to matrix linear algebra using\n",
    "numpy."
   ]
  },
  {
   "cell_type": "markdown",
   "metadata": {},
   "source": [
    "### Vectors and dot products\n",
    "\n",
    "A one dimensional numpy array can be thought of a mathematical vector.\n",
    "That is, the array is some element in an n-dimensional space:\n",
    "\n",
    "$$a \\in \\mathbb{R}^n$$.\n",
    "\n",
    "For example, if n is 2 this is just a point on the plane. If n is three,\n",
    "it's a point in 3-dimensional space. A vector has a direction and magnitude.\n",
    "The magnitude is given mathematically by:\n",
    "\n",
    "$$|| a || = \\sqrt{\\sum_i a_i^2} $$\n",
    "\n",
    "Where $a_i$ indicates the i'th coordinate of the vector.\n",
    "Let's create a vector in numpy and check this definition:"
   ]
  },
  {
   "cell_type": "code",
   "execution_count": 7,
   "metadata": {},
   "outputs": [
    {
     "data": {
      "text/plain": [
       "3.1622776601683795"
      ]
     },
     "execution_count": 7,
     "metadata": {},
     "output_type": "execute_result"
    }
   ],
   "source": [
    "import numpy as np\n",
    "\n",
    "a = np.array([1.0, 3.0])\n",
    "\n",
    "np.sqrt(np.sum(a**2))"
   ]
  },
  {
   "cell_type": "markdown",
   "metadata": {},
   "source": [
    "Or, more directly, we can directly compute the norm using\n",
    "`np.linalg.norm`:"
   ]
  },
  {
   "cell_type": "code",
   "execution_count": 3,
   "metadata": {},
   "outputs": [
    {
     "data": {
      "text/plain": [
       "3.1622776601683795"
      ]
     },
     "execution_count": 3,
     "metadata": {},
     "output_type": "execute_result"
    }
   ],
   "source": [
    "np.linalg.norm(a)"
   ]
  },
  {
   "cell_type": "markdown",
   "metadata": {},
   "source": [
    "The dot-product of two vectors is defined geometrically by:\n",
    "\n",
    "$$ a \\cdot b = || a || \\times || b || \\cdot cos(\\theta) $$\n",
    "\n",
    "Where $\\theta$ is the angle between the vectors. This can be\n",
    "directly computed in numpy as well:"
   ]
  },
  {
   "cell_type": "code",
   "execution_count": 8,
   "metadata": {},
   "outputs": [
    {
     "data": {
      "text/plain": [
       "5.0"
      ]
     },
     "execution_count": 8,
     "metadata": {},
     "output_type": "execute_result"
    }
   ],
   "source": [
    "b = np.array([2.0, 1.0])\n",
    "\n",
    "np.dot(a, b)"
   ]
  },
  {
   "cell_type": "markdown",
   "metadata": {},
   "source": [
    "The dot product is useful in part because it tells us how similar two\n",
    "vectors are. If the product is zero, for example, the vectors are \n",
    "orthogonal to one another."
   ]
  },
  {
   "cell_type": "markdown",
   "metadata": {},
   "source": [
    "### Matricies and matrix product\n",
    "\n",
    "A two dimensional numpy array can be thought of a matrix object. An $n$-by-$m$\n",
    "matrix can be thought of as a particular type of mapping between two vector\n",
    "spaces:\n",
    "\n",
    "$$ \\phi: \\mathbb{R}^n \\rightarrow \\mathbb{R}^m $$\n",
    "\n",
    "The set of all matricies describes all such mappings $\\phi$ that are \n",
    "linear.\n",
    "\n",
    "A common matrix operation is called the *matrix product*, given by:\n",
    "\n",
    "$$ (A \\cdot B)_{i, j} = \\sum_{k = 1}^p a_{i, k} \\cdot b_{k, j} $$\n",
    "\n",
    "And defined whenever the number of columns in $A$ is the same as the number\n",
    "of rows in $B$. Here, $a_{i, j}$ gives the value in the $i$'th row of and\n",
    "$j$'th column of $A$. In the context of linear mappings, the matrix product\n",
    "represents function composition.\n",
    "\n",
    "To take a matrix product in Python, use the `@` symbol:"
   ]
  },
  {
   "cell_type": "code",
   "execution_count": 16,
   "metadata": {},
   "outputs": [
    {
     "name": "stdout",
     "output_type": "stream",
     "text": [
      "(3, 2)\n"
     ]
    },
    {
     "data": {
      "text/plain": [
       "array([[1.34407763, 1.35334469],\n",
       "       [1.53906827, 1.39081732],\n",
       "       [0.6893045 , 0.58336984]])"
      ]
     },
     "execution_count": 16,
     "metadata": {},
     "output_type": "execute_result"
    }
   ],
   "source": [
    "A = np.random.rand(3, 5)\n",
    "B = np.random.rand(5, 2)\n",
    "\n",
    "C = A @ B\n",
    "print(C.shape)\n",
    "C"
   ]
  },
  {
   "cell_type": "markdown",
   "metadata": {},
   "source": [
    "Notice that the output has the same number of rows as $A$ and the same\n",
    "number of columns as $B$."
   ]
  },
  {
   "cell_type": "markdown",
   "metadata": {},
   "source": [
    "### Solving linear systems\n",
    "\n",
    "If we treat a vector as a matrix with a single column, we can write a system\n",
    "of linear equations as a matrix product:\n",
    "\n",
    "$$ A x = b $$\n",
    "\n",
    "Where $A$ is a known matrix, $b$ is a known vector, and $x$ is the vector of\n",
    "unknown quantities.\n",
    "\n",
    "The function `np.linalg.solve` allows us to solve such a system efficently: "
   ]
  },
  {
   "cell_type": "code",
   "execution_count": 22,
   "metadata": {},
   "outputs": [
    {
     "data": {
      "text/plain": [
       "array([[-0.93708537],\n",
       "       [ 1.26108954],\n",
       "       [-0.19803973]])"
      ]
     },
     "execution_count": 22,
     "metadata": {},
     "output_type": "execute_result"
    }
   ],
   "source": [
    "A = np.random.rand(3, 3)\n",
    "b = np.random.rand(3, 1)\n",
    "\n",
    "x = np.linalg.solve(A, b)\n",
    "x"
   ]
  },
  {
   "cell_type": "markdown",
   "metadata": {},
   "source": [
    "We can check that a reasonable solution as been found using matrix products:"
   ]
  },
  {
   "cell_type": "code",
   "execution_count": 24,
   "metadata": {},
   "outputs": [
    {
     "data": {
      "text/plain": [
       "array([[5.55111512e-17],\n",
       "       [5.55111512e-17],\n",
       "       [5.55111512e-17]])"
      ]
     },
     "execution_count": 24,
     "metadata": {},
     "output_type": "execute_result"
    }
   ],
   "source": [
    "err = A @ x - b\n",
    "err"
   ]
  },
  {
   "cell_type": "markdown",
   "metadata": {},
   "source": [
    "The solution is not exactly zero due to the numerical precision of the\n",
    "machine, but the result is very small:"
   ]
  },
  {
   "cell_type": "code",
   "execution_count": 25,
   "metadata": {
    "scrolled": true
   },
   "outputs": [
    {
     "data": {
      "text/plain": [
       "9.614813431917819e-17"
      ]
     },
     "execution_count": 25,
     "metadata": {},
     "output_type": "execute_result"
    }
   ],
   "source": [
    "np.linalg.norm(err)"
   ]
  },
  {
   "cell_type": "markdown",
   "metadata": {},
   "source": [
    "-------\n",
    "\n",
    "## Practice"
   ]
  },
  {
   "cell_type": "code",
   "execution_count": null,
   "metadata": {},
   "outputs": [],
   "source": []
  }
 ],
 "metadata": {
  "kernelspec": {
   "display_name": "Python 3",
   "language": "python",
   "name": "python3"
  },
  "language_info": {
   "codemirror_mode": {
    "name": "ipython",
    "version": 3
   },
   "file_extension": ".py",
   "mimetype": "text/x-python",
   "name": "python",
   "nbconvert_exporter": "python",
   "pygments_lexer": "ipython3",
   "version": "3.6.5"
  }
 },
 "nbformat": 4,
 "nbformat_minor": 2
}
