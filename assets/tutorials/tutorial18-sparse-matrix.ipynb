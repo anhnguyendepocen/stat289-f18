{
 "cells": [
  {
   "cell_type": "markdown",
   "metadata": {},
   "source": [
    "## Tutorial 18: Sparse Matricies\n",
    "\n",
    "How to create, modify, and use sparse matricies using the\n",
    "`scipy` module."
   ]
  },
  {
   "cell_type": "markdown",
   "metadata": {},
   "source": [
    "### Sparsity\n",
    "\n",
    "In many data science applications, such as text analysis, genetics,\n",
    "and network analysis, there is a common need to work with matricies\n",
    "that contain many zeros. Sometimes as much as 99.999% of a matrix may\n",
    "all be zeros. For space and efficeny, it is useful to store these\n",
    "matricies in a different format. Specifically, only the non-zero entries\n",
    "are included and it is assumed that missing values are all zero. In\n",
    "these notes we will show how to create and work with such matricies.\n",
    "To start, load the `numpy` and `scipy` modules:"
   ]
  },
  {
   "cell_type": "code",
   "execution_count": null,
   "metadata": {},
   "outputs": [],
   "source": [
    "import numpy as np\n",
    "import scipy as sp"
   ]
  },
  {
   "cell_type": "markdown",
   "metadata": {},
   "source": [
    "### Coordinate format\n",
    "\n",
    "The easiest way to create a sparse matrix is to start with a format called\n",
    "the COO format (COOrdinate). Here, we specify the row and column index along\n",
    "with each value. For example, here we create a sparse 4-by-4 matrix with only\n",
    "4 non-zero entries:"
   ]
  },
  {
   "cell_type": "code",
   "execution_count": null,
   "metadata": {},
   "outputs": [],
   "source": [
    "from scipy.sparse import coo_matrix\n",
    "\n",
    "row  = np.array([0, 3, 1, 0])\n",
    "col  = np.array([0, 3, 1, 2])\n",
    "data = np.array([4, 5, 7, 9])\n",
    "A = coo_matrix((data, (row, col)), shape=(4, 4))\n",
    "A"
   ]
  },
  {
   "cell_type": "markdown",
   "metadata": {},
   "source": [
    "For illustration, we convert this to a dense numpy matrix to see the results:"
   ]
  },
  {
   "cell_type": "code",
   "execution_count": null,
   "metadata": {},
   "outputs": [],
   "source": [
    "A.toarray()"
   ]
  },
  {
   "cell_type": "markdown",
   "metadata": {},
   "source": [
    "### Compressed Sparse Row (CSR) matrix\n",
    "\n",
    "The coordinate format is not easy for algorithms to work with. It is best\n",
    "to quickly convert to another format, such as CSR. This is made easy with\n",
    "scipy:"
   ]
  },
  {
   "cell_type": "code",
   "execution_count": null,
   "metadata": {},
   "outputs": [],
   "source": [
    "B = A.tocsr()\n",
    "B"
   ]
  },
  {
   "cell_type": "markdown",
   "metadata": {},
   "source": [
    "In this data format we can do many matrix operations without breaking the sparsity,\n",
    "for example taking a matrix product:"
   ]
  },
  {
   "cell_type": "code",
   "execution_count": null,
   "metadata": {},
   "outputs": [],
   "source": [
    "C = B @ B\n",
    "C"
   ]
  },
  {
   "cell_type": "markdown",
   "metadata": {},
   "source": [
    "These sparse matricies will be useful as we move towards machine learning applications\n",
    "with textual data."
   ]
  },
  {
   "cell_type": "markdown",
   "metadata": {},
   "source": [
    "-------\n",
    "\n",
    "## Practice"
   ]
  },
  {
   "cell_type": "code",
   "execution_count": null,
   "metadata": {},
   "outputs": [],
   "source": []
  }
 ],
 "metadata": {
  "kernelspec": {
   "display_name": "Python 3",
   "language": "python",
   "name": "python3"
  },
  "language_info": {
   "codemirror_mode": {
    "name": "ipython",
    "version": 3
   },
   "file_extension": ".py",
   "mimetype": "text/x-python",
   "name": "python",
   "nbconvert_exporter": "python",
   "pygments_lexer": "ipython3",
   "version": "3.6.5"
  }
 },
 "nbformat": 4,
 "nbformat_minor": 2
}
