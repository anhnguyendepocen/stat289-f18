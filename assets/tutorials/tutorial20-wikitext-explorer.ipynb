{
 "cells": [
  {
   "cell_type": "markdown",
   "metadata": {},
   "source": [
    "## Tutorial 20: Wiki Text Explorer\n",
    "\n",
    "Its good to understand all of the ideas in Tutorial 19. However, I have\n",
    "already wrapped up all of the functionality show there in a helpful new\n",
    "refactoring of the `wikitext` module. That is, you'll get to focus on\n",
    "the text analysis itself and not just the code (yay!). \n",
    "\n",
    "Make sure that you download a new version of `wiki.py`, `iplot.py` and\n",
    "`wikitext.py` and load all of them into Python:"
   ]
  },
  {
   "cell_type": "code",
   "execution_count": 4,
   "metadata": {},
   "outputs": [],
   "source": [
    "import wiki\n",
    "import iplot\n",
    "import wikitext"
   ]
  },
  {
   "cell_type": "code",
   "execution_count": 5,
   "metadata": {},
   "outputs": [],
   "source": [
    "assert wiki.__version__ >= 6\n",
    "assert wikitext.__version__ >= 2\n",
    "assert iplot.__version__ >= 3"
   ]
  },
  {
   "cell_type": "markdown",
   "metadata": {},
   "source": [
    "### Get some data\n",
    "\n",
    "For today, make sure that you download the following data. Uncomment the line,\n",
    "run it, and then recomment it so that it only runs once."
   ]
  },
  {
   "cell_type": "code",
   "execution_count": 6,
   "metadata": {},
   "outputs": [],
   "source": [
    "#wiki.bulk_download('history-us', force=True)"
   ]
  },
  {
   "cell_type": "markdown",
   "metadata": {},
   "source": [
    "### The WikiCorpus class\n",
    "\n",
    "I have wrapped up all of the text analysis tools we should need for the next\n",
    "few weeks in a single class called `WikiCorpus`. Let's grab a set of links to\n",
    "start with:"
   ]
  },
  {
   "cell_type": "code",
   "execution_count": 7,
   "metadata": {},
   "outputs": [],
   "source": [
    "links = wikitext.get_internal_links('History_of_the_United_States')['ilinks_p']"
   ]
  },
  {
   "cell_type": "markdown",
   "metadata": {},
   "source": [
    "Now create a `WikiCorpus` object as follows (it's running a lot of code;\n",
    "it make take a minute or two to run):"
   ]
  },
  {
   "cell_type": "code",
   "execution_count": 8,
   "metadata": {},
   "outputs": [
    {
     "name": "stdout",
     "output_type": "stream",
     "text": [
      "WikiCorpus object with '739' documents and lexicon with '23243' terms.\n"
     ]
    }
   ],
   "source": [
    "wcorp = wikitext.WikiCorpus(links)\n",
    "print(wcorp)"
   ]
  },
  {
   "cell_type": "markdown",
   "metadata": {},
   "source": [
    "You should see that it has pulled 282 documents are over 9000 terms. The object\n",
    "has methods and attributes that provide text analysis tools such as document\n",
    "similarity and LDA topics. An easier way to see all of this is to simply create\n",
    "a Wiki Text Explorer webpage like this:"
   ]
  },
  {
   "cell_type": "code",
   "execution_count": 9,
   "metadata": {},
   "outputs": [],
   "source": [
    "wikitext.wiki_text_explorer(wcorp)"
   ]
  },
  {
   "cell_type": "markdown",
   "metadata": {},
   "source": [
    "Now, you should see a new directory called 'text-explore' in your tutorial folder.\n",
    "Open the index page in your browser and play around with the tabs at the top. Notice\n",
    "that a lot of things are clickable links to other parts of the page. Spend some real\n",
    "time understanding what is going on with each of the components in the Exporer."
   ]
  },
  {
   "cell_type": "markdown",
   "metadata": {},
   "source": [
    "### Modify the WikiCorpus object\n",
    "\n",
    "There are many options that you can set that change how the WikiCorpus object\n",
    "is constructed. The two most powerful change the number of topics and clusters\n",
    "created by the module. Here I will make the number of topics and clusters 20\n",
    "instead of the default 40:"
   ]
  },
  {
   "cell_type": "code",
   "execution_count": null,
   "metadata": {},
   "outputs": [],
   "source": [
    "wcorp = wikitext.WikiCorpus(links, num_topics=20, num_clusters=20)"
   ]
  },
  {
   "cell_type": "markdown",
   "metadata": {},
   "source": [
    "Now, re-create the page and see how the results change:"
   ]
  },
  {
   "cell_type": "code",
   "execution_count": null,
   "metadata": {},
   "outputs": [],
   "source": [
    "wikitext.wiki_text_explorer(wcorp)"
   ]
  },
  {
   "cell_type": "code",
   "execution_count": null,
   "metadata": {},
   "outputs": [],
   "source": []
  }
 ],
 "metadata": {
  "kernelspec": {
   "display_name": "Python 3",
   "language": "python",
   "name": "python3"
  },
  "language_info": {
   "codemirror_mode": {
    "name": "ipython",
    "version": 3
   },
   "file_extension": ".py",
   "mimetype": "text/x-python",
   "name": "python",
   "nbconvert_exporter": "python",
   "pygments_lexer": "ipython3",
   "version": "3.6.6"
  }
 },
 "nbformat": 4,
 "nbformat_minor": 2
}
