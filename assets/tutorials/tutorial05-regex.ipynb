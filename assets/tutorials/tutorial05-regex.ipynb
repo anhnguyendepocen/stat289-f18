{
 "cells": [
  {
   "cell_type": "markdown",
   "metadata": {},
   "source": [
    "## Tutorial 05: Regular Expressions\n",
    "\n",
    "Here we introduce the concept of a regular expression and the\n",
    "Python module `re`, which provides an efficent and easy to use\n",
    "implemention of regular expressions."
   ]
  },
  {
   "cell_type": "markdown",
   "metadata": {},
   "source": [
    "### Matching fixed strings\n",
    "\n",
    "Regular expressions are used to identify patterns within string\n",
    "objects. Once found, these patterns can be used for tasks such\n",
    "as extraction, substitution, or splitting the string into parts.\n",
    "\n",
    "We will introduce the basic concepts through substitution and\n",
    "show the other tasks at the end of the notebook.\n",
    "\n",
    "To start, import the `re` module:"
   ]
  },
  {
   "cell_type": "code",
   "execution_count": null,
   "metadata": {},
   "outputs": [],
   "source": [
    "import re"
   ]
  },
  {
   "cell_type": "markdown",
   "metadata": {},
   "source": [
    "We will use the function `re.sub` to replace all instances of a substring\n",
    "with another. Here, we will replace all spaces with dashes: "
   ]
  },
  {
   "cell_type": "code",
   "execution_count": null,
   "metadata": {},
   "outputs": [],
   "source": [
    "re.sub(\" \", \"-\", \"I am having fun with regular expressions! They are great!\")"
   ]
  },
  {
   "cell_type": "code",
   "execution_count": null,
   "metadata": {},
   "outputs": [],
   "source": [
    "re.sub(\"fun\", \"FUN\", \"I am having fun with regular expressions! They are great!\")"
   ]
  },
  {
   "cell_type": "markdown",
   "metadata": {},
   "source": [
    "As we see, the first argument defines a pattern, the second the replacement,\n",
    "and the third the string to operate on. Used in sequence, substitutions can\n",
    "be used to clean character data:"
   ]
  },
  {
   "cell_type": "code",
   "execution_count": null,
   "metadata": {},
   "outputs": [],
   "source": [
    "msg = \"I am having fun with regular expressions! They are great!\"\n",
    "msg = re.sub(\" \", \"-\", msg)\n",
    "msg = re.sub(\"!\", \"\", msg)\n",
    "msg"
   ]
  },
  {
   "cell_type": "markdown",
   "metadata": {},
   "source": [
    "### Matching patterns\n",
    "\n",
    "The power of regular expressions comes from the ability to match not just\n",
    "fixed strings but patterns of strings. There is a whole language of regular\n",
    "expressions; here I will show just a few of the most common examples.\n",
    "\n",
    "The symbol `+` matches one or more of the prior characters. Take the example\n",
    "here:"
   ]
  },
  {
   "cell_type": "code",
   "execution_count": null,
   "metadata": {},
   "outputs": [],
   "source": [
    "msg = \"aardvark?\"\n",
    "re.sub(\"a\", \"A\", msg)"
   ]
  },
  {
   "cell_type": "markdown",
   "metadata": {},
   "source": [
    "And compare it to:"
   ]
  },
  {
   "cell_type": "code",
   "execution_count": null,
   "metadata": {},
   "outputs": [],
   "source": [
    "msg = \"ardvark?\"\n",
    "re.sub(\"a+\", \"A\", msg)"
   ]
  },
  {
   "cell_type": "markdown",
   "metadata": {},
   "source": [
    "The expression `a+` matches both the letter \"a\" and the letter pair \"aa\"\n",
    "(regular expressions always find the largest matching string).\n",
    "\n",
    "We can group letters together using braces, `[]`. So to match any combination\n",
    "of numbers we can use this:"
   ]
  },
  {
   "cell_type": "code",
   "execution_count": null,
   "metadata": {},
   "outputs": [],
   "source": [
    "msg = \"1000x 2341y 1104z\"\n",
    "re.sub(\"[0123456789]+\", \"NUMBER\", msg)"
   ]
  },
  {
   "cell_type": "markdown",
   "metadata": {},
   "source": [
    "This reads: \"replace any sequence of digits with the string 'NUMBER'\". There\n",
    "is a shortcut for this using the notation `[0-9]`. Similarly, `[a-z]` matches\n",
    "lowercase letters and `[A-Z]` matches upper case letters.\n",
    "\n",
    "Finally, the symbol `^` stands for **not**. So `[^a-z]+` stands for anything that\n",
    "is not a lower case letter:"
   ]
  },
  {
   "cell_type": "code",
   "execution_count": null,
   "metadata": {},
   "outputs": [],
   "source": [
    "re.sub(\"[^a-z]\", \" \", \"I am having fun with regular expressions! They are great!\")"
   ]
  },
  {
   "cell_type": "markdown",
   "metadata": {},
   "source": [
    "You may find that you want to match a character with a special meaning, such as the\n",
    "actual carrot symbol: `^`. To do this, simply proceed the character with `\\\\` to escape\n",
    "it in the string."
   ]
  },
  {
   "cell_type": "code",
   "execution_count": null,
   "metadata": {},
   "outputs": [],
   "source": [
    "re.sub(\"\\\\^\", \"-\", \"2^3\")"
   ]
  },
  {
   "cell_type": "markdown",
   "metadata": {},
   "source": [
    "### Application: HTML\n",
    "\n",
    "A very common application of regular expressions is to match HTML tags,\n",
    "which are contained between `<` and `>`. For example, `<a href=\"python.org\">`.\n",
    "To match an html tag use this expression:"
   ]
  },
  {
   "cell_type": "code",
   "execution_count": null,
   "metadata": {},
   "outputs": [],
   "source": [
    "re.sub(\"<[^>]+>\", \"\", \"<a href='www.python.org'>click here!</a>\")"
   ]
  },
  {
   "cell_type": "markdown",
   "metadata": {},
   "source": [
    "Can you figure out exactly how this expression works?"
   ]
  },
  {
   "cell_type": "markdown",
   "metadata": {},
   "source": [
    "### Find and split\n",
    "\n",
    "As mentioned, there are other tasks we can do once a substring has been identified.\n",
    "We could, for example, split a string apart wherever a substring is detected using\n",
    "`re.split`:"
   ]
  },
  {
   "cell_type": "code",
   "execution_count": null,
   "metadata": {},
   "outputs": [],
   "source": [
    "re.split(\" \", \"I am having fun with regular expressions! They are great!\")"
   ]
  },
  {
   "cell_type": "markdown",
   "metadata": {},
   "source": [
    "Or, extract just the matching substrings using `re.findall`:"
   ]
  },
  {
   "cell_type": "code",
   "execution_count": null,
   "metadata": {},
   "outputs": [],
   "source": [
    "re.findall(\"<[^>]+>\", \"<a href='www.python.org'>click here!</a>\")"
   ]
  },
  {
   "cell_type": "markdown",
   "metadata": {},
   "source": [
    "Both of these functions return list objects, which we will see in the next\n",
    "notebook."
   ]
  },
  {
   "cell_type": "markdown",
   "metadata": {},
   "source": [
    "-------\n",
    "\n",
    "## Practice"
   ]
  },
  {
   "cell_type": "code",
   "execution_count": null,
   "metadata": {},
   "outputs": [],
   "source": []
  }
 ],
 "metadata": {
  "kernelspec": {
   "display_name": "Python 3",
   "language": "python",
   "name": "python3"
  },
  "language_info": {
   "codemirror_mode": {
    "name": "ipython",
    "version": 3
   },
   "file_extension": ".py",
   "mimetype": "text/x-python",
   "name": "python",
   "nbconvert_exporter": "python",
   "pygments_lexer": "ipython3",
   "version": "3.6.5"
  }
 },
 "nbformat": 4,
 "nbformat_minor": 2
}
