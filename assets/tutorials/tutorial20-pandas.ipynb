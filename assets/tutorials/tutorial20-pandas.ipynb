{
 "cells": [
  {
   "cell_type": "markdown",
   "metadata": {},
   "source": [
    "## Tutorial 20: Tabular Data with Pandas\n",
    "\n",
    "How to work with tabular data using `pandas`."
   ]
  },
  {
   "cell_type": "markdown",
   "metadata": {},
   "source": [
    "### Reading structured data\n",
    "\n",
    "We will start by loading the `numpy` and `pandas` modules."
   ]
  },
  {
   "cell_type": "code",
   "execution_count": null,
   "metadata": {},
   "outputs": [],
   "source": [
    "import numpy as np\n",
    "import pandas as pd"
   ]
  },
  {
   "cell_type": "markdown",
   "metadata": {},
   "source": [
    "Now, we can load a comma separated value (CSV) file using the function\n",
    "`pd.read_csv`. Here I will load a file from my website; loading a local\n",
    "file is done similarly."
   ]
  },
  {
   "cell_type": "code",
   "execution_count": null,
   "metadata": {},
   "outputs": [],
   "source": [
    "url = \"https://raw.githubusercontent.com/statsmaths/stat_data/gh-pages/tea.csv\"\n",
    "df = pd.read_csv(url)"
   ]
  },
  {
   "cell_type": "markdown",
   "metadata": {},
   "source": [
    "The resulting data is stored in a pandas `DataFrame` object."
   ]
  },
  {
   "cell_type": "code",
   "execution_count": null,
   "metadata": {},
   "outputs": [],
   "source": [
    "type(df)"
   ]
  },
  {
   "cell_type": "markdown",
   "metadata": {},
   "source": [
    "Printing the object itself shows the first and last thirty rows of the data."
   ]
  },
  {
   "cell_type": "code",
   "execution_count": null,
   "metadata": {},
   "outputs": [],
   "source": [
    "df"
   ]
  },
  {
   "cell_type": "markdown",
   "metadata": {},
   "source": [
    "A pandas data frame differs from a numpy array because each column can be of\n",
    "a different type. The data frame also has column names and row indicies that\n",
    "can be used for various database operations."
   ]
  },
  {
   "cell_type": "markdown",
   "metadata": {},
   "source": [
    "### Numpy array\n",
    "\n",
    "Often you will want to extract a column from a DataFrame object and \n",
    "access it as a numpy array. To do this, first access just the column\n",
    "you want to grab using braces, `[]`, and then select the `values`\n",
    "attribute. For example:"
   ]
  },
  {
   "cell_type": "code",
   "execution_count": null,
   "metadata": {},
   "outputs": [],
   "source": [
    "y = df['score'].values\n",
    "print(type(y))\n",
    "y"
   ]
  },
  {
   "cell_type": "markdown",
   "metadata": {},
   "source": [
    "The same works for columns with character values, with an appropriate\n",
    "numpy data type."
   ]
  },
  {
   "cell_type": "markdown",
   "metadata": {},
   "source": [
    "### Subset Rows\n",
    "\n",
    "It may be useful to take a subset of a DataFrame object that depends\n",
    "on the values in one or more rows. There are many ways to do this, \n",
    "some of which I find somewhat confusing. Here I highlight the two\n",
    "most common examples.\n",
    "\n",
    "To take a subset of rows based on a numeric variable, use the following\n",
    "syntax:"
   ]
  },
  {
   "cell_type": "code",
   "execution_count": null,
   "metadata": {},
   "outputs": [],
   "source": [
    "df.loc[df['score'] > 96]"
   ]
  },
  {
   "cell_type": "markdown",
   "metadata": {},
   "source": [
    "For a categorical column, you can test whether a column comes from one\n",
    "or more values."
   ]
  },
  {
   "cell_type": "code",
   "execution_count": null,
   "metadata": {},
   "outputs": [],
   "source": [
    "df.loc[df['type'].isin([\"pu_erh\", \"masters\"])]"
   ]
  },
  {
   "cell_type": "markdown",
   "metadata": {},
   "source": [
    "Finally, you can combine multiple conditions with the `&`, such as\n",
    "below, but you **must** use parentheses to group the terms."
   ]
  },
  {
   "cell_type": "code",
   "execution_count": null,
   "metadata": {},
   "outputs": [],
   "source": [
    "df.loc[(df['score'] > 96) & (df['type'].isin([\"pu_erh\", \"masters\"]))]"
   ]
  },
  {
   "cell_type": "markdown",
   "metadata": {},
   "source": [
    "Similarly a vertical bar, `|`, is used to code an \"or\" logic."
   ]
  },
  {
   "cell_type": "code",
   "execution_count": null,
   "metadata": {},
   "outputs": [],
   "source": [
    "df.loc[(df['score'] > 96) | (df['type'].isin([\"pu_erh\"]))]"
   ]
  },
  {
   "cell_type": "markdown",
   "metadata": {},
   "source": [
    "### Creating a DataFrame\n",
    "\n",
    "There are many ways to create a DataFrame object. One of the easiest\n",
    "is to first build an ordered dictionary of the columns and then create\n",
    "the data using `pd.DataFrame`. For example:"
   ]
  },
  {
   "cell_type": "code",
   "execution_count": null,
   "metadata": {},
   "outputs": [],
   "source": [
    "import collections\n",
    "\n",
    "od = collections.OrderedDict()\n",
    "od['char_vals'] = ['a', 'b', 'c', 'd']\n",
    "od['num_vals'] = [1, 2, 3, 4]\n",
    "od"
   ]
  },
  {
   "cell_type": "code",
   "execution_count": null,
   "metadata": {},
   "outputs": [],
   "source": [
    "df = pd.DataFrame(od)\n",
    "df"
   ]
  },
  {
   "cell_type": "markdown",
   "metadata": {},
   "source": [
    "You can use an unordered dictionary, but then lose the ability to easily\n",
    "specify the order of the columns (they will be alphabetical).\n",
    "\n",
    "Once you have a data frame object, saving it as a csv file is easy:"
   ]
  },
  {
   "cell_type": "code",
   "execution_count": null,
   "metadata": {},
   "outputs": [],
   "source": [
    "df.to_csv(\"temp.csv\", index=False)"
   ]
  },
  {
   "cell_type": "markdown",
   "metadata": {},
   "source": [
    "The `index=False` stops Python from including row names in the output."
   ]
  },
  {
   "cell_type": "markdown",
   "metadata": {},
   "source": [
    "### More Information\n",
    "\n",
    "I have only scratched the surface of things that can be done with a DataFrame\n",
    "object. For more information see the official API:\n",
    "\n",
    "- [pandas API](https://pandas.pydata.org/)\n",
    "\n",
    "Many of the underlying ideas are taken from the data frame and data table objects\n",
    "in R."
   ]
  },
  {
   "cell_type": "markdown",
   "metadata": {},
   "source": [
    "-------\n",
    "\n",
    "## Practice"
   ]
  },
  {
   "cell_type": "code",
   "execution_count": null,
   "metadata": {},
   "outputs": [],
   "source": []
  }
 ],
 "metadata": {
  "kernelspec": {
   "display_name": "Python 3",
   "language": "python",
   "name": "python3"
  },
  "language_info": {
   "codemirror_mode": {
    "name": "ipython",
    "version": 3
   },
   "file_extension": ".py",
   "mimetype": "text/x-python",
   "name": "python",
   "nbconvert_exporter": "python",
   "pygments_lexer": "ipython3",
   "version": "3.6.5"
  }
 },
 "nbformat": 4,
 "nbformat_minor": 2
}
