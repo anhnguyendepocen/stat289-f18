{
 "cells": [
  {
   "cell_type": "markdown",
   "metadata": {},
   "source": [
    "## Tutorial 11: Example Analysis of American Authors\n",
    "\n",
    "In this tutorial, we combine all of our skills from the semester so far\n",
    "(as well as some new libraries) to do an actual data analysis from \n",
    "Wikipedia. "
   ]
  },
  {
   "cell_type": "markdown",
   "metadata": {},
   "source": [
    "### Question of interest\n",
    "\n",
    "In this tutorial we will focus on collecting Wikipedia data from a list of\n",
    "American novelists. Our initial question of interest will be figuring out\n",
    "the relationship between several metrics within the pages that all, in their\n",
    "own way, indicate how prominently a given author is represented. We will see\n",
    "how to store this data as CSV file as well as how to produce interactive\n",
    "graphics to explore the dataset."
   ]
  },
  {
   "cell_type": "markdown",
   "metadata": {},
   "source": [
    "### wiki.py\n",
    "\n",
    "Last time we found a bug in my `wiki.py` code. Please re-download and replace the\n",
    "script with the original. The following loads the module and checks that you have\n",
    "version 2 or higher (if there is no error, it works!):"
   ]
  },
  {
   "cell_type": "code",
   "execution_count": null,
   "metadata": {},
   "outputs": [],
   "source": [
    "import wiki\n",
    "\n",
    "assert wiki.__version__ >= 2"
   ]
  },
  {
   "cell_type": "markdown",
   "metadata": {},
   "source": [
    "### Getting the data\n",
    "\n",
    "There is a list on Wikipedia of pages for American novelists. Please\n",
    "start by looking at the page in your browser:\n",
    "\n",
    "- https://en.wikipedia.org/wiki/List_of_American_novelists\n",
    "\n",
    "Notice that many of the links on this page are to specific novels by\n",
    "an author. There are also links at the top and bottom of the page before\n",
    "the actual lists starts. We don't want these in our analysis! In order\n",
    "to just grab links to actual authors, we need to use regular expressions\n",
    "and parse data directly from the page.\n",
    "\n",
    "Start by loading the `re` module"
   ]
  },
  {
   "cell_type": "code",
   "execution_count": null,
   "metadata": {},
   "outputs": [],
   "source": [
    "import re"
   ]
  },
  {
   "cell_type": "markdown",
   "metadata": {},
   "source": [
    "Next, grab the page for the list of American novelists. We'll need the actual text\n",
    "of the page, which I print out the first 1000 characters of here for reference:"
   ]
  },
  {
   "cell_type": "code",
   "execution_count": null,
   "metadata": {},
   "outputs": [],
   "source": [
    "data = wiki.get_wiki_json(\"List_of_American_novelists\")\n",
    "data_html = data['text']['*']\n",
    "print(data_html[:1000])"
   ]
  },
  {
   "cell_type": "markdown",
   "metadata": {},
   "source": [
    "In order to *just* get authors, a trick we can use on this page is to only find\n",
    "links that come after the HTML tag `<li>` (a list item). This will avoid most of\n",
    "links we don't want, but will accidentally grab a few at the bottom of the page.\n",
    "We deal with those in a moment. Here is the regular expression that grabs the\n",
    "pages of interest."
   ]
  },
  {
   "cell_type": "code",
   "execution_count": null,
   "metadata": {},
   "outputs": [],
   "source": [
    "authors = re.findall('<li><a href=\"/wiki/([^\"]+)\"', data_html)\n",
    "authors"
   ]
  },
  {
   "cell_type": "markdown",
   "metadata": {},
   "source": [
    "The list of authors includes over 1600 pages."
   ]
  },
  {
   "cell_type": "code",
   "execution_count": null,
   "metadata": {},
   "outputs": [],
   "source": [
    "len(authors)"
   ]
  },
  {
   "cell_type": "markdown",
   "metadata": {},
   "source": [
    "Notice that the list includes a few links at the bottom that we do not actually\n",
    "want in our data."
   ]
  },
  {
   "cell_type": "code",
   "execution_count": null,
   "metadata": {},
   "outputs": [],
   "source": [
    "authors[-40:]"
   ]
  },
  {
   "cell_type": "markdown",
   "metadata": {},
   "source": [
    "We will 'cut-off' the list of authors manually with the follow code (similar\n",
    "to how I cut out the header and footer of the raw HTML code in Tutorial 6)."
   ]
  },
  {
   "cell_type": "code",
   "execution_count": null,
   "metadata": {},
   "outputs": [],
   "source": [
    "authors = authors[:(authors.index('Leane_Zugsmith') + 1)]\n",
    "authors[-10:]"
   ]
  },
  {
   "cell_type": "markdown",
   "metadata": {},
   "source": [
    "Now that we have our list of authors, let's grab them all (or verify\n",
    "that we have all of the links already)."
   ]
  },
  {
   "cell_type": "code",
   "execution_count": null,
   "metadata": {},
   "outputs": [],
   "source": [
    "for link in authors:\n",
    "    wiki.get_wiki_json(link)"
   ]
  },
  {
   "cell_type": "markdown",
   "metadata": {},
   "source": [
    "### Page metrics\n",
    "\n",
    "Now that we have the pages for each of the authors, we want to gather a number\n",
    "of metrics about each page. To write code that does this, typically I start by\n",
    "playing around with a single page and *then* wrap it all up in a `for` loop.\n",
    "\n",
    "For example, I wrote and tested the following code to figure out several metrics\n",
    "of interest:"
   ]
  },
  {
   "cell_type": "code",
   "execution_count": null,
   "metadata": {},
   "outputs": [],
   "source": [
    "# load a single page of data\n",
    "data = wiki.get_wiki_json(\"Mark_Twain\")"
   ]
  },
  {
   "cell_type": "code",
   "execution_count": null,
   "metadata": {},
   "outputs": [],
   "source": [
    "# (1) get the title of the page\n",
    "data['title']"
   ]
  },
  {
   "cell_type": "code",
   "execution_count": null,
   "metadata": {},
   "outputs": [],
   "source": [
    "# (2) determine the number of links to other languages\n",
    "len(data['langlinks'])"
   ]
  },
  {
   "cell_type": "code",
   "execution_count": null,
   "metadata": {},
   "outputs": [],
   "source": [
    "# (3) determine number of internal links\n",
    "len(data['links'])"
   ]
  },
  {
   "cell_type": "code",
   "execution_count": null,
   "metadata": {},
   "outputs": [],
   "source": [
    "# (4) determine number of characters in the text of the page\n",
    "len(data['text']['*'])"
   ]
  },
  {
   "cell_type": "code",
   "execution_count": null,
   "metadata": {},
   "outputs": [],
   "source": [
    "# (5) determine number of external links\n",
    "len(data['externallinks'])"
   ]
  },
  {
   "cell_type": "markdown",
   "metadata": {},
   "source": [
    "You can use similar code to compute other metrics, such as the number of\n",
    "images used on the page."
   ]
  },
  {
   "cell_type": "markdown",
   "metadata": {},
   "source": [
    "### Aggregating metrics\n",
    "\n",
    "Now, we will use a `for` loop to collect the metadata and metrics\n",
    "described in the prior section for each Wikipedia page in our corpus.\n",
    "We cycle through each author, appending the new metric values to the\n",
    "lists at the top of the code block. Fill in the information inside of\n",
    "the `for` loop to append the metrics to each page."
   ]
  },
  {
   "cell_type": "code",
   "execution_count": null,
   "metadata": {},
   "outputs": [],
   "source": [
    "author_name = []\n",
    "num_langs = []\n",
    "num_links = []\n",
    "num_chars = []\n",
    "num_elinks = []\n",
    "\n",
    "for link in authors:\n",
    "    data = wiki.get_wiki_json(link)\n",
    "    \n",
    "    # WRITE YOUR CODE HERE"
   ]
  },
  {
   "cell_type": "markdown",
   "metadata": {},
   "source": [
    "Now, it will be useful to put all of this data together in a single table.\n",
    "The standard library for working with tabular data in Python is called \n",
    "**pandas**, which we import here:"
   ]
  },
  {
   "cell_type": "code",
   "execution_count": null,
   "metadata": {},
   "outputs": [],
   "source": [
    "import pandas as pd"
   ]
  },
  {
   "cell_type": "markdown",
   "metadata": {},
   "source": [
    "The object that stores tabular data in pandas is called a `DataFrame`\n",
    "(yes, it's based on the data frame object native to R). There are many\n",
    "ways to build a data frame object from a collection of lists, but this\n",
    "block below illustrates my favorite method using an `OrderedDict`. Below,\n",
    "I'll print out a copy of the table (notice that it prints nicely in a\n",
    "the Jupyter notebook)."
   ]
  },
  {
   "cell_type": "code",
   "execution_count": null,
   "metadata": {},
   "outputs": [],
   "source": [
    "import collections\n",
    "\n",
    "df = collections.OrderedDict()\n",
    "df['author_name'] = author_name\n",
    "df['url'] = authors\n",
    "df['num_langs'] = num_langs\n",
    "df['num_links'] = num_links\n",
    "df['num_chars'] = num_chars\n",
    "df['num_elinks'] = num_elinks\n",
    "\n",
    "df = pd.DataFrame(df)\n",
    "df"
   ]
  },
  {
   "cell_type": "markdown",
   "metadata": {},
   "source": [
    "Pandas has a convenient method for storing a table of data as a CSV (comma\n",
    "seperated values) file. Running the code below will save the table as the\n",
    "file \"american_authors.csv\"; it can be read into programs such as Excel, \n",
    "Googe Sheets, and other programming languages."
   ]
  },
  {
   "cell_type": "code",
   "execution_count": null,
   "metadata": {},
   "outputs": [],
   "source": [
    "df.to_csv(\"american_authors.csv\", index=False)"
   ]
  },
  {
   "cell_type": "markdown",
   "metadata": {},
   "source": [
    "If you open the file browser, you'll see the CSV file show up in your 'tutorials'\n",
    "directory. You can similarly read a csv file back in Python using the `pd.read_csv`\n",
    "function."
   ]
  },
  {
   "cell_type": "code",
   "execution_count": null,
   "metadata": {},
   "outputs": [],
   "source": [
    "new_df = pd.read_csv(\"american_authors.csv\")\n",
    "new_df"
   ]
  },
  {
   "cell_type": "markdown",
   "metadata": {},
   "source": [
    "### Plotting data\n",
    "\n",
    "Another useful feature of the Pandas library is that it makes it easy to\n",
    "produce plots of the data stored within a table. Here is some example \n",
    "code for producing a scatter plot from our Pandas dataset"
   ]
  },
  {
   "cell_type": "code",
   "execution_count": null,
   "metadata": {},
   "outputs": [],
   "source": [
    "%matplotlib inline\n",
    "import matplotlib"
   ]
  },
  {
   "cell_type": "code",
   "execution_count": null,
   "metadata": {},
   "outputs": [],
   "source": [
    "matplotlib.rcParams['figure.figsize'] = (20.0, 10.0)"
   ]
  },
  {
   "cell_type": "code",
   "execution_count": null,
   "metadata": {},
   "outputs": [],
   "source": [
    "df.plot.scatter(x='num_langs',\n",
    "                y='num_links',\n",
    "                c='num_chars',\n",
    "                colormap='viridis')"
   ]
  },
  {
   "cell_type": "markdown",
   "metadata": {},
   "source": [
    "You can modify the `figure.figsize` parameter based on the size of your\n",
    "computer screen."
   ]
  },
  {
   "cell_type": "markdown",
   "metadata": {},
   "source": [
    "### Interactive plotting with Bokeh\n",
    "\n",
    "The static plot above is okay, but it's much more interesting to create an \n",
    "interactive graphic. To do this we will use the `bokeh` module. Load the\n",
    "required functions from `bokeh` below and specify that the output should\n",
    "appear within the Jupyter notebook."
   ]
  },
  {
   "cell_type": "code",
   "execution_count": null,
   "metadata": {},
   "outputs": [],
   "source": [
    "from bokeh.plotting import figure, show, output_notebook, ColumnDataSource\n",
    "\n",
    "output_notebook()"
   ]
  },
  {
   "cell_type": "markdown",
   "metadata": {},
   "source": [
    "Now, the code block below produces an interactive scatter plot. You can pan and\n",
    "zoom the plot depending on what parts of the plot you find interesting. Also,\n",
    "perhaps most importantly, if you hover over a point the name of the author associated\n",
    "with the point will show up. Try it!"
   ]
  },
  {
   "cell_type": "code",
   "execution_count": null,
   "metadata": {},
   "outputs": [],
   "source": [
    "TOOLTIPS = [\n",
    "    (\"Author\", \"@author_name\"),\n",
    "    (\"Number Internal Links\", \"@num_links\"),\n",
    "    (\"Number External Links\", \"@num_elinks\"),\n",
    "]\n",
    "\n",
    "p = figure(plot_width=950,\n",
    "           plot_height=500,\n",
    "           tooltips=TOOLTIPS,\n",
    "           tools=\"hover,pan,wheel_zoom,reset,tap\",\n",
    "           toolbar_location=\"below\",\n",
    "           toolbar_sticky=True,\n",
    "           active_scroll='wheel_zoom',\n",
    "           title=\"American Authors - Wikipedia Data\",\n",
    "           x_axis_label=\"Number of Language Pages\",\n",
    "           y_axis_label=\"Number of Internal Links\")\n",
    "\n",
    "p.circle(x='num_langs',\n",
    "         y='num_links',\n",
    "         size=10,\n",
    "         fill_alpha=0.5,\n",
    "         source=ColumnDataSource(data=df))\n",
    "\n",
    "show(p)"
   ]
  },
  {
   "cell_type": "markdown",
   "metadata": {},
   "source": [
    "You won't understand all of the components of the plot immediately, but hopefully the\n",
    "example shows enough so that you could modify the plot to include different variables\n",
    "or a different set of information when hovering over the points.\n",
    "\n",
    "Finally, the plot below makes use of the `OpenURL` and `TapTool` models to make the\n",
    "points clickable. Tapping on a point will open the Wikipedia page in a new tab. Try it\n",
    "now!"
   ]
  },
  {
   "cell_type": "code",
   "execution_count": null,
   "metadata": {},
   "outputs": [],
   "source": [
    "from bokeh.models import OpenURL, TapTool\n",
    "\n",
    "TOOLTIPS = [\n",
    "    (\"Author\", \"@author_name\"),\n",
    "    (\"Number Internal Links\", \"@num_links\"),\n",
    "    (\"Number External Links\", \"@num_elinks\"),\n",
    "]\n",
    "\n",
    "p = figure(plot_width=950,\n",
    "           plot_height=500,\n",
    "           tooltips=TOOLTIPS,\n",
    "           tools=\"hover,pan,wheel_zoom,reset,tap\",\n",
    "           toolbar_location=\"below\",\n",
    "           toolbar_sticky=True,\n",
    "           active_scroll='wheel_zoom',\n",
    "           title=\"American Authors - Wikipedia Data\",\n",
    "           x_axis_label=\"Number of Language Pages\",\n",
    "           y_axis_label=\"Number of Internal Links\")\n",
    "\n",
    "p.circle(x='num_langs',\n",
    "         y='num_links',\n",
    "         size=10,\n",
    "         fill_alpha=0.5,\n",
    "         source=ColumnDataSource(data=df))\n",
    "\n",
    "taptool = p.select(type=TapTool)\n",
    "taptool.callback = OpenURL(url=\"https://en.wikipedia.org/wiki/@url\")\n",
    "\n",
    "show(p)"
   ]
  },
  {
   "cell_type": "markdown",
   "metadata": {},
   "source": [
    "Rather than a formal practice set of questions, today you will start working on your\n",
    "first project, which uses the methods developed in this tutorial to analyze a new dataset."
   ]
  },
  {
   "cell_type": "markdown",
   "metadata": {},
   "source": [
    "### More practice\n",
    "\n",
    "Feel free to check out the bokeh reference guide (note: it's huge!):\n",
    "\n",
    "- https://bokeh.pydata.org/en/latest/docs/reference.html\n",
    "\n",
    "In particular check out the Gallary and demos. If you are interested in\n",
    "data visualization, there will be several of chances to build out interesting\n",
    "bokeh-based applications later this semester."
   ]
  },
  {
   "cell_type": "code",
   "execution_count": null,
   "metadata": {},
   "outputs": [],
   "source": []
  }
 ],
 "metadata": {
  "kernelspec": {
   "display_name": "Python 3",
   "language": "python",
   "name": "python3"
  },
  "language_info": {
   "codemirror_mode": {
    "name": "ipython",
    "version": 3
   },
   "file_extension": ".py",
   "mimetype": "text/x-python",
   "name": "python",
   "nbconvert_exporter": "python",
   "pygments_lexer": "ipython3",
   "version": "3.6.6"
  }
 },
 "nbformat": 4,
 "nbformat_minor": 2
}
