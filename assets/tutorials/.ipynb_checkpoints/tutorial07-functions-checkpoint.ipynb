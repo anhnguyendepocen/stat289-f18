{
 "cells": [
  {
   "cell_type": "markdown",
   "metadata": {},
   "source": [
    "## Tutorial 07: Functions\n",
    "\n",
    "These notes are adapted from the Python tutorial available at: https://docs.python.org/3/tutorial/.\n",
    "\n",
    "Here we see write re-usable code in the form of functions."
   ]
  },
  {
   "cell_type": "markdown",
   "metadata": {},
   "source": [
    "### Defining Functions\n",
    "\n",
    "In Python we can create objects called *functions* to automate the execution of a\n",
    "code block for a varying set of inputs. We have used several functions in Python,\n",
    "such as `sin`, `re.sub`, and `requests.get`. Now we will learn how to create them\n",
    "ourselves!\n",
    "\n",
    "Here is an example of a function that multiplies the input value by ten and returns\n",
    "the result."
   ]
  },
  {
   "cell_type": "code",
   "execution_count": null,
   "metadata": {},
   "outputs": [],
   "source": [
    "def multiply_by_ten(n):\n",
    "    \"\"\"Takes the input and multiplies by ten.\"\"\"\n",
    "    result = n * 10\n",
    "    return result"
   ]
  },
  {
   "cell_type": "markdown",
   "metadata": {},
   "source": [
    "Once we run that code, we can call it like any other function:"
   ]
  },
  {
   "cell_type": "code",
   "execution_count": null,
   "metadata": {},
   "outputs": [],
   "source": [
    "multiply_by_ten(3)"
   ]
  },
  {
   "cell_type": "markdown",
   "metadata": {},
   "source": [
    "The keyword `def` introduces a function *definition*. It must be followed by the function name and the parenthesized list of formal parameters. The statements that form the body of the function start at the next line, and must be indented. The output of the function can be saved as a variable, like any other function in python."
   ]
  },
  {
   "cell_type": "code",
   "execution_count": null,
   "metadata": {},
   "outputs": [],
   "source": [
    "old_value = 4\n",
    "new_value = multiply_by_ten(old_value)\n",
    "print(new_value)"
   ]
  },
  {
   "cell_type": "markdown",
   "metadata": {},
   "source": [
    "We can also make a function print out a value (or otherwise interact with the filesystem\n",
    "or other resources), such as this:"
   ]
  },
  {
   "cell_type": "code",
   "execution_count": null,
   "metadata": {},
   "outputs": [],
   "source": [
    "def multiply_by_ten(n):\n",
    "    \"\"\"Takes the input and multiplies by ten.\"\"\"\n",
    "    result = n * 10\n",
    "    print(\"So excited to return a value to you!\")\n",
    "    \n",
    "    return result"
   ]
  },
  {
   "cell_type": "markdown",
   "metadata": {},
   "source": [
    "And when you run the function now, it returns a result but also prints a message. "
   ]
  },
  {
   "cell_type": "code",
   "execution_count": null,
   "metadata": {},
   "outputs": [],
   "source": [
    "multiply_by_ten(42)"
   ]
  },
  {
   "cell_type": "markdown",
   "metadata": {},
   "source": [
    "### Function arguments\n",
    "\n",
    "We can define functions that take more than one input value. For\n",
    "example, we could create a custom add function that adds two numbers\n",
    "together:"
   ]
  },
  {
   "cell_type": "code",
   "execution_count": null,
   "metadata": {},
   "outputs": [],
   "source": [
    "def my_add(a, b):\n",
    "    \"\"\"Adds together the two inputs and returns the result\"\"\"\n",
    "    return a + b"
   ]
  },
  {
   "cell_type": "code",
   "execution_count": null,
   "metadata": {},
   "outputs": [],
   "source": [
    "my_add(1, 4)"
   ]
  },
  {
   "cell_type": "markdown",
   "metadata": {},
   "source": [
    "It is also possible to add default values for some of the inputs. The only rule\n",
    "is that the inputs with default values must come after the inputs without default\n",
    "values:"
   ]
  },
  {
   "cell_type": "code",
   "execution_count": null,
   "metadata": {},
   "outputs": [],
   "source": [
    "def my_add_default(a, b=1):\n",
    "    \"\"\"Adds together the two inputs and returns the result\"\"\"\n",
    "    return a + b"
   ]
  },
  {
   "cell_type": "code",
   "execution_count": null,
   "metadata": {},
   "outputs": [],
   "source": [
    "print(my_add_default(5, 1))  # adds 5 and 1 together\n",
    "print(my_add_default(5))     # this sets b=1, the default value"
   ]
  },
  {
   "cell_type": "markdown",
   "metadata": {},
   "source": [
    "### Docstrings\n",
    "\n",
    "The first statement of the function body can optionally be a string literal; this string literal is the function’s documentation string, or docstring. There are tools which use docstrings to automatically produce online or printed documentation, or to let the user interactively browse through code; it’s good practice to include docstrings in code that you write, so make a habit of it. You can read more about docstrings in [PEP 257](https://www.python.org/dev/peps/pep-0257/).\n",
    "\n",
    "To see a function's docstring, use the help function in Python:"
   ]
  },
  {
   "cell_type": "code",
   "execution_count": null,
   "metadata": {},
   "outputs": [],
   "source": [
    "help(my_add_default)"
   ]
  },
  {
   "cell_type": "markdown",
   "metadata": {},
   "source": [
    "Coding styles for docstrings follow several different conventions. In this course\n",
    "we are going to use what's typically called the \"Google Style\". Here is an example\n",
    "of the full documentation for the function `my_add_default`:"
   ]
  },
  {
   "cell_type": "code",
   "execution_count": null,
   "metadata": {},
   "outputs": [],
   "source": [
    "def my_add_default(a, b=1):\n",
    "    \"\"\"Adds together the two inputs\n",
    "\n",
    "    This function is not very useful, but created just for illustration\n",
    "    purposes. Generally you should just use the `+` operator in Python.\n",
    "\n",
    "    Args:\n",
    "        a: The first number to add.\n",
    "        b: The number to add to the first input; defaults to 1.\n",
    "\n",
    "    Returns:\n",
    "        The sum of the two inputs.\n",
    "    \"\"\"\n",
    "    output = a + b\n",
    "    \n",
    "    return output"
   ]
  },
  {
   "cell_type": "markdown",
   "metadata": {},
   "source": [
    "The first line is always a short phrase describing the general idea of the function.\n",
    "Following this, there is a longer description of what the function actually does. Then,\n",
    "there is a section on the input \"Args\" (arguments) and then a section describing the \n",
    "results. Everything is indendented by four or eight spaces and finished with a final\n",
    "triple quote.\n",
    "\n",
    "Now look at the nice help page given by our function:"
   ]
  },
  {
   "cell_type": "code",
   "execution_count": null,
   "metadata": {},
   "outputs": [],
   "source": [
    "help(my_add_default)"
   ]
  },
  {
   "cell_type": "markdown",
   "metadata": {},
   "source": [
    "**I will always expect you to add a single line docstring to any function you create in this\n",
    "course. I'll specify when a \"full docstring\" is required.**"
   ]
  },
  {
   "cell_type": "markdown",
   "metadata": {},
   "source": [
    "-------\n",
    "\n",
    "## Practice"
   ]
  },
  {
   "cell_type": "markdown",
   "metadata": {},
   "source": [
    "Write a function `to_piglatin`, with a complete docstring, that takes an input word and\n",
    "returns a version of the word in Pig Latin (as we did in the string tutorial).\n",
    "It should have a single input giving the word to convert."
   ]
  },
  {
   "cell_type": "code",
   "execution_count": null,
   "metadata": {},
   "outputs": [],
   "source": []
  },
  {
   "cell_type": "markdown",
   "metadata": {},
   "source": [
    "Check that it works for several inputs:"
   ]
  },
  {
   "cell_type": "code",
   "execution_count": null,
   "metadata": {},
   "outputs": [],
   "source": [
    "print(to_piglatin(\"pig\") == \"igpay\")\n",
    "print(to_piglatin(\"monkey\") == \"onkeymay\")\n",
    "print(to_piglatin(\"penguin\") == \"enguinpay\")"
   ]
  },
  {
   "cell_type": "markdown",
   "metadata": {},
   "source": [
    "Print out the docstring of the function and check that it matches what you wrote\n",
    "above with the `help` function:"
   ]
  },
  {
   "cell_type": "code",
   "execution_count": null,
   "metadata": {},
   "outputs": [],
   "source": []
  },
  {
   "cell_type": "markdown",
   "metadata": {},
   "source": [
    "Now, write a function `remove_spaces` with two inputs and a full docstring. The first input is a\n",
    "string that the user wants to replace all of the spaces in. The second is the\n",
    "replacement string that spaces are converted two. Name the inputs `string` and\n",
    "`repl`, and set a default value for the replacement to be a dash: `-`. I'll\n",
    "import the `re` module here as you'll need it in the function."
   ]
  },
  {
   "cell_type": "code",
   "execution_count": null,
   "metadata": {},
   "outputs": [],
   "source": [
    "import re"
   ]
  },
  {
   "cell_type": "code",
   "execution_count": null,
   "metadata": {},
   "outputs": [],
   "source": []
  },
  {
   "cell_type": "markdown",
   "metadata": {},
   "source": [
    "You can check that your code runs correctly with the following tests:"
   ]
  },
  {
   "cell_type": "code",
   "execution_count": null,
   "metadata": {},
   "outputs": [],
   "source": [
    "print(remove_spaces(\"Hello there!\") == \"Hello-there!\")          # simple test with default value\n",
    "print(remove_spaces(\"Hello my friend!\") == \"Hello-my-friend!\")  # test with two replacements\n",
    "print(remove_spaces(\"Hello there!\", \"_\") == \"Hello_there!\")     # use underscore as replacement\n",
    "print(remove_spaces(\"Hello there!\", \"\") == \"Hellothere!\")       # use empty string as replacement\n",
    "print(remove_spaces(\"H a\", \"SPACE\") == \"HSPACEa\")               # use a longer replacement string\n",
    "print(remove_spaces(\"\") == \"\")                                  # check that it works with an empty string"
   ]
  },
  {
   "cell_type": "markdown",
   "metadata": {},
   "source": [
    "Print out the docstring of the function with the `help` function and check that it\n",
    "matches what you wrote above:"
   ]
  },
  {
   "cell_type": "code",
   "execution_count": null,
   "metadata": {},
   "outputs": [],
   "source": []
  },
  {
   "cell_type": "markdown",
   "metadata": {},
   "source": [
    "-------\n",
    "\n",
    "## Extra Practice\n",
    "\n",
    "Write a function below, with a full docstring, that takes the name of a\n",
    "Wikipedia page and returns the 25 most frequent words used on the page.\n",
    "This will involve grabbing code from Tutorial 06 and wrapping it up in\n",
    "a function call."
   ]
  },
  {
   "cell_type": "code",
   "execution_count": null,
   "metadata": {},
   "outputs": [],
   "source": []
  }
 ],
 "metadata": {
  "kernelspec": {
   "display_name": "Python 3",
   "language": "python",
   "name": "python3"
  },
  "language_info": {
   "codemirror_mode": {
    "name": "ipython",
    "version": 3
   },
   "file_extension": ".py",
   "mimetype": "text/x-python",
   "name": "python",
   "nbconvert_exporter": "python",
   "pygments_lexer": "ipython3",
   "version": "3.6.6"
  }
 },
 "nbformat": 4,
 "nbformat_minor": 2
}
