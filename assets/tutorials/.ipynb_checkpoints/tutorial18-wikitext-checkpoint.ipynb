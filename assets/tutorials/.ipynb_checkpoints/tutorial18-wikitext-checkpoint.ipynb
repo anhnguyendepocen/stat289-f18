{
 "cells": [
  {
   "cell_type": "markdown",
   "metadata": {},
   "source": [
    "## Tutorial 18: Creating the wikitext module\n",
    "\n",
    "Recall that I created the module `wiki.py` in order to wrap-up and make\n",
    "easily usable all of the functions for interacting with the MediaWiki API.\n",
    "I then also created the module `iplot.py` for working with interactive\n",
    "data visualizations. We need a similar module for working with textual\n",
    "data from a corpus of Wikipedia pages. However, this time you are going\n",
    "to try to create this module yourself."
   ]
  },
  {
   "cell_type": "markdown",
   "metadata": {},
   "source": [
    "### Create `wikitext.py`\n",
    "\n",
    "Start by constructing an empty module named `wikitext.py`. We will turn on the\n",
    "autoreload function and import the empty module."
   ]
  },
  {
   "cell_type": "code",
   "execution_count": null,
   "metadata": {},
   "outputs": [],
   "source": [
    "%load_ext autoreload\n",
    "%autoreload 2"
   ]
  },
  {
   "cell_type": "code",
   "execution_count": null,
   "metadata": {},
   "outputs": [],
   "source": [
    "import wikitext"
   ]
  },
  {
   "cell_type": "markdown",
   "metadata": {},
   "source": [
    "Now, add this line into your module to indicate that this is version one of\n",
    "the code:"
   ]
  },
  {
   "cell_type": "code",
   "execution_count": null,
   "metadata": {},
   "outputs": [],
   "source": [
    "__version__ = 1"
   ]
  },
  {
   "cell_type": "markdown",
   "metadata": {},
   "source": [
    "Save the file, and make sure that everything is working correctly (and autoreloading) by\n",
    "checking the version string:"
   ]
  },
  {
   "cell_type": "code",
   "execution_count": null,
   "metadata": {},
   "outputs": [],
   "source": [
    "wikitext.__version__"
   ]
  },
  {
   "cell_type": "markdown",
   "metadata": {},
   "source": [
    "### Cleaning text\n",
    "\n",
    "To start our module, let's create a function that gets rid of the newline characters\n",
    "and numeric references (numbers in square brackets). For example, here is a short\n",
    "snippet of text from the 'Plato' page:"
   ]
  },
  {
   "cell_type": "code",
   "execution_count": null,
   "metadata": {},
   "outputs": [],
   "source": [
    "text = \"\"\"Western religion and spirituality.[6]\\n\"\"\"\n",
    "text"
   ]
  },
  {
   "cell_type": "markdown",
   "metadata": {},
   "source": [
    "Write a function named `clean_text` in the `wikitext.py` module that\n",
    "takes one string argument and returns a cleaned string with the newlines\n",
    "and references removed. You can informally test using this code:"
   ]
  },
  {
   "cell_type": "code",
   "execution_count": null,
   "metadata": {},
   "outputs": [],
   "source": [
    "wikitext.clean_text(text)"
   ]
  },
  {
   "cell_type": "markdown",
   "metadata": {},
   "source": [
    "When you think you have the correct code, test your function by running the\n",
    "following code lines:"
   ]
  },
  {
   "cell_type": "code",
   "execution_count": null,
   "metadata": {},
   "outputs": [],
   "source": [
    "assert wikitext.clean_text(text) == 'Western religion and spirituality.'\n",
    "assert wikitext.clean_text('Some[120] more.') == 'Some more.'\n",
    "assert wikitext.clean_text('And\\n again.') == 'And again.'"
   ]
  },
  {
   "cell_type": "markdown",
   "metadata": {},
   "source": [
    "If your code is working as expected, the block of code will not produce anything.\n",
    "Only if there is an error will something appear."
   ]
  },
  {
   "cell_type": "markdown",
   "metadata": {},
   "source": [
    "### List of paragraphs\n",
    "\n",
    "Next, we'll create a function `link_to_p` that takes the name of a Wikipedia\n",
    "page as an input and returns a list of the paragraphs in the text. That is,\n",
    "each element of the list is a string containing the text of a paragraph. You\n",
    "can test the function with this code (it shows the first three paragraph of\n",
    "the 'Plato' page):"
   ]
  },
  {
   "cell_type": "code",
   "execution_count": null,
   "metadata": {},
   "outputs": [],
   "source": [
    "wikitext.link_to_p('Plato')[:3]"
   ]
  },
  {
   "cell_type": "markdown",
   "metadata": {},
   "source": [
    "Make sure that your function does these two things:\n",
    "\n",
    "- calls the `clean_text` function on each block of text\n",
    "- does not return paragraphs that are empty after cleaning\n",
    "\n",
    "Once you have that worked out, test the code with the test below."
   ]
  },
  {
   "cell_type": "code",
   "execution_count": null,
   "metadata": {},
   "outputs": [],
   "source": [
    "paragraphs = wikitext.link_to_p('Plato')[:3]\n",
    "\n",
    "assert paragraphs[1][:22] == 'Along with his teacher'\n",
    "assert paragraphs[1][-13:] == 'spirituality.'"
   ]
  },
  {
   "cell_type": "markdown",
   "metadata": {},
   "source": [
    "Again, the code works if the above does not produce any output."
   ]
  },
  {
   "cell_type": "markdown",
   "metadata": {},
   "source": [
    "### Entire document\n",
    "\n",
    "While it is often useful to have the text within each paragraph \n",
    "seperated, more often we will want to extract the entire text as\n",
    "a whole. Write a new function `link_to_doc` that returns the entire\n",
    "paragraph text as a single string. Hint: The easiest way to do this\n",
    "is to call the function `link_to_p` and then collapse the results \n",
    "using the `join` function.\n",
    "\n",
    "First, try your code with this:"
   ]
  },
  {
   "cell_type": "code",
   "execution_count": null,
   "metadata": {},
   "outputs": [],
   "source": [
    "wikitext.link_to_doc('Plato')[:1000]"
   ]
  },
  {
   "cell_type": "markdown",
   "metadata": {},
   "source": [
    "Then run these tests once you think you are finished with the code."
   ]
  },
  {
   "cell_type": "code",
   "execution_count": null,
   "metadata": {},
   "outputs": [],
   "source": [
    "doc = wikitext.link_to_doc('Plato')\n",
    "\n",
    "assert type(doc) == str\n",
    "assert len(doc) == 64299\n",
    "assert doc[:5] == 'Plato'"
   ]
  },
  {
   "cell_type": "markdown",
   "metadata": {},
   "source": [
    "### docstrings\n",
    "\n",
    "Go back to the module and make sure that you have full docstrings on all of\n",
    "the functions in the module. These should gives a sentence describing what the\n",
    "function does, followed by the input argument, then what the results are."
   ]
  },
  {
   "cell_type": "markdown",
   "metadata": {},
   "source": [
    "### Checking your code\n",
    "\n",
    "Once you have the three functions written, check your code with the `pycodestyle`\n",
    "and `pylint` modules. "
   ]
  },
  {
   "cell_type": "code",
   "execution_count": null,
   "metadata": {},
   "outputs": [],
   "source": [
    "import pycodestyle\n",
    "pycodestyle.Checker(filename='wikitext.py').check_all()"
   ]
  },
  {
   "cell_type": "code",
   "execution_count": null,
   "metadata": {},
   "outputs": [],
   "source": [
    "from pylint.epylint import lint\n",
    "lint(\"wikitext.py\")"
   ]
  },
  {
   "cell_type": "markdown",
   "metadata": {},
   "source": [
    "Try to fix all of the issues given by these modules. I suggest fixing the code style\n",
    "issues first, followed by the `pylint` warnings. If a warning does not make sense to\n",
    "you, just ask!"
   ]
  },
  {
   "cell_type": "markdown",
   "metadata": {},
   "source": [
    "### More practice\n",
    "\n",
    "Let's write another function! We will write a function named `link_to_plinks` \n",
    "that takes a Wikipedia link and returns a list of all the internal links on the\n",
    "page that are given somewhere inside of a paragraph tag. This will avoid, for\n",
    "example, extraneous links at the bottom and sides of the page. However, we want\n",
    "to ensure a few things about the results:\n",
    "\n",
    "- only return the page name (i.e., not the '/wiki/' part)\n",
    "- only return internal links and 'real' pages; use the list of internal links for this\n",
    "- return a list with no duplicates\n",
    "- sort the list in the output, and make sure the result is a 'list'\n",
    "\n",
    "You'll probably want to work on this function in stages. That is, returning all of\n",
    "the links at first and then building `if` statements to filter out exactly what we\n",
    "want. Note that you'll need to replace spaces with underscores in the list of links\n",
    "provided from the Wikipedia JSON file.\n",
    "\n",
    "You can test your code with:"
   ]
  },
  {
   "cell_type": "code",
   "execution_count": null,
   "metadata": {},
   "outputs": [],
   "source": [
    "wikitext.link_to_plinks('Plato')"
   ]
  },
  {
   "cell_type": "markdown",
   "metadata": {},
   "source": [
    "You should find that the following code will run if you have correctly\n",
    "defined the `link_to_plinks` function."
   ]
  },
  {
   "cell_type": "code",
   "execution_count": null,
   "metadata": {},
   "outputs": [],
   "source": [
    "ilinks = wikitext.link_to_plinks('Plato')\n",
    "\n",
    "assert len(ilinks) == 288\n",
    "assert ilinks[0] == 'Abstraction'\n",
    "assert type(ilinks) == list"
   ]
  },
  {
   "cell_type": "markdown",
   "metadata": {},
   "source": [
    "Finally, ensure that you have a docstring for the function and the `pycodestyle`\n",
    "and `pylint` modules produce no errors."
   ]
  },
  {
   "cell_type": "code",
   "execution_count": null,
   "metadata": {},
   "outputs": [],
   "source": [
    "import pycodestyle\n",
    "pycodestyle.Checker(filename='wikitext.py').check_all()"
   ]
  },
  {
   "cell_type": "code",
   "execution_count": null,
   "metadata": {},
   "outputs": [],
   "source": [
    "from pylint.epylint import lint\n",
    "lint(\"wikitext.py\")"
   ]
  },
  {
   "cell_type": "markdown",
   "metadata": {},
   "source": [
    "### Even more practice\n",
    "\n",
    "The above steps should take some time to get done correctly. If you would like even\n",
    "more practice with building and testing functions for working with XML and textual\n",
    "data, here is one more task. Build a function `link_to_geo` that takes a name of a\n",
    "Wikipedia page and returns either the latitude and longitude associated with the\n",
    "page or, if there is no geographic information, returns the object `None`.\n",
    "\n",
    "You can test your code with the 'London' page:"
   ]
  },
  {
   "cell_type": "code",
   "execution_count": null,
   "metadata": {},
   "outputs": [],
   "source": [
    "wikitext.link_to_geo('London')"
   ]
  },
  {
   "cell_type": "markdown",
   "metadata": {},
   "source": [
    "At first, try to just spit out the coordinates as a string as given by Wikipedia.\n",
    "Then, make sure you that you correctly return `None` when given a page like Plato:"
   ]
  },
  {
   "cell_type": "code",
   "execution_count": null,
   "metadata": {},
   "outputs": [],
   "source": [
    "type(wikitext.link_to_geo('Plato'))"
   ]
  },
  {
   "cell_type": "markdown",
   "metadata": {},
   "source": [
    "Finally, when there is coordinate information, split the string into latitude\n",
    "and longitude and return the result as a tuple (just use `return lat, lon` in \n",
    "the code). To test, check that we have:"
   ]
  },
  {
   "cell_type": "code",
   "execution_count": null,
   "metadata": {},
   "outputs": [],
   "source": [
    "lat, lon = wikitext.link_to_geo('London')\n",
    "\n",
    "assert type(lat) == float\n",
    "assert type(lon) == float\n",
    "assert abs(lat - 51.50722) < 0.4\n",
    "assert abs(lon - -0.12750) < 0.4\n",
    "assert wikitext.link_to_geo('Plato') == None"
   ]
  },
  {
   "cell_type": "markdown",
   "metadata": {},
   "source": [
    "And, as usual, make sure that you have full docstrings and the code produces\n",
    "no warnings when running `pylint`."
   ]
  },
  {
   "cell_type": "code",
   "execution_count": null,
   "metadata": {},
   "outputs": [],
   "source": []
  }
 ],
 "metadata": {
  "kernelspec": {
   "display_name": "Python 3",
   "language": "python",
   "name": "python3"
  },
  "language_info": {
   "codemirror_mode": {
    "name": "ipython",
    "version": 3
   },
   "file_extension": ".py",
   "mimetype": "text/x-python",
   "name": "python",
   "nbconvert_exporter": "python",
   "pygments_lexer": "ipython3",
   "version": "3.6.6"
  }
 },
 "nbformat": 4,
 "nbformat_minor": 2
}
