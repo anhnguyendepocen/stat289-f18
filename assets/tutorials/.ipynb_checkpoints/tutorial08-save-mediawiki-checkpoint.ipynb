{
 "cells": [
  {
   "cell_type": "markdown",
   "metadata": {},
   "source": [
    "## Tutorial 08: Saving MediaWiki Requests\n",
    "\n",
    "Today's note walk you through building a function to save\n",
    "MediaWiki requests on your machine. "
   ]
  },
  {
   "cell_type": "markdown",
   "metadata": {},
   "source": [
    "Let's start by loading four modules that we will need for this\n",
    "tutorial. I will also grab by name the function `join` as we will\n",
    "need to use it quite frequently."
   ]
  },
  {
   "cell_type": "code",
   "execution_count": null,
   "metadata": {},
   "outputs": [],
   "source": [
    "import json\n",
    "import os\n",
    "import re\n",
    "import requests\n",
    "\n",
    "from os.path import join"
   ]
  },
  {
   "cell_type": "markdown",
   "metadata": {},
   "source": [
    "### Making the request\n",
    "\n",
    "Before we wrap up any fancy functions, let's replicate\n",
    "the API request that we made in your browser. Start here\n",
    "by defining the `lang` (language), the `base_api_url`,\n",
    "and the `default_query` parameters:"
   ]
  },
  {
   "cell_type": "code",
   "execution_count": null,
   "metadata": {},
   "outputs": [],
   "source": [
    "lang = 'en'\n",
    "base_api_url = 'https://' + lang + '.wikipedia.org/w/api.php'\n",
    "default_query = 'action=parse&format=json&'"
   ]
  },
  {
   "cell_type": "markdown",
   "metadata": {},
   "source": [
    "Now let's define the page title for the University of Richmond\n",
    "(and convert spaces to underscores if needed) and then build the\n",
    "full URL string:"
   ]
  },
  {
   "cell_type": "code",
   "execution_count": null,
   "metadata": {},
   "outputs": [],
   "source": [
    "page_title = \"University of Richmond\"\n",
    "page_title = re.sub(\" \", \"_\", page_title)\n",
    "url = base_api_url + \"?\" + default_query + \"page=\" + page_title"
   ]
  },
  {
   "cell_type": "markdown",
   "metadata": {},
   "source": [
    "Pay attention to how I am using the `+` operator to build a larger\n",
    "string from individual variables. The variable `url` should now \n",
    "contain the same URL request that we ran in the browser."
   ]
  },
  {
   "cell_type": "code",
   "execution_count": null,
   "metadata": {},
   "outputs": [],
   "source": [
    "print(url)"
   ]
  },
  {
   "cell_type": "markdown",
   "metadata": {},
   "source": [
    "Now we are ready to make a request Wikipedia asking for the page\n",
    "level data. The format here is exactly the same as requesting an\n",
    "HTML page. You should get a response code of '200' indicating a\n",
    "succesful request."
   ]
  },
  {
   "cell_type": "code",
   "execution_count": null,
   "metadata": {},
   "outputs": [],
   "source": [
    "r = requests.get(url)\n",
    "r"
   ]
  },
  {
   "cell_type": "markdown",
   "metadata": {},
   "source": [
    "Now, because the data is in JSON format we need to use slightly\n",
    "different code to grab the data. Here, I'm calling the json method\n",
    "of the request and selecting just the 'parse' parameter (remember\n",
    "in your browser that the parse element was the top of the JSON \n",
    "tree)."
   ]
  },
  {
   "cell_type": "code",
   "execution_count": null,
   "metadata": {},
   "outputs": [],
   "source": [
    "page_data = r.json()['parse']"
   ]
  },
  {
   "cell_type": "markdown",
   "metadata": {},
   "source": [
    "If we print this out, you'll see that it contains the same \n",
    "information as you had in your browser (but probably not \n",
    "formatted as well):"
   ]
  },
  {
   "cell_type": "code",
   "execution_count": null,
   "metadata": {},
   "outputs": [],
   "source": [
    "print(page_data)"
   ]
  },
  {
   "cell_type": "markdown",
   "metadata": {},
   "source": [
    "### Dictionaries (briefly)\n",
    "\n",
    "The data we call JSON in represented as an object type known\n",
    "as a dictionary (dict for short) in Python:"
   ]
  },
  {
   "cell_type": "code",
   "execution_count": null,
   "metadata": {},
   "outputs": [],
   "source": [
    "type(data)"
   ]
  },
  {
   "cell_type": "markdown",
   "metadata": {},
   "source": [
    "We'll talk more about dictionaries next class, but I thought\n",
    "it would be useful for you to at least hear the term and see\n",
    "them in action today. You can access the 'elements' of the dictionary\n",
    "by using square brackets and the name of the element that you want\n",
    "to locate. For example, here are all of the images on our page:"
   ]
  },
  {
   "cell_type": "code",
   "execution_count": null,
   "metadata": {},
   "outputs": [],
   "source": [
    "data['images']"
   ]
  },
  {
   "cell_type": "markdown",
   "metadata": {},
   "source": [
    "And here are all of the external links on the UR Wikipedia\n",
    "page:"
   ]
  },
  {
   "cell_type": "code",
   "execution_count": null,
   "metadata": {},
   "outputs": [],
   "source": [
    "data['externallinks']"
   ]
  },
  {
   "cell_type": "markdown",
   "metadata": {},
   "source": [
    "Next time we will see how to work with, save, and compute\n",
    "over these various elements."
   ]
  },
  {
   "cell_type": "markdown",
   "metadata": {},
   "source": [
    "### Saving a dictionary / JSON file\n",
    "\n",
    "First, let's just save our UR json file as a file under the\n",
    "tutorials directory on your laptop. The syntax below creates\n",
    "a file for **w**riting named \"ur.json\" and saves the variable\n",
    "data into the file."
   ]
  },
  {
   "cell_type": "code",
   "execution_count": null,
   "metadata": {},
   "outputs": [],
   "source": [
    "with open('ur.json', 'w') as outfile:\n",
    "    json.dump(data, outfile)"
   ]
  },
  {
   "cell_type": "markdown",
   "metadata": {},
   "source": [
    "Go back to the file browser in Python and check that the file was\n",
    "created. Click on it and verify that the JSON data is available.\n",
    "\n",
    "Now, let's load the file back into Python. This time we open a\n",
    "file for **r**eading and save it as the object `new_data`."
   ]
  },
  {
   "cell_type": "code",
   "execution_count": null,
   "metadata": {},
   "outputs": [],
   "source": [
    "with open('ur.json', 'r') as infile:\n",
    "    new_data = json.load(infile)"
   ]
  },
  {
   "cell_type": "markdown",
   "metadata": {},
   "source": [
    "When you print out the object `new_data` it should contain\n",
    "the same information as the original data."
   ]
  },
  {
   "cell_type": "code",
   "execution_count": null,
   "metadata": {},
   "outputs": [],
   "source": [
    "new_data"
   ]
  },
  {
   "cell_type": "markdown",
   "metadata": {},
   "source": [
    "### Correct file path\n",
    "\n",
    "Now, we need a function that returns the corect path that a\n",
    "JSON file should be stored at based on its title and the Wikipedia\n",
    "language. This is a bit tricky, particularly if you want it to run\n",
    "correctly across various operating systems, so I'll just give you\n",
    "the correct code here. But, you should be able to understand most\n",
    "of the parts and what is going on."
   ]
  },
  {
   "cell_type": "code",
   "execution_count": null,
   "metadata": {},
   "outputs": [],
   "source": [
    "def wiki_json_path(page_title, lang='en'):\n",
    "    \"\"\"Returns local path to JSON file for Wikipeida page data\n",
    "    \n",
    "    This function is used to determine where the dump of a \n",
    "    call to the MediaWiki API, using the parse method, should\n",
    "    be stored. As an extra action, the function also checks that\n",
    "    the relevant directory exists and creates it if it does not.\n",
    "    \n",
    "    Args:\n",
    "        page_title: A string containing the page title.\n",
    "        lang: Two letter language code describing the Wikipedia\n",
    "            language used to grab the data.\n",
    "            \n",
    "    Returns:\n",
    "        A string describing a relative path to file.\n",
    "    \"\"\"\n",
    "    page_title = re.sub(\" \", \"_\", page_title)\n",
    "    stat289_base_dir = os.path.dirname(os.getcwd())\n",
    "    \n",
    "    dir_name = join(stat289_base_dir, \"data\", lang)\n",
    "    if not os.path.exists(dir_name):\n",
    "        os.makedirs(dir_name)\n",
    "        \n",
    "    file_name = page_title + \".json\"\n",
    "    file_path = join(dir_name, file_name)\n",
    "    \n",
    "    return file_path"
   ]
  },
  {
   "cell_type": "markdown",
   "metadata": {},
   "source": [
    "We can test out that the function works as expected here:"
   ]
  },
  {
   "cell_type": "code",
   "execution_count": null,
   "metadata": {},
   "outputs": [],
   "source": [
    "wiki_json_path(\"Univeristy of Richmond\")"
   ]
  },
  {
   "cell_type": "markdown",
   "metadata": {},
   "source": [
    "**Note**: I believe this code works as given on Windows, but I was\n",
    "not able to test it directly. Please let me know if you have any\n",
    "issues with the code."
   ]
  },
  {
   "cell_type": "markdown",
   "metadata": {},
   "source": [
    "### Using the MediaWiki API\n",
    "\n",
    "Now, let's define a function that grabs the data from the\n",
    "MediaWiki API and either loads the file from your computer\n",
    "or pulls it from Wikipedia.\n",
    "\n",
    "We'll need this function a lot, and some of the details haven't\n",
    "been covered in the tutorials yet, so I'll provide the code \n",
    "directly here. Notice that I've split the code into two parts\n",
    "to improve readability."
   ]
  },
  {
   "cell_type": "code",
   "execution_count": null,
   "metadata": {},
   "outputs": [],
   "source": [
    "def get_mediawiki_request(page_title, lang):\n",
    "    \"\"\"Returns URL to make parse request to the MediaWiki API\n",
    "        \n",
    "    Args:\n",
    "        page_title: A string containing the page title.\n",
    "        lang: Two letter language code describing the Wikipedia\n",
    "            language used to grab the data.\n",
    "            \n",
    "    Returns:\n",
    "        A string giving the complete request URL.\n",
    "    \"\"\"\n",
    "    page_title = re.sub(\" \", \"_\", page_title)\n",
    "    base_api_url = 'https://' + lang + '.wikipedia.org/w/api.php'\n",
    "    default_query = 'action=parse&format=json&'\n",
    "\n",
    "    url = base_api_url + \"?\" + default_query + \"page=\" + page_title\n",
    "    return url"
   ]
  },
  {
   "cell_type": "code",
   "execution_count": null,
   "metadata": {},
   "outputs": [],
   "source": [
    "def get_wiki_json(page_title, lang='en'):\n",
    "    \"\"\"Returns JSON data as a dictionary for the Wikipedia page\n",
    "    \n",
    "    This function either loads a cached version of the page or,\n",
    "    if a local version of the page is not available, calls the\n",
    "    MediaWiki API directly.\n",
    "    \n",
    "    Args:\n",
    "        page_title: A string containing the page title.\n",
    "        lang: Two letter language code describing the Wikipedia\n",
    "            language used to grab the data.\n",
    "            \n",
    "    Returns:\n",
    "        A dictionary object with the complete parsed JSON data.\n",
    "    \"\"\"\n",
    "    file_path = wiki_json_path(page_title, lang)\n",
    "    \n",
    "    # if page does not exist, grab it from Wikipedia\n",
    "    if not os.path.exists(file_path):\n",
    "        print(\"Pulling data from MediaWiki API...\")\n",
    "        url = get_mediawiki_request(page_title, lang)\n",
    "        r = requests.get(url)\n",
    "        page_data = r.json()['parse']\n",
    "        with open(file_path, 'w') as outfile:\n",
    "            json.dump(page_data, outfile)\n",
    "            \n",
    "    # read the JSON data from local filesystem\n",
    "    with open(file_path, 'r') as infile:\n",
    "        new_data = json.load(infile)\n",
    "    \n",
    "    return new_data"
   ]
  },
  {
   "cell_type": "markdown",
   "metadata": {},
   "source": [
    "Try to run the code using the chunk below. The first\n",
    "time its run it should print out a message; afterwards\n",
    "it should load the file directly."
   ]
  },
  {
   "cell_type": "code",
   "execution_count": null,
   "metadata": {},
   "outputs": [],
   "source": [
    "data = get_wiki_json(\"University of Richmond\")"
   ]
  },
  {
   "cell_type": "markdown",
   "metadata": {},
   "source": [
    "Test the function further by also grabbing the following pages."
   ]
  },
  {
   "cell_type": "code",
   "execution_count": null,
   "metadata": {},
   "outputs": [],
   "source": [
    "data = get_wiki_json(\"University of Virginia\")\n",
    "data = get_wiki_json(\"Virginia Commonwealth University\")\n",
    "data = get_wiki_json(\"Virginia Union University\")"
   ]
  },
  {
   "cell_type": "markdown",
   "metadata": {},
   "source": [
    "Open your 'data' directory and look in the directory for 'en'.\n",
    "Make sure that your data shows up correctly. Also make sure that\n",
    "re-running the code does not print out the message\n",
    "\"Pulling data from MediaWiki API...\"."
   ]
  },
  {
   "cell_type": "code",
   "execution_count": null,
   "metadata": {},
   "outputs": [],
   "source": []
  }
 ],
 "metadata": {
  "kernelspec": {
   "display_name": "Python 3",
   "language": "python",
   "name": "python3"
  },
  "language_info": {
   "codemirror_mode": {
    "name": "ipython",
    "version": 3
   },
   "file_extension": ".py",
   "mimetype": "text/x-python",
   "name": "python",
   "nbconvert_exporter": "python",
   "pygments_lexer": "ipython3",
   "version": "3.6.6"
  }
 },
 "nbformat": 4,
 "nbformat_minor": 2
}
