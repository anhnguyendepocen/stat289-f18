{
 "cells": [
  {
   "cell_type": "markdown",
   "metadata": {},
   "source": [
    "## Tutorial 14: Networks and Algorithms\n",
    "\n",
    "In this tutorial we use the **networkx** module to work with network/graph\n",
    "objects in Python. To start, read in the modules and get the matplotlib graphics\n",
    "engine running properly (if you have a smaller screen, feel free to adjust the \n",
    "size of the plots)."
   ]
  },
  {
   "cell_type": "code",
   "execution_count": null,
   "metadata": {},
   "outputs": [],
   "source": [
    "%matplotlib inline\n",
    "import matplotlib\n",
    "import matplotlib.pyplot as plt\n",
    "import networkx as nx"
   ]
  },
  {
   "cell_type": "code",
   "execution_count": null,
   "metadata": {},
   "outputs": [],
   "source": [
    "matplotlib.rcParams['figure.figsize'] = (20.0, 10.0)"
   ]
  },
  {
   "cell_type": "markdown",
   "metadata": {},
   "source": [
    "### Graph objects\n",
    "\n",
    "We'll start by creating and empty graph object `G`. Notice that\n",
    "printing out the object does not show anything particularly\n",
    "interesting."
   ]
  },
  {
   "cell_type": "code",
   "execution_count": null,
   "metadata": {},
   "outputs": [],
   "source": [
    "G = nx.Graph()\n",
    "G"
   ]
  },
  {
   "cell_type": "markdown",
   "metadata": {},
   "source": [
    "We use the method (a function attached to an object) `add_edge` to\n",
    "add things to the graph. The syntax involves giving the\n",
    "names of two connected edges. Here, I'll make a graph of the three\n",
    "(non-island) countries in North America and connect those that share\n",
    "a border."
   ]
  },
  {
   "cell_type": "code",
   "execution_count": null,
   "metadata": {},
   "outputs": [],
   "source": [
    "G.add_edge(\"United States\", \"Canada\")\n",
    "G.add_edge(\"United States\", \"Mexico\")"
   ]
  },
  {
   "cell_type": "markdown",
   "metadata": {},
   "source": [
    "Nodes are created as needed by the `add_edge` function. We can see them using the\n",
    "`nodes` attribute of `G`:"
   ]
  },
  {
   "cell_type": "code",
   "execution_count": null,
   "metadata": {},
   "outputs": [],
   "source": [
    "G.nodes"
   ]
  },
  {
   "cell_type": "markdown",
   "metadata": {},
   "source": [
    "Similarly, the `edges` attribute shows the two edges in our graph."
   ]
  },
  {
   "cell_type": "code",
   "execution_count": null,
   "metadata": {},
   "outputs": [],
   "source": [
    "G.edges"
   ]
  },
  {
   "cell_type": "markdown",
   "metadata": {},
   "source": [
    "#### Plotting the network\n",
    "\n",
    "We can plot a simple version of the graph using one of several plotting methods.\n",
    "Here, I'll use the `draw_spring` function, which should be good enough for most\n",
    "use cases."
   ]
  },
  {
   "cell_type": "code",
   "execution_count": null,
   "metadata": {},
   "outputs": [],
   "source": [
    "nx.draw_spring(G)"
   ]
  },
  {
   "cell_type": "markdown",
   "metadata": {},
   "source": [
    "**Note: Run the code above a few times and/or look at your neighbors\n",
    "plot. You should see that the results are not stable.** The algorithm is\n",
    "stochastic and based on a physics simulation. The general shape should be\n",
    "similar but the exact output changes each time the code is run.\n",
    "\n",
    "We can make our plot more interesting using the `with_labels` option."
   ]
  },
  {
   "cell_type": "code",
   "execution_count": null,
   "metadata": {},
   "outputs": [],
   "source": [
    "nx.draw_spring(G, with_labels=True)"
   ]
  },
  {
   "cell_type": "markdown",
   "metadata": {},
   "source": [
    "#### A kite graph\n",
    "\n",
    "Now, let's create a slightly more complex network. This is known as the\n",
    "'kite graph' given its shape. It is a simplified version of the kite graph\n",
    "from my notes. "
   ]
  },
  {
   "cell_type": "code",
   "execution_count": null,
   "metadata": {},
   "outputs": [],
   "source": [
    "G = nx.Graph()\n",
    "G.add_edge(\"A\", \"B\")\n",
    "G.add_edge(\"B\", \"C\")\n",
    "G.add_edge(\"A\", \"C\")\n",
    "G.add_edge(\"C\", \"D\")\n",
    "G.add_edge(\"A\", \"D\")\n",
    "G.add_edge(\"D\", \"E\")\n",
    "\n",
    "nx.draw_spring(G, with_labels=True)"
   ]
  },
  {
   "cell_type": "markdown",
   "metadata": {},
   "source": [
    "#### Centrality\n",
    "\n",
    "Plotting networks is a nice way to start understanding what's going on,\n",
    "but typically more useful in an analysis will be extracting network\n",
    "metrics. For example, we can associate with each node a centrality score.\n",
    "\n",
    "Eigenvalue centrality scores for each node, $x_j$, are defined through a\n",
    "recursive relationship. Specifically, the eigenvalue centrality of a node\n",
    "is proportional to the sum of its neighbor's, $N(i)$, scores:\n",
    "\n",
    "$$ x_j = \\lambda \\cdot \\sum_{i \\in N(j)} x_i $$\n",
    "\n",
    "The value of $\\lambda$ is an eigenvalue, hence the name (the details are\n",
    "not important right now). We can compute these with the `eigenvector_centrality_numpy`\n",
    "function:"
   ]
  },
  {
   "cell_type": "code",
   "execution_count": null,
   "metadata": {},
   "outputs": [],
   "source": [
    "nx.eigenvector_centrality_numpy(G)"
   ]
  },
  {
   "cell_type": "markdown",
   "metadata": {},
   "source": [
    "For this small example, its easy to see that 'A' and 'C' have the highest score\n",
    "and 'E' the smallest. We can automate this using the code below:"
   ]
  },
  {
   "cell_type": "code",
   "execution_count": null,
   "metadata": {},
   "outputs": [],
   "source": [
    "import operator\n",
    "\n",
    "cent = nx.eigenvector_centrality_numpy(G)\n",
    "sorted_x = sorted(cent.items(), key=operator.itemgetter(1), reverse=True)\n",
    "sorted_x"
   ]
  },
  {
   "cell_type": "markdown",
   "metadata": {},
   "source": [
    "This will be useful for larger networks. Another, simplier, metric for\n",
    "determining the centrality of a node is the \"degree centrality\". It's\n",
    "proportional to the number of neighbors a node has."
   ]
  },
  {
   "cell_type": "code",
   "execution_count": null,
   "metadata": {},
   "outputs": [],
   "source": [
    "cent = nx.degree_centrality(G)\n",
    "sorted_x = sorted(cent.items(), key=operator.itemgetter(1), reverse=True)\n",
    "sorted_x"
   ]
  },
  {
   "cell_type": "markdown",
   "metadata": {},
   "source": [
    "There are a few other centrality metrics that we saw in the notes, such as betweeness,\n",
    "but I find computing them in **networkx** prohibitively slow."
   ]
  },
  {
   "cell_type": "markdown",
   "metadata": {},
   "source": [
    "#### Communities\n",
    "\n",
    "Another algorithm we can apply to a graph determines what the communities\n",
    "are within the network. Roughly, a community is a set of nodes that are \n",
    "more connected with each other than they are with the remainer of the plot.\n",
    "\n",
    "Here, we use the `asyn_fluidc` function to split the graph into 3 communities.\n",
    "Note that this algorithm is stochastic and you may have different results each\n",
    "time you run the code."
   ]
  },
  {
   "cell_type": "code",
   "execution_count": null,
   "metadata": {},
   "outputs": [],
   "source": [
    "from networkx.algorithms.community.asyn_fluidc import asyn_fluidc\n",
    "\n",
    "communities = list(asyn_fluidc(G, 3))\n",
    "communities"
   ]
  },
  {
   "cell_type": "markdown",
   "metadata": {},
   "source": [
    "While we have this small example, let' see how to inverse this process\n",
    "by assigning each node to its cluster."
   ]
  },
  {
   "cell_type": "code",
   "execution_count": null,
   "metadata": {},
   "outputs": [],
   "source": [
    "communities_id = {}\n",
    "for idx, val in enumerate(communities):\n",
    "    for k in val:\n",
    "        communities_id[k] = idx\n",
    "        \n",
    "communities_id.values()"
   ]
  },
  {
   "cell_type": "code",
   "execution_count": null,
   "metadata": {},
   "outputs": [],
   "source": [
    "import pandas as pd\n",
    "df = pd.DataFrame()\n",
    "df['title'] = communities_id.keys()\n",
    "df"
   ]
  },
  {
   "cell_type": "markdown",
   "metadata": {},
   "source": [
    "### Wikipedia graphs\n",
    "\n",
    "Now, let's build some more interesting graphs using our Wikipedia corpus. Start\n",
    "by loading in the `iplot` and `wiki` modules."
   ]
  },
  {
   "cell_type": "code",
   "execution_count": null,
   "metadata": {},
   "outputs": [],
   "source": [
    "import iplot\n",
    "import wiki\n",
    "\n",
    "assert iplot.__version__ >= 1\n",
    "assert wiki.__version__ >= 3"
   ]
  },
  {
   "cell_type": "markdown",
   "metadata": {},
   "source": [
    "We'll work with the Birthday Cake dataset first. Here is the data to get all of the pages\n",
    "linked to from the seed page:"
   ]
  },
  {
   "cell_type": "code",
   "execution_count": null,
   "metadata": {},
   "outputs": [],
   "source": [
    "data_json = wiki.get_wiki_json(\"Birthday_cake\")\n",
    "internal_links = wiki.links_as_list(data_json) + ['Birthday_cake']\n",
    "internal_links[:10]"
   ]
  },
  {
   "cell_type": "markdown",
   "metadata": {},
   "source": [
    "Now, we want to create a graph object where the nodes are the pages stored in\n",
    "`internal_links` and edges connect any two pages that link to one another. How\n",
    "would we go about doing this? We will need a `for` loop to cycle through the pages.\n",
    "But, on each page we **also** need to cycle through all of internal links on that\n",
    "page. To do this, we'll need *nested loops*. That is, we have one loop inside of \n",
    "another.\n",
    "\n",
    "Here is an example of how a nested for loop works. To show this, I'll create an object\n",
    "`A` that consists of a \"list of lists\":"
   ]
  },
  {
   "cell_type": "code",
   "execution_count": null,
   "metadata": {},
   "outputs": [],
   "source": [
    "A = [['cow', 'chicken', 'duck'], ['banana', 'apple'], ['Virginia', 'Maryland']]\n",
    "\n",
    "for items in A:\n",
    "    for x in items:\n",
    "        print(x + ' - ' + str(len(x)))"
   ]
  },
  {
   "cell_type": "markdown",
   "metadata": {},
   "source": [
    "So, there isn't too much to the nested for loops. Now, try to use everything we've\n",
    "learned to fix the code below to create a graph of all the internal links on the pages\n",
    "in the list `internal_links`. (Note: the resulting graph is probably not exactly what\n",
    "we need, more on this below)."
   ]
  },
  {
   "cell_type": "code",
   "execution_count": null,
   "metadata": {},
   "outputs": [],
   "source": [
    "G = nx.Graph()\n",
    "\n",
    "for link in internal_links:\n",
    "    # write code in here; you'll need to use wiki.get_wiki_json\n",
    "    # and a nested loop"
   ]
  },
  {
   "cell_type": "markdown",
   "metadata": {},
   "source": [
    "Now, how many edges are there in the graph?"
   ]
  },
  {
   "cell_type": "code",
   "execution_count": null,
   "metadata": {},
   "outputs": [],
   "source": [
    "len(G.edges)"
   ]
  },
  {
   "cell_type": "markdown",
   "metadata": {},
   "source": [
    "You should have thousands of edges. If you only have a few\n",
    "hundred, you didn't do the nested loops correctly.\n",
    "\n",
    "Let's now see how many nodes there are in the graph:"
   ]
  },
  {
   "cell_type": "code",
   "execution_count": null,
   "metadata": {},
   "outputs": [],
   "source": [
    "len(G.nodes)"
   ]
  },
  {
   "cell_type": "markdown",
   "metadata": {},
   "source": [
    "Compare this with the number of internal links:"
   ]
  },
  {
   "cell_type": "code",
   "execution_count": null,
   "metadata": {},
   "outputs": [],
   "source": [
    "len(internal_links)"
   ]
  },
  {
   "cell_type": "markdown",
   "metadata": {},
   "source": [
    "Unless you did something wrong (or very clever) above, you should see that there\n",
    "are over 15k nodes in the graph even though there are 203 internal links.\n",
    "\n",
    "**Question: Why is there this discrepency? (and if you somehow took care of the\n",
    "issue already, try to think of what problem would cause someone to have too many\n",
    "nodes)**"
   ]
  },
  {
   "cell_type": "markdown",
   "metadata": {},
   "source": [
    "**Answer:**"
   ]
  },
  {
   "cell_type": "markdown",
   "metadata": {},
   "source": [
    "### Testing inclusion\n",
    "\n",
    "I'll give you the answer to the question directly above: you probably included\n",
    "all of the internal links on all of the pages. This would include, for example,\n",
    "any link on any page linked to from the Birthday Cake page. We don't want all \n",
    "of these links. Instead, we only want links where the starting and ending node\n",
    "are in our set `internal_links`.\n",
    "\n",
    "Here, I'll walk you through two different ways to do this in Python using one\n",
    "page as an example. You'll then work one of these methods into your nested loop.\n",
    "\n",
    "Let's take the 18th internal link, which should be the 'Birthday':"
   ]
  },
  {
   "cell_type": "code",
   "execution_count": null,
   "metadata": {},
   "outputs": [],
   "source": [
    "link = internal_links[17]\n",
    "link"
   ]
  },
  {
   "cell_type": "markdown",
   "metadata": {},
   "source": [
    "I'll grab the JSON file for this page and extract its internal links:"
   ]
  },
  {
   "cell_type": "code",
   "execution_count": null,
   "metadata": {},
   "outputs": [],
   "source": [
    "data = wiki.get_wiki_json(link)\n",
    "new_links = wiki.links_as_list(data)\n",
    "new_links[:25]"
   ]
  },
  {
   "cell_type": "markdown",
   "metadata": {},
   "source": [
    "Many, perhaps even most, of these links are **not** in our set `internal_links`.\n",
    "We want to filter out only those that are. There are two ways to do this, and I\n",
    "will show you both.\n",
    "\n",
    "The first method uses the function `set` to create a set object in Python. A set\n",
    "is similar to a list, but cannot contain any duplicate values and does not have\n",
    "any particular ordering. Sets in python allow for set arthimetic, so if we subtract\n",
    "one set from another it will remove elements in the second from the first. For\n",
    "example:"
   ]
  },
  {
   "cell_type": "code",
   "execution_count": null,
   "metadata": {},
   "outputs": [],
   "source": [
    "set(['a', 'b', 'c', 'd']) - set(['b', 'c'])"
   ]
  },
  {
   "cell_type": "markdown",
   "metadata": {},
   "source": [
    "Similarly, the `intersection` method of a set find those elements that are common\n",
    "between to sets:"
   ]
  },
  {
   "cell_type": "code",
   "execution_count": null,
   "metadata": {},
   "outputs": [],
   "source": [
    "set(['a', 'b', 'c', 'd']).intersection(set(['b', 'c']))"
   ]
  },
  {
   "cell_type": "markdown",
   "metadata": {},
   "source": [
    "So, what links from the Independent site are included in our list? Here\n",
    "we see this using sets:"
   ]
  },
  {
   "cell_type": "code",
   "execution_count": null,
   "metadata": {},
   "outputs": [],
   "source": [
    "list(set(new_links).intersection(set(internal_links)))"
   ]
  },
  {
   "cell_type": "markdown",
   "metadata": {},
   "source": [
    "You should see that it have just three links to other pages in our set."
   ]
  },
  {
   "cell_type": "markdown",
   "metadata": {},
   "source": [
    "The other way to solve this problem is to test whether a specific link\n",
    "is in our list `internal_links`. This can be done with the function `in`\n",
    "for a particular element:"
   ]
  },
  {
   "cell_type": "code",
   "execution_count": null,
   "metadata": {},
   "outputs": [],
   "source": [
    "'Cake' in internal_links"
   ]
  },
  {
   "cell_type": "code",
   "execution_count": null,
   "metadata": {},
   "outputs": [],
   "source": [
    "'Age of marriage' in internal_links"
   ]
  },
  {
   "cell_type": "markdown",
   "metadata": {},
   "source": [
    "How do we make use of this? We can use an `if` statement which executes its\n",
    "code only if a statement is `True`. So:"
   ]
  },
  {
   "cell_type": "code",
   "execution_count": null,
   "metadata": {},
   "outputs": [],
   "source": [
    "for link in new_links:\n",
    "    if link in internal_links:\n",
    "        print(link)"
   ]
  },
  {
   "cell_type": "markdown",
   "metadata": {},
   "source": [
    "Either way works for this application. The sets are a bit cleaner, but we'll need\n",
    "`if` statements in other applications so it's useful to see how they work here."
   ]
  },
  {
   "cell_type": "markdown",
   "metadata": {},
   "source": [
    "### Wikipedia graphs II\n",
    "\n",
    "Now that we know how to only include the correct edges, here we will\n",
    "write code here to create the correct graph. It will be more interesting\n",
    "to work with the Richmond dataset in our analysis, so let's use that one\n",
    "now."
   ]
  },
  {
   "cell_type": "code",
   "execution_count": null,
   "metadata": {},
   "outputs": [],
   "source": [
    "data_json = wiki.get_wiki_json(\"Richmond, Virginia\")\n",
    "internal_links = wiki.links_as_list(data_json) + ['Richmond, Virginia']"
   ]
  },
  {
   "cell_type": "markdown",
   "metadata": {},
   "source": [
    "Now, write the code for constructing the graph here:"
   ]
  },
  {
   "cell_type": "code",
   "execution_count": null,
   "metadata": {},
   "outputs": [],
   "source": [
    "G = nx.Graph()\n",
    "\n",
    "for link in internal_links:\n",
    "    # write code in here; you'll need to use wiki.get_wiki_json\n",
    "    # and a nested loop"
   ]
  },
  {
   "cell_type": "markdown",
   "metadata": {},
   "source": [
    "When you're done, test that it has as many nodes as there are internal links."
   ]
  },
  {
   "cell_type": "code",
   "execution_count": null,
   "metadata": {},
   "outputs": [],
   "source": [
    "print(len(G.nodes))\n",
    "print(len(internal_links))"
   ]
  },
  {
   "cell_type": "markdown",
   "metadata": {},
   "source": [
    "### Analysis\n",
    "\n",
    "Now, finally, let's actually analyze our data using the `networkx` module.\n",
    "To start, try to plot the network (it's possible that this will be too slow\n",
    "on your machine, just try it out anyway)."
   ]
  },
  {
   "cell_type": "code",
   "execution_count": null,
   "metadata": {
    "scrolled": false
   },
   "outputs": [],
   "source": [
    "nx.draw_spring(G, with_labels=True)"
   ]
  },
  {
   "cell_type": "markdown",
   "metadata": {},
   "source": [
    "The plot here is very difficult to read, and won't be very helpful for our analysis.\n",
    "A better approach is to use the network structure to tell use something about the\n",
    "structure of the internal links on Wikipedia.\n",
    "\n",
    "In this code here, copy the code from above to compute the eigenvector centrality\n",
    "score and print out the top pages."
   ]
  },
  {
   "cell_type": "code",
   "execution_count": null,
   "metadata": {},
   "outputs": [],
   "source": [
    "import operator\n",
    "\n",
    "cent = nx.eigenvector_centrality_numpy(G)\n",
    "sorted_x = sorted(cent.items(), key=operator.itemgetter(1), reverse=True)\n",
    "sorted_x[:20]"
   ]
  },
  {
   "cell_type": "markdown",
   "metadata": {},
   "source": [
    "**Question**: What do you notice about the top pages? Any guess as to why these\n",
    "have the highest centrality scores?"
   ]
  },
  {
   "cell_type": "markdown",
   "metadata": {},
   "source": [
    "**Answer**:"
   ]
  },
  {
   "cell_type": "markdown",
   "metadata": {},
   "source": [
    "Let's also look at some of the communities found by the network algorithm. Detect\n",
    "25 communities using the Fluid Communities algorithm. I've set the *random seed*\n",
    "here so that the results should be the same for everyone (the algorithm is stochastic\n",
    "and will give slightly different results each time you run it)."
   ]
  },
  {
   "cell_type": "code",
   "execution_count": null,
   "metadata": {},
   "outputs": [],
   "source": [
    "import random\n",
    "random.seed(1)\n",
    "\n",
    "communities = list(asyn_fluidc(G, 25))"
   ]
  },
  {
   "cell_type": "markdown",
   "metadata": {},
   "source": [
    "The code below prints out pages in each of the 25 communities."
   ]
  },
  {
   "cell_type": "code",
   "execution_count": null,
   "metadata": {},
   "outputs": [],
   "source": [
    "for idx, com in enumerate(communities):\n",
    "    print(str(idx) + \":\")\n",
    "    print(\"; \".join(list(com)))\n",
    "    print(\"\")"
   ]
  },
  {
   "cell_type": "markdown",
   "metadata": {},
   "source": [
    "Look at the communities and try to figure out what each represents. Assuming\n",
    "that the seed works the same on your machine as it does mine, you should be able\n",
    "to figure out at least what communities 1, 3, 5, 6, 7, 8, 9, 10 11, 12, and 15 \n",
    "are clustering around. "
   ]
  },
  {
   "cell_type": "markdown",
   "metadata": {},
   "source": [
    "### Aggregating \n",
    "\n",
    "For the first project, you are writing code that pulls a number of page metrics\n",
    "and puts them all into a pandas DataFrame. We can similarly put network metrics\n",
    "into a DataFrame object. I'll just give you the code here for collecting the\n",
    "eigenvector and degree centrality scores."
   ]
  },
  {
   "cell_type": "code",
   "execution_count": null,
   "metadata": {},
   "outputs": [],
   "source": [
    "import pandas as pd\n",
    "\n",
    "df = pd.DataFrame(dict(\n",
    "    eigen=nx.eigenvector_centrality_numpy(G),\n",
    "    degree=nx.degree_centrality(G)\n",
    "))\n",
    "df['title'] = df.index\n",
    "df['url'] = df.index"
   ]
  },
  {
   "cell_type": "code",
   "execution_count": null,
   "metadata": {},
   "outputs": [],
   "source": [
    "df.head()"
   ]
  },
  {
   "cell_type": "markdown",
   "metadata": {},
   "source": [
    "Now, I'll use the `iplot` module to create a visualization of this data."
   ]
  },
  {
   "cell_type": "code",
   "execution_count": null,
   "metadata": {},
   "outputs": [],
   "source": [
    "p = iplot.create_figure(df, 'eigen', 'degree', color='eigen', url='url')\n",
    "iplot.show(p)"
   ]
  },
  {
   "cell_type": "markdown",
   "metadata": {},
   "source": [
    "We can also add page metrics to the DataFrame, such as the total length of the page."
   ]
  },
  {
   "cell_type": "code",
   "execution_count": null,
   "metadata": {},
   "outputs": [],
   "source": [
    "page_len = []\n",
    "for link in df['title']:\n",
    "    try:\n",
    "        data = wiki.get_wiki_json(link)\n",
    "        page_len.append(len(data['text']['*']))\n",
    "    except:\n",
    "        page_len.append(0)\n",
    "        \n",
    "        \n",
    "df['page_len'] = page_len"
   ]
  },
  {
   "cell_type": "markdown",
   "metadata": {},
   "source": [
    "I'll make another plot that shows the page length as a function of the\n",
    "eigenvalue centrality."
   ]
  },
  {
   "cell_type": "code",
   "execution_count": null,
   "metadata": {},
   "outputs": [],
   "source": [
    "p = iplot.create_figure(df, 'eigen', 'page_len', color='degree', url='url')\n",
    "iplot.show(p)"
   ]
  },
  {
   "cell_type": "markdown",
   "metadata": {},
   "source": [
    "Answer the questions below using the interactive plots (it will also require some\n",
    "thinking!)."
   ]
  },
  {
   "cell_type": "markdown",
   "metadata": {},
   "source": [
    "**Question:** You should find that Richmond, Virginia has the highest eigenvalue and\n",
    "degree centrality. This is not surprising because by definition it's connected to every\n",
    "other page. There should be four other pages that have particularly high degree centralities.\n",
    "Look at them on the first plot; why do these have a high degree value?"
   ]
  },
  {
   "cell_type": "markdown",
   "metadata": {},
   "source": [
    "**Answer:**"
   ]
  },
  {
   "cell_type": "markdown",
   "metadata": {},
   "source": [
    "**Question:** On the first plot, you should see that the counties clump together, the\n",
    "neighborhoods clump together, and the states clump together. Describe briefly where each\n",
    "of these are on the plot."
   ]
  },
  {
   "cell_type": "markdown",
   "metadata": {},
   "source": [
    "**Answer:**"
   ]
  },
  {
   "cell_type": "markdown",
   "metadata": {},
   "source": [
    "**Question:** On the second plot, describe a few pages that are very long but have a low \n",
    "eigenvector centrality. Why do you think this is the case?"
   ]
  },
  {
   "cell_type": "markdown",
   "metadata": {},
   "source": [
    "**Answer:**"
   ]
  },
  {
   "cell_type": "markdown",
   "metadata": {},
   "source": [
    "**Question:** On the second plot, describe a few pages that have a high centrality score but are relatively\n",
    "short. What's going on here?"
   ]
  },
  {
   "cell_type": "markdown",
   "metadata": {},
   "source": [
    "**Answer:**"
   ]
  },
  {
   "cell_type": "code",
   "execution_count": null,
   "metadata": {},
   "outputs": [],
   "source": []
  }
 ],
 "metadata": {
  "kernelspec": {
   "display_name": "Python 3",
   "language": "python",
   "name": "python3"
  },
  "language_info": {
   "codemirror_mode": {
    "name": "ipython",
    "version": 3
   },
   "file_extension": ".py",
   "mimetype": "text/x-python",
   "name": "python",
   "nbconvert_exporter": "python",
   "pygments_lexer": "ipython3",
   "version": "3.6.6"
  }
 },
 "nbformat": 4,
 "nbformat_minor": 2
}
