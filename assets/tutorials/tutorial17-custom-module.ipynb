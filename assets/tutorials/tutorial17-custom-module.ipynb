{
 "cells": [
  {
   "cell_type": "markdown",
   "metadata": {},
   "source": [
    "## Tutorial 17: Writing custom code\n",
    "\n",
    "Python notebooks great for a lot of tasks, as we have seen. They make\n",
    "it easy to run pre-made code without knowing a lot about Python and are\n",
    "excellent for mixing long text snippets in with code. Notebooks also\n",
    "make it easy to embed graphics (even interactive ones) and to share the\n",
    "output with others. I love using them for tutorials, notes, and the \n",
    "graphics and model intensive elements of a data science analysis.\n",
    "\n",
    "However, in many situations it is better to write Python code within a\n",
    "`.py` script file. For one thing, functions in a `.py` file can be called\n",
    "across multiple notebooks. It's also easier to work with raw files once\n",
    "your code becomes more complex. We've already seen examples of this with\n",
    "the `wiki.py` and `iplot.py` files. Now, you'll be able to do the same \n",
    "thing."
   ]
  },
  {
   "cell_type": "markdown",
   "metadata": {},
   "source": [
    "### Autoload\n",
    "\n",
    "By default, a running Python process will only load a module (a `.py` file) once.\n",
    "It assumes that modules do not change. This can be annoying if you are running a \n",
    "notebook to test code that you've written in a module file. To cirucumvent that,\n",
    "run the following line of code (you need to run it before you import the module \n",
    "you want to have automatically re-loaded):"
   ]
  },
  {
   "cell_type": "code",
   "execution_count": null,
   "metadata": {},
   "outputs": [],
   "source": [
    "%load_ext autoreload\n",
    "%autoreload 2"
   ]
  },
  {
   "cell_type": "markdown",
   "metadata": {},
   "source": [
    "The notebook will now automatically reload the module when the file is changed. "
   ]
  },
  {
   "cell_type": "markdown",
   "metadata": {},
   "source": [
    "### Create a module\n",
    "\n",
    "Now, go to the main Jupyter notebook page and create a new text file. Name\n",
    "the file `wikitext.py`. Create a function named `print_hello` that accepts\n",
    "no arguments and simply prints out the string 'Hello!'. Save the file and\n",
    "test that you can load the `wikitext` module:"
   ]
  },
  {
   "cell_type": "code",
   "execution_count": null,
   "metadata": {},
   "outputs": [],
   "source": [
    "import wikitext"
   ]
  },
  {
   "cell_type": "markdown",
   "metadata": {},
   "source": [
    "Now, run the function `print_hello` and verify that the output is correct:"
   ]
  },
  {
   "cell_type": "code",
   "execution_count": null,
   "metadata": {},
   "outputs": [],
   "source": [
    "wikitext.print_hello()"
   ]
  },
  {
   "cell_type": "markdown",
   "metadata": {},
   "source": [
    "Test that the autoreload functionality works (it will be very annoying later\n",
    "if you think its working and it is not). Change the message in the file to \n",
    "'Hello you!', save the file, and test the function again:"
   ]
  },
  {
   "cell_type": "code",
   "execution_count": null,
   "metadata": {},
   "outputs": [],
   "source": [
    "wikitext.print_hello()"
   ]
  },
  {
   "cell_type": "markdown",
   "metadata": {},
   "source": [
    "You can treat the text in a `.py` like a giant code block. Import other modules,\n",
    "define variables, and define functions all directly within the file."
   ]
  },
  {
   "cell_type": "markdown",
   "metadata": {},
   "source": [
    "### pycodestyle\n",
    "\n",
    "Another benefit of using `.py` files is that we can now use automated tools\n",
    "to check out code. I typically use two different tools. The first is the\n",
    "relatively basic `pycodestyle`. To run this on a file, import the module\n",
    "and run all of the checks on a filename. Here we will check my code for\n",
    "`wiki.py`."
   ]
  },
  {
   "cell_type": "code",
   "execution_count": null,
   "metadata": {},
   "outputs": [],
   "source": [
    "import pycodestyle"
   ]
  },
  {
   "cell_type": "code",
   "execution_count": null,
   "metadata": {},
   "outputs": [],
   "source": [
    "pycodestyle.Checker(filename='wiki.py').check_all()"
   ]
  },
  {
   "cell_type": "markdown",
   "metadata": {},
   "source": [
    "You should see 3-4 warnings where my code does not conform to the Python standards.\n",
    "**Try to adjust these in the script, and re-run the checker until you get rid of all\n",
    "the warnings.** Hint: the first error on line 69 can be dealt with by replacing '\\+'\n",
    "with '\\\\+'."
   ]
  },
  {
   "cell_type": "code",
   "execution_count": null,
   "metadata": {},
   "outputs": [],
   "source": [
    "pycodestyle.Checker(filename='wiki.py').check_all()"
   ]
  },
  {
   "cell_type": "markdown",
   "metadata": {},
   "source": [
    "### Linting with pylint\n",
    "\n",
    "From Wikipedia:\n",
    "\n",
    "> A linter or lint refers to tools that analyze source code to flag programming errors,\n",
    "> bugs, stylistic errors, and suspicious constructs. The term originates from a Unix\n",
    "> utility that examined C language source code.\n",
    "\n",
    "The standard linter in Python is called `pylint`. It tends to catch a lot more issues\n",
    "than `pycodestyle`. Let's run it on my wiki.py code:"
   ]
  },
  {
   "cell_type": "code",
   "execution_count": null,
   "metadata": {},
   "outputs": [],
   "source": [
    "from pylint.epylint import lint"
   ]
  },
  {
   "cell_type": "code",
   "execution_count": null,
   "metadata": {},
   "outputs": [],
   "source": [
    "lint(\"wiki.py\")"
   ]
  },
  {
   "cell_type": "markdown",
   "metadata": {},
   "source": [
    "As above, try to adjust my code to conform to all of these concerns. Re-check that everything\n",
    "works and you get a 10/10 score. Finally, do the same thing with `iplot.py` (it may take a minute\n",
    "or two to run on this file):"
   ]
  },
  {
   "cell_type": "code",
   "execution_count": null,
   "metadata": {},
   "outputs": [],
   "source": [
    "lint(\"iplot.py\")"
   ]
  },
  {
   "cell_type": "markdown",
   "metadata": {},
   "source": [
    "Try to adjust my code here as well. Don't worry if you have a few remaining warnings,\n",
    "but try to get close. We'll talk next time about any remaining issues."
   ]
  },
  {
   "cell_type": "code",
   "execution_count": null,
   "metadata": {},
   "outputs": [],
   "source": []
  }
 ],
 "metadata": {
  "kernelspec": {
   "display_name": "Python 3",
   "language": "python",
   "name": "python3"
  },
  "language_info": {
   "codemirror_mode": {
    "name": "ipython",
    "version": 3
   },
   "file_extension": ".py",
   "mimetype": "text/x-python",
   "name": "python",
   "nbconvert_exporter": "python",
   "pygments_lexer": "ipython3",
   "version": "3.6.6"
  }
 },
 "nbformat": 4,
 "nbformat_minor": 2
}
