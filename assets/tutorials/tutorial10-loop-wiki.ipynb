{
 "cells": [
  {
   "cell_type": "markdown",
   "metadata": {},
   "source": [
    "## Tutorial 10: Looping through Wikipedia\n",
    "\n",
    "In this tutorial, we combine our lists and loops with the MediaWiki API\n",
    "functions to grab data from several websites in an automated way."
   ]
  },
  {
   "cell_type": "markdown",
   "metadata": {},
   "source": [
    "### Modules\n",
    "\n",
    "We will need functions that I gave last class for loading data from\n",
    "Wikipedia again today, as well as for the foreseeable future. Rather\n",
    "than having to copy and paste them each time, there is an easy way to\n",
    "load these functions from a common file. \n",
    "\n",
    "I've created the file `wiki.py` that you should download from the course\n",
    "website and put into the same directory that you store your tutorials.\n",
    "You can open and edit the file in Jupyter, which I suggest you do right\n",
    "now to get a sense of what the file looks like. It is basically one long\n",
    "code cell. To load the functions in this file, we write `import` along \n",
    "with the name of the file (without the extension)."
   ]
  },
  {
   "cell_type": "code",
   "execution_count": null,
   "metadata": {},
   "outputs": [],
   "source": [
    "import wiki"
   ]
  },
  {
   "cell_type": "markdown",
   "metadata": {},
   "source": [
    "Now, to get one of the functions in the module, we use the normal \n",
    "\"module name\" + \".\" + \"function name\" calling convention. So, to\n",
    "get the function `wiki_json_path` we would do this:"
   ]
  },
  {
   "cell_type": "code",
   "execution_count": null,
   "metadata": {},
   "outputs": [],
   "source": [
    "wiki.wiki_json_path(\"University of Richmond\")"
   ]
  },
  {
   "cell_type": "markdown",
   "metadata": {},
   "source": [
    "Remember that you can see the help page for a function like this:"
   ]
  },
  {
   "cell_type": "code",
   "execution_count": null,
   "metadata": {},
   "outputs": [],
   "source": [
    "help(wiki.wiki_json_path)"
   ]
  },
  {
   "cell_type": "markdown",
   "metadata": {},
   "source": [
    "I've made a few small changes to the code in `wiki.py` to make it function a bit\n",
    "better for us and to deal with some annoying edge cases. I may need to fix some\n",
    "other edge cases as we work through the data (pages like \"AC/DC\" and \"Guns & Roses\"\n",
    "failed on the original code)."
   ]
  },
  {
   "cell_type": "markdown",
   "metadata": {},
   "source": [
    "### Dictionaries\n",
    "\n",
    "We saw last time that internal links, links to other pages on\n",
    "Wikipedia, are returned as a particular element of the JSON data\n",
    "returned by the MediaWiki API. Here, we will show how to extract\n",
    "data from the JSON object. \n",
    "\n",
    "Let's start by loading the data from a single Wikipedia page. As\n",
    "I mentioned briefly last time, the Python object that stores JSON\n",
    "data is called a \"dict\" (short for dictionary)."
   ]
  },
  {
   "cell_type": "code",
   "execution_count": null,
   "metadata": {},
   "outputs": [],
   "source": [
    "data = wiki.get_wiki_json(\"University of Richmond\")\n",
    "type(data)"
   ]
  },
  {
   "cell_type": "markdown",
   "metadata": {},
   "source": [
    "A dictionary is similar to a list in that it stores an collection of items. While\n",
    "a list keeps all of the items in a particular order, a dictionary associated each\n",
    "element to a named \"key\". We saw these keys in the JSON file from last time. To\n",
    "see all of the keys in a particular dictionary, use the `keys` method:"
   ]
  },
  {
   "cell_type": "code",
   "execution_count": null,
   "metadata": {},
   "outputs": [],
   "source": [
    "data.keys()"
   ]
  },
  {
   "cell_type": "markdown",
   "metadata": {},
   "source": [
    "To grab an element from the dictionary, we use square brackets with the name\n",
    "(in quotes) of the desired key. Again, similar to a list but with a twist.\n",
    "Here I'll print out the title of the page."
   ]
  },
  {
   "cell_type": "code",
   "execution_count": null,
   "metadata": {},
   "outputs": [],
   "source": [
    "data['title']"
   ]
  },
  {
   "cell_type": "markdown",
   "metadata": {},
   "source": [
    "The title returns a single string, but its possible that dictionarie elements consists of a\n",
    "list or even another dictionary."
   ]
  },
  {
   "cell_type": "code",
   "execution_count": null,
   "metadata": {},
   "outputs": [],
   "source": [
    "type(data['langlinks'])"
   ]
  },
  {
   "cell_type": "code",
   "execution_count": null,
   "metadata": {},
   "outputs": [],
   "source": [
    "data['langlinks']"
   ]
  },
  {
   "cell_type": "markdown",
   "metadata": {},
   "source": [
    "What if we want information about the Azerbaijani page for the University of Richmond?\n",
    "Well, this is just a list so grab the first element with `[0]` as usual:"
   ]
  },
  {
   "cell_type": "code",
   "execution_count": null,
   "metadata": {},
   "outputs": [],
   "source": [
    "data['langlinks'][0]"
   ]
  },
  {
   "cell_type": "markdown",
   "metadata": {},
   "source": [
    "And from what data type is this element? Its another dictionary:"
   ]
  },
  {
   "cell_type": "code",
   "execution_count": null,
   "metadata": {},
   "outputs": [],
   "source": [
    "type(data['langlinks'][0])"
   ]
  },
  {
   "cell_type": "markdown",
   "metadata": {},
   "source": [
    "And so we could grab an element, such as the language name, like this:"
   ]
  },
  {
   "cell_type": "code",
   "execution_count": null,
   "metadata": {},
   "outputs": [],
   "source": [
    "data['langlinks'][0]['langname']"
   ]
  },
  {
   "cell_type": "markdown",
   "metadata": {},
   "source": [
    "And if we want all of the language links? We need to combine our looping\n",
    "knowledge with the dictionary methods:"
   ]
  },
  {
   "cell_type": "code",
   "execution_count": null,
   "metadata": {},
   "outputs": [],
   "source": [
    "lang_names = []\n",
    "\n",
    "for lang in data['langlinks']:\n",
    "    lang_names = lang_names + [lang['langname']]\n",
    "    \n",
    "print(lang_names)"
   ]
  },
  {
   "cell_type": "markdown",
   "metadata": {},
   "source": [
    "### Links data\n",
    "\n",
    "Now, let's do something similar to get the internal links from our Wikipedia page. These\n",
    "are stored in the element named 'links' from the object `data`. Print out this object \n",
    "below:"
   ]
  },
  {
   "cell_type": "code",
   "execution_count": null,
   "metadata": {},
   "outputs": [],
   "source": []
  },
  {
   "cell_type": "markdown",
   "metadata": {},
   "source": [
    "Now, what kind of object are the links stored in? Use the `type` function below to \n",
    "figure this out:"
   ]
  },
  {
   "cell_type": "code",
   "execution_count": null,
   "metadata": {},
   "outputs": [],
   "source": []
  },
  {
   "cell_type": "markdown",
   "metadata": {},
   "source": [
    "You should see that the links are stored as a list. Each element of the list\n",
    "is a particular link. Below, grab just the first (remember, this is element '0')\n",
    "link in the list:"
   ]
  },
  {
   "cell_type": "code",
   "execution_count": null,
   "metadata": {},
   "outputs": [],
   "source": []
  },
  {
   "cell_type": "markdown",
   "metadata": {},
   "source": [
    "Use the `type` function again to detect the object type of a particular\n",
    "link."
   ]
  },
  {
   "cell_type": "code",
   "execution_count": null,
   "metadata": {},
   "outputs": [],
   "source": []
  },
  {
   "cell_type": "markdown",
   "metadata": {},
   "source": [
    "You should see that this is a dictionary. Now (yes, there's more!) print out the names\n",
    "of the keys for this dictionary:"
   ]
  },
  {
   "cell_type": "code",
   "execution_count": null,
   "metadata": {},
   "outputs": [],
   "source": []
  },
  {
   "cell_type": "markdown",
   "metadata": {},
   "source": [
    "You should see that there are three elements in the dictionary. Here are what\n",
    "the three elements mean:\n",
    "\n",
    "- **ns**: an integer giving the \"namespace\" of the link. Each type of page has\n",
    "its own namespace. The links to \"real\" pages all have a code of '14'.\n",
    "- **exists**: this is an empty string. Its used because the element exists only\n",
    "'exists' if the link is not dead (in other words, it links to a real page).\n",
    "- **`*`**: this is the actual internal link.\n",
    "\n",
    "Print out the namespace of the first link:"
   ]
  },
  {
   "cell_type": "code",
   "execution_count": null,
   "metadata": {},
   "outputs": [],
   "source": []
  },
  {
   "cell_type": "markdown",
   "metadata": {},
   "source": [
    "You should see that the namespace is 14 because the first link is to a Category\n",
    "page (Categories are always 14).\n",
    "\n",
    "Now, do something similar to what I did in the prior section to create a list named\n",
    "`internal_links` that grabs all of the links (the elements under `*`). Print out\n",
    "the list at the bottom of the cell."
   ]
  },
  {
   "cell_type": "code",
   "execution_count": null,
   "metadata": {},
   "outputs": [],
   "source": []
  },
  {
   "cell_type": "markdown",
   "metadata": {},
   "source": [
    "### Using `links_as_list`\n",
    "\n",
    "I wrote a small helper funtion `links_as_list` (defined in `wiki.py`) to\n",
    "extract the list of links from a webpage. It should work very similar to\n",
    "the code you wrote above (open the code file and check it!), but additionally\n",
    "only includes links is (1) the namespace is equal to 10 and (2) the page\n",
    "actually exists.\n",
    "\n",
    "Let's use this to get all of the links of the University of Richmond page."
   ]
  },
  {
   "cell_type": "code",
   "execution_count": null,
   "metadata": {},
   "outputs": [],
   "source": [
    "data = wiki.get_wiki_json(\"University of Richmond\")\n",
    "links = wiki.links_as_list(data)\n",
    "links"
   ]
  },
  {
   "cell_type": "markdown",
   "metadata": {},
   "source": [
    "Now, a reasonable next step would be to grab the data associated with\n",
    "each of these pages. To download the data for the first link we would\n",
    "just do this:"
   ]
  },
  {
   "cell_type": "code",
   "execution_count": null,
   "metadata": {
    "scrolled": true
   },
   "outputs": [],
   "source": [
    "data = wiki.get_wiki_json(links[0])\n",
    "data"
   ]
  },
  {
   "cell_type": "markdown",
   "metadata": {},
   "source": [
    "How do this automatically for all of the links? We want to make use\n",
    "of a `for` loop. A for loop cycles through all of the elements of a\n",
    "list and applies a set of instructions to each element. \n",
    "\n",
    "Here's an example where we take each element in the list of links and\n",
    "print out just the first three letters:"
   ]
  },
  {
   "cell_type": "code",
   "execution_count": null,
   "metadata": {},
   "outputs": [],
   "source": [
    "for link in links:\n",
    "    print(link[:3])"
   ]
  },
  {
   "cell_type": "markdown",
   "metadata": {},
   "source": [
    "If we want to grab the webpage data for each link from the UR page,\n",
    "we can now just do this (this will take a while the first time you\n",
    "run it, but will be quick the second time):"
   ]
  },
  {
   "cell_type": "code",
   "execution_count": null,
   "metadata": {},
   "outputs": [],
   "source": [
    "for link in links:\n",
    "    wiki.get_wiki_json(link)"
   ]
  },
  {
   "cell_type": "markdown",
   "metadata": {},
   "source": [
    "### Using the MediaWiki data\n",
    "\n",
    "Now, finally, we have the code and functionality to look at a\n",
    "collection of Wikipedia pages. Let's start with a simple task\n",
    "of counting how many links all of the pages linked from the Richmond\n",
    "site have. Pay attention to how I do this!"
   ]
  },
  {
   "cell_type": "code",
   "execution_count": null,
   "metadata": {},
   "outputs": [],
   "source": [
    "num_links = []\n",
    "data_json = wiki.get_wiki_json(\"University of Richmond\")\n",
    "ur_links = wiki.links_as_list(data_json)\n",
    "\n",
    "for link in ur_links:\n",
    "    data = wiki.get_wiki_json(link)\n",
    "    new_links = wiki.links_as_list(data)\n",
    "    num_links.append(len(new_links))"
   ]
  },
  {
   "cell_type": "markdown",
   "metadata": {},
   "source": [
    "Now, let's look at the results:"
   ]
  },
  {
   "cell_type": "code",
   "execution_count": null,
   "metadata": {},
   "outputs": [],
   "source": [
    "print(num_links)"
   ]
  },
  {
   "cell_type": "markdown",
   "metadata": {},
   "source": [
    "What can we do with this? For starters, what's the average\n",
    "number of links on each page?"
   ]
  },
  {
   "cell_type": "code",
   "execution_count": null,
   "metadata": {},
   "outputs": [],
   "source": [
    "sum(num_links) / len(num_links)"
   ]
  },
  {
   "cell_type": "markdown",
   "metadata": {},
   "source": [
    "How does this compare to the number of links from the Richmond site?"
   ]
  },
  {
   "cell_type": "code",
   "execution_count": null,
   "metadata": {},
   "outputs": [],
   "source": [
    "len(ur_links)"
   ]
  },
  {
   "cell_type": "markdown",
   "metadata": {},
   "source": [
    "**Answer**:"
   ]
  },
  {
   "cell_type": "markdown",
   "metadata": {},
   "source": [
    "## Practice\n",
    "\n",
    "Take a look at the Wikipedia page on Richmond, Virginia:\n",
    "\n",
    "> https://en.wikipedia.org/wiki/Richmond,_Virginia\n",
    "\n",
    "Below, write code that:\n",
    "\n",
    "1. Downloads all of the links from the Rock and Roll Hall of Fame\n",
    "Wikipedia page.\n",
    "2. Then, extract from each page all of the links from **that** page\n",
    "and puts them together in one appended list called `all_links`.\n",
    "3. Use the `collections.Counter` object to find the 40 links that\n",
    "are used most across all of the pages.\n",
    "4. Think about the most frequent 40 pages and try to reason why\n",
    "these are the most common."
   ]
  },
  {
   "cell_type": "code",
   "execution_count": null,
   "metadata": {},
   "outputs": [],
   "source": []
  },
  {
   "cell_type": "code",
   "execution_count": null,
   "metadata": {},
   "outputs": [],
   "source": []
  },
  {
   "cell_type": "code",
   "execution_count": null,
   "metadata": {},
   "outputs": [],
   "source": []
  },
  {
   "cell_type": "code",
   "execution_count": null,
   "metadata": {},
   "outputs": [],
   "source": []
  },
  {
   "cell_type": "code",
   "execution_count": null,
   "metadata": {},
   "outputs": [],
   "source": []
  },
  {
   "cell_type": "markdown",
   "metadata": {},
   "source": [
    "## For next time\n",
    "\n",
    "On Tuesday we are going to start doing some network analysis. This means that we will\n",
    "need to use the **networkx** module, which is not included in the standard Anaconda\n",
    "Python installation. Please make sure that you have this downloaded correctly by running\n",
    "the following:"
   ]
  },
  {
   "cell_type": "code",
   "execution_count": null,
   "metadata": {},
   "outputs": [],
   "source": [
    "import networkx as nx"
   ]
  },
  {
   "cell_type": "markdown",
   "metadata": {},
   "source": [
    "If there is a problem, please let me know before the end of class today."
   ]
  },
  {
   "cell_type": "code",
   "execution_count": null,
   "metadata": {},
   "outputs": [],
   "source": []
  }
 ],
 "metadata": {
  "kernelspec": {
   "display_name": "Python 3",
   "language": "python",
   "name": "python3"
  },
  "language_info": {
   "codemirror_mode": {
    "name": "ipython",
    "version": 3
   },
   "file_extension": ".py",
   "mimetype": "text/x-python",
   "name": "python",
   "nbconvert_exporter": "python",
   "pygments_lexer": "ipython3",
   "version": "3.6.6"
  }
 },
 "nbformat": 4,
 "nbformat_minor": 2
}
