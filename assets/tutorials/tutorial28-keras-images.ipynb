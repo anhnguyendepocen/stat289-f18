{
 "cells": [
  {
   "cell_type": "markdown",
   "metadata": {},
   "source": [
    "## Tutorial 28: Deep learning for images\n",
    "\n",
    "The real benefit of neural networks are when they are applied to high-dimensional\n",
    "tasks such as image classification. As I mentioned last time, deep neural networks\n",
    "are able to perform automatic dimensionality reduction in the first sets of layers\n",
    "and then prediction tasks in the upper layers, all at the same time.\n",
    "\n",
    "For today, let's load in all of the libraries we will need for the tutorial."
   ]
  },
  {
   "cell_type": "code",
   "execution_count": null,
   "metadata": {},
   "outputs": [],
   "source": [
    "import wiki\n",
    "import iplot\n",
    "import wikitext\n",
    "\n",
    "import numpy as np\n",
    "\n",
    "import numpy as np\n",
    "import matplotlib.pyplot as plt\n",
    "import sklearn\n",
    "\n",
    "from matplotlib import pyplot as plt"
   ]
  },
  {
   "cell_type": "code",
   "execution_count": null,
   "metadata": {},
   "outputs": [],
   "source": [
    "assert wiki.__version__ >= 6\n",
    "assert wikitext.__version__ >= 2\n",
    "assert iplot.__version__ >= 3"
   ]
  },
  {
   "cell_type": "code",
   "execution_count": null,
   "metadata": {},
   "outputs": [],
   "source": [
    "from keras.applications.vgg19 import VGG19\n",
    "from keras.preprocessing import image\n",
    "from keras.applications.vgg19 import preprocess_input, decode_predictions\n",
    "from keras.models import Model\n",
    "from keras.preprocessing import image"
   ]
  },
  {
   "cell_type": "markdown",
   "metadata": {},
   "source": [
    "### VGG-19\n",
    "\n",
    "Rather than building a model from scratch, which is hard and time consuming, let's\n",
    "just grab an image processing model directly. The model here is called VGG19; it was\n",
    "designed for a well-known image processing challenged known as ILSVRC. (Note: The\n",
    "first time you run this code may take a few minutes because keras does not pre-install\n",
    "the model itself)."
   ]
  },
  {
   "cell_type": "code",
   "execution_count": null,
   "metadata": {},
   "outputs": [],
   "source": [
    "vgg19_full = VGG19(weights='imagenet')\n",
    "vgg19_full.summary()"
   ]
  },
  {
   "cell_type": "markdown",
   "metadata": {},
   "source": [
    "This is an impressively large neural network. It has over 143 million\n",
    "parameters!\n",
    "\n",
    "**What kind of input and output is expected in the model?** "
   ]
  },
  {
   "cell_type": "markdown",
   "metadata": {},
   "source": [
    "### Loading an image file\n",
    "\n",
    "I've written a small function to load an image file from a URL. We need a bit\n",
    "of boilerplate code because the `load_image` function will not load an image over\n",
    "the internet directly (only from a local file). "
   ]
  },
  {
   "cell_type": "code",
   "execution_count": null,
   "metadata": {},
   "outputs": [],
   "source": [
    "def load_image(link, target_size=None):\n",
    "    import requests\n",
    "    import shutil\n",
    "    import os\n",
    "    \n",
    "    _, ext = os.path.splitext(link)\n",
    "    \n",
    "    r = requests.get(link, stream=True)\n",
    "    with open('temp.' + ext, 'wb') as f:\n",
    "        r.raw.decode_content = True\n",
    "        shutil.copyfileobj(r.raw, f)\n",
    "        \n",
    "    img = image.load_img('temp.' + ext, target_size=target_size)\n",
    "    return image.img_to_array(img)"
   ]
  },
  {
   "cell_type": "markdown",
   "metadata": {},
   "source": [
    "Let's test out the function by grabbing and image of a dog. "
   ]
  },
  {
   "cell_type": "code",
   "execution_count": null,
   "metadata": {},
   "outputs": [],
   "source": [
    "img_path = \"https://upload.wikimedia.org/wikipedia/commons/thumb/a/af/Golden_retriever_eating_pigs_foot.jpg/170px-Golden_retriever_eating_pigs_foot.jpg\"\n",
    "img = load_image(img_path, target_size=(224, 224))\n",
    "img.shape"
   ]
  },
  {
   "cell_type": "markdown",
   "metadata": {},
   "source": [
    "Notice that this is a three-dimensional array containing the red, green, and blue\n",
    "pixel intensities. As requested, the image has been reformated to be 224-by-224 pixels\n",
    "in size.\n",
    "\n",
    "We can see the image in Python by calling the `imshow` function, but need to divide all\n",
    "of the pixel intensities by 256."
   ]
  },
  {
   "cell_type": "code",
   "execution_count": null,
   "metadata": {},
   "outputs": [],
   "source": [
    "plt.imshow(img / 256)"
   ]
  },
  {
   "cell_type": "markdown",
   "metadata": {},
   "source": [
    "We need to do some pre-processing to the image before sending it to keras:"
   ]
  },
  {
   "cell_type": "code",
   "execution_count": null,
   "metadata": {},
   "outputs": [],
   "source": [
    "x = np.expand_dims(img, axis=0)\n",
    "x = preprocess_input(x)\n",
    "x.shape"
   ]
  },
  {
   "cell_type": "markdown",
   "metadata": {},
   "source": [
    "Finally, let's run this image through the VGG19 model "
   ]
  },
  {
   "cell_type": "code",
   "execution_count": null,
   "metadata": {
    "scrolled": true
   },
   "outputs": [],
   "source": [
    "probs = vgg19_full.predict(x)\n",
    "probs[0].shape"
   ]
  },
  {
   "cell_type": "markdown",
   "metadata": {},
   "source": [
    "To assist in using the VGG19 function, keras provides a helper function \n",
    "`decode_predictions` that converts the probabilities into the most likely\n",
    "categories. How well does the function do here?"
   ]
  },
  {
   "cell_type": "code",
   "execution_count": null,
   "metadata": {},
   "outputs": [],
   "source": [
    "decode_predictions(probs, top=15)"
   ]
  },
  {
   "cell_type": "markdown",
   "metadata": {},
   "source": [
    "It correctly predicts that this is a golden retriever.\n",
    "\n",
    "Please do not take for granted how amazing this result is... Something\n",
    "like this would have been impossible to create less than a decade ago."
   ]
  },
  {
   "cell_type": "markdown",
   "metadata": {},
   "source": [
    "## Experimenting with VGG19 — Part I\n",
    "\n",
    "For the rest of class, you are going to do some experimentation with the \n",
    "VGG19 model. To start, take a look at some of the categories available\n",
    "for prediction in the challenge:\n",
    "\n",
    "- http://image-net.org/challenges/LSVRC/2014/browse-synsets\n",
    "\n",
    "You might also take a look at a summary paper about the collection:\n",
    "\n",
    "- https://arxiv.org/pdf/1409.0575.pdf\n",
    "\n",
    "Your task here is to select 12 different image categories, trying to pick\n",
    "a range of object types, and seeing how well the model performs. Try to\n",
    "use the paper (see figure 15) to pick at least one \"difficult\" category.\n",
    "\n",
    "(Hint: I've copied the self-contained code for the Golden retriever code\n",
    "below; copy this 12 times and just modify the url)"
   ]
  },
  {
   "cell_type": "code",
   "execution_count": null,
   "metadata": {
    "scrolled": false
   },
   "outputs": [],
   "source": [
    "img_path = \"https://upload.wikimedia.org/wikipedia/commons/thumb/a/af/Golden_retriever_eating_pigs_foot.jpg/170px-Golden_retriever_eating_pigs_foot.jpg\"\n",
    "img = load_image(img_path, target_size=(224, 224))\n",
    "plt.imshow(img / 256)\n",
    "x = np.expand_dims(img, axis=0)\n",
    "x = preprocess_input(x)\n",
    "decode_predictions(vgg19_full.predict(x), top=15)"
   ]
  },
  {
   "cell_type": "code",
   "execution_count": null,
   "metadata": {},
   "outputs": [],
   "source": []
  },
  {
   "cell_type": "markdown",
   "metadata": {},
   "source": [
    "## Experimenting with VGG19 — Part II\n",
    "\n",
    "Now, the second experiment asks you to dust off your HTML parsing. Write\n",
    "code that starts with a Wikipedia page and prints out the predicted categories\n",
    "for each image (you can filter the images if you would like) on the page. \n",
    "\n",
    "Test it on something interesting, like the page about dogs. You can, but do\n",
    "not need to, wrap it up as a function. "
   ]
  },
  {
   "cell_type": "code",
   "execution_count": null,
   "metadata": {},
   "outputs": [],
   "source": []
  },
  {
   "cell_type": "code",
   "execution_count": null,
   "metadata": {},
   "outputs": [],
   "source": []
  }
 ],
 "metadata": {
  "kernelspec": {
   "display_name": "Python 3",
   "language": "python",
   "name": "python3"
  },
  "language_info": {
   "codemirror_mode": {
    "name": "ipython",
    "version": 3
   },
   "file_extension": ".py",
   "mimetype": "text/x-python",
   "name": "python",
   "nbconvert_exporter": "python",
   "pygments_lexer": "ipython3",
   "version": "3.6.6"
  }
 },
 "nbformat": 4,
 "nbformat_minor": 2
}
