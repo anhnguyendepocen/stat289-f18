{
 "cells": [
  {
   "cell_type": "markdown",
   "metadata": {},
   "source": [
    "## Tutorial 05: Regular Expressions [SOLUTIONS]\n",
    "\n",
    "Here we introduce the concept of a regular expression and the\n",
    "Python module `re`, which provides an efficent and easy to use\n",
    "implemention of regular expressions."
   ]
  },
  {
   "cell_type": "markdown",
   "metadata": {},
   "source": [
    "### Matching fixed strings\n",
    "\n",
    "Regular expressions are used to identify patterns within string\n",
    "objects. Once found, these patterns can be used for tasks such\n",
    "as extraction, substitution, or splitting the string into parts.\n",
    "\n",
    "We will introduce the basic concepts through substitution and\n",
    "show the other tasks at the end of the notebook.\n",
    "\n",
    "To start, import the `re` module:"
   ]
  },
  {
   "cell_type": "code",
   "execution_count": 1,
   "metadata": {},
   "outputs": [],
   "source": [
    "import re"
   ]
  },
  {
   "cell_type": "markdown",
   "metadata": {},
   "source": [
    "We will use the function `re.sub` to replace all instances of a substring\n",
    "with another. Here, we will replace all spaces with dashes: "
   ]
  },
  {
   "cell_type": "code",
   "execution_count": 2,
   "metadata": {},
   "outputs": [
    {
     "data": {
      "text/plain": [
       "'I-am-having-fun-with-regular-expressions!-They-are-great!'"
      ]
     },
     "execution_count": 2,
     "metadata": {},
     "output_type": "execute_result"
    }
   ],
   "source": [
    "re.sub(\" \", \"-\", \"I am having fun with regular expressions! They are great!\")"
   ]
  },
  {
   "cell_type": "code",
   "execution_count": 3,
   "metadata": {},
   "outputs": [
    {
     "data": {
      "text/plain": [
       "'I am having FUN with regular expressions! They are great!'"
      ]
     },
     "execution_count": 3,
     "metadata": {},
     "output_type": "execute_result"
    }
   ],
   "source": [
    "re.sub(\"fun\", \"FUN\", \"I am having fun with regular expressions! They are great!\")"
   ]
  },
  {
   "cell_type": "markdown",
   "metadata": {},
   "source": [
    "As we see, the first argument defines a pattern, the second the replacement,\n",
    "and the third the string to operate on. Used in sequence, substitutions can\n",
    "be used to clean character data:"
   ]
  },
  {
   "cell_type": "code",
   "execution_count": 4,
   "metadata": {},
   "outputs": [
    {
     "data": {
      "text/plain": [
       "'I-am-having-fun-with-regular-expressions-They-are-great'"
      ]
     },
     "execution_count": 4,
     "metadata": {},
     "output_type": "execute_result"
    }
   ],
   "source": [
    "msg = \"I am having fun with regular expressions! They are great!\"\n",
    "msg = re.sub(\" \", \"-\", msg)\n",
    "msg = re.sub(\"!\", \"\", msg)\n",
    "msg"
   ]
  },
  {
   "cell_type": "markdown",
   "metadata": {},
   "source": [
    "### Matching patterns\n",
    "\n",
    "The power of regular expressions comes from the ability to match not just\n",
    "fixed strings but patterns of strings. There is a whole language of regular\n",
    "expressions; here I will show just a few of the most common examples.\n",
    "\n",
    "The symbol `+` matches one or more of the prior characters. Take the example\n",
    "here:"
   ]
  },
  {
   "cell_type": "code",
   "execution_count": 5,
   "metadata": {},
   "outputs": [
    {
     "data": {
      "text/plain": [
       "'AArdvArk?'"
      ]
     },
     "execution_count": 5,
     "metadata": {},
     "output_type": "execute_result"
    }
   ],
   "source": [
    "msg = \"aardvark?\"\n",
    "re.sub(\"a\", \"A\", msg)"
   ]
  },
  {
   "cell_type": "markdown",
   "metadata": {},
   "source": [
    "And compare it to:"
   ]
  },
  {
   "cell_type": "code",
   "execution_count": 6,
   "metadata": {},
   "outputs": [
    {
     "data": {
      "text/plain": [
       "'ArdvArk?'"
      ]
     },
     "execution_count": 6,
     "metadata": {},
     "output_type": "execute_result"
    }
   ],
   "source": [
    "msg = \"aardvark?\"\n",
    "re.sub(\"a+\", \"A\", msg)"
   ]
  },
  {
   "cell_type": "markdown",
   "metadata": {},
   "source": [
    "The expression `a+` matches both the letter \"a\" and the letter pair \"aa\"\n",
    "(regular expressions always find the largest matching string).\n",
    "\n",
    "We can group letters together using braces, `[]`. So to match any combination\n",
    "of numbers we can use this:"
   ]
  },
  {
   "cell_type": "code",
   "execution_count": 7,
   "metadata": {},
   "outputs": [
    {
     "data": {
      "text/plain": [
       "'NUMBERx NUMBERy NUMBERz'"
      ]
     },
     "execution_count": 7,
     "metadata": {},
     "output_type": "execute_result"
    }
   ],
   "source": [
    "msg = \"1000x 2341y 1104z\"\n",
    "re.sub(\"[0123456789]+\", \"NUMBER\", msg)"
   ]
  },
  {
   "cell_type": "markdown",
   "metadata": {},
   "source": [
    "This reads: \"replace any sequence of digits with the string 'NUMBER'\". There\n",
    "is a shortcut for this using the notation `[0-9]`. Similarly, `[a-z]` matches\n",
    "lowercase letters and `[A-Z]` matches upper case letters.\n",
    "\n",
    "Finally, the symbol `^` stands for **not**. So `[^a-z]+` stands for anything that\n",
    "is not a lower case letter:"
   ]
  },
  {
   "cell_type": "code",
   "execution_count": 8,
   "metadata": {},
   "outputs": [
    {
     "data": {
      "text/plain": [
       "'amhavingfunwithregularexpressionsheyaregreat'"
      ]
     },
     "execution_count": 8,
     "metadata": {},
     "output_type": "execute_result"
    }
   ],
   "source": [
    "re.sub(\"[^a-z]+\", \"\", \"I am having fun with regular expressions! They are great!\")"
   ]
  },
  {
   "cell_type": "markdown",
   "metadata": {},
   "source": [
    "You may find that you want to match a character with a special meaning, such as the\n",
    "actual carrot symbol: `^`. To do this, simply proceed the character with `\\\\` to escape\n",
    "it in the string."
   ]
  },
  {
   "cell_type": "code",
   "execution_count": 9,
   "metadata": {},
   "outputs": [
    {
     "data": {
      "text/plain": [
       "'2**3'"
      ]
     },
     "execution_count": 9,
     "metadata": {},
     "output_type": "execute_result"
    }
   ],
   "source": [
    "re.sub(\"\\\\^\", \"**\", \"2^3\")"
   ]
  },
  {
   "cell_type": "markdown",
   "metadata": {},
   "source": [
    "### Application: HTML\n",
    "\n",
    "A very common application of regular expressions is to match HTML tags,\n",
    "which are contained between `<` and `>`. For example, `<a href=\"python.org\">`.\n",
    "To match an html tag use this expression:"
   ]
  },
  {
   "cell_type": "code",
   "execution_count": 10,
   "metadata": {},
   "outputs": [
    {
     "data": {
      "text/plain": [
       "'click here!'"
      ]
     },
     "execution_count": 10,
     "metadata": {},
     "output_type": "execute_result"
    }
   ],
   "source": [
    "re.sub(\"<[^>]+>\", \"\", \"<a href='www.python.org'>click here!</a>\")"
   ]
  },
  {
   "cell_type": "markdown",
   "metadata": {},
   "source": [
    "Can you figure out exactly how this expression works?"
   ]
  },
  {
   "cell_type": "markdown",
   "metadata": {},
   "source": [
    "### Find and split\n",
    "\n",
    "As mentioned, there are other tasks we can do once a substring has been identified.\n",
    "We could, for example, split a string apart wherever a substring is detected using\n",
    "`re.split`:"
   ]
  },
  {
   "cell_type": "code",
   "execution_count": 11,
   "metadata": {},
   "outputs": [
    {
     "data": {
      "text/plain": [
       "['I',\n",
       " 'am',\n",
       " 'having',\n",
       " 'fun',\n",
       " 'with',\n",
       " 'regular',\n",
       " 'expressions!',\n",
       " 'They',\n",
       " 'are',\n",
       " 'great!']"
      ]
     },
     "execution_count": 11,
     "metadata": {},
     "output_type": "execute_result"
    }
   ],
   "source": [
    "re.split(\" \", \"I am having fun with regular expressions! They are great!\")"
   ]
  },
  {
   "cell_type": "markdown",
   "metadata": {},
   "source": [
    "Or, extract just the matching substrings using `re.findall`:"
   ]
  },
  {
   "cell_type": "code",
   "execution_count": 12,
   "metadata": {},
   "outputs": [
    {
     "data": {
      "text/plain": [
       "[\"<a href='www.python.org'>\", '</a>']"
      ]
     },
     "execution_count": 12,
     "metadata": {},
     "output_type": "execute_result"
    }
   ],
   "source": [
    "re.findall(\"<[^>]+>\", \"<a href='www.python.org'>click here!</a>\")"
   ]
  },
  {
   "cell_type": "markdown",
   "metadata": {},
   "source": [
    "Both of these functions return list objects, which we will see in the next\n",
    "notebook."
   ]
  },
  {
   "cell_type": "markdown",
   "metadata": {},
   "source": [
    "-------\n",
    "\n",
    "## Practice"
   ]
  },
  {
   "cell_type": "markdown",
   "metadata": {},
   "source": [
    "### Basic application\n",
    "\n",
    "For the next few practice exercises, we will use the string defined below,\n",
    "which comes from the Wikipedia page on \"Data Science\":"
   ]
  },
  {
   "cell_type": "code",
   "execution_count": 13,
   "metadata": {},
   "outputs": [],
   "source": [
    "wiki = \"\"\"Data science is an interdisciplinary field that uses scientific methods,\n",
    "processes, algorithms and systems to extract knowledge and insights from data in\n",
    "various forms, both structured and unstructured, similar to data mining.\n",
    "Data science is a \"concept to unify statistics, data analysis, machine learning\n",
    "and their related methods\" in order to \"understand and analyze actual phenomena\"\n",
    "with data. It employs techniques and theories drawn from many fields within the\n",
    "context of mathematics, statistics, information science, and computer science.\"\"\""
   ]
  },
  {
   "cell_type": "markdown",
   "metadata": {},
   "source": [
    "In the code block below, write a regular expresssion that replaces\n",
    "all spaces with underscores in the string `wiki`. Do not save the\n",
    "result, just print it out using the `print` function."
   ]
  },
  {
   "cell_type": "code",
   "execution_count": 14,
   "metadata": {},
   "outputs": [
    {
     "name": "stdout",
     "output_type": "stream",
     "text": [
      "Data_science_is_an_interdisciplinary_field_that_uses_scientific_methods,\n",
      "processes,_algorithms_and_systems_to_extract_knowledge_and_insights_from_data_in\n",
      "various_forms,_both_structured_and_unstructured,_similar_to_data_mining.\n",
      "Data_science_is_a_\"concept_to_unify_statistics,_data_analysis,_machine_learning\n",
      "and_their_related_methods\"_in_order_to_\"understand_and_analyze_actual_phenomena\"\n",
      "with_data._It_employs_techniques_and_theories_drawn_from_many_fields_within_the\n",
      "context_of_mathematics,_statistics,_information_science,_and_computer_science.\n"
     ]
    }
   ],
   "source": [
    "print(re.sub(\" \", \"_\", wiki))"
   ]
  },
  {
   "cell_type": "markdown",
   "metadata": {},
   "source": [
    "Now, write code to remove all vowels from the string. "
   ]
  },
  {
   "cell_type": "code",
   "execution_count": 15,
   "metadata": {},
   "outputs": [
    {
     "name": "stdout",
     "output_type": "stream",
     "text": [
      "Dt scnc s n ntrdscplnry fld tht ss scntfc mthds,\n",
      "prcsss, lgrthms nd systms t xtrct knwldg nd nsghts frm dt n\n",
      "vrs frms, bth strctrd nd nstrctrd, smlr t dt mnng.\n",
      "Dt scnc s  \"cncpt t nfy sttstcs, dt nlyss, mchn lrnng\n",
      "nd thr rltd mthds\" n rdr t \"ndrstnd nd nlyz ctl phnmn\"\n",
      "wth dt. It mplys tchnqs nd thrs drwn frm mny flds wthn th\n",
      "cntxt f mthmtcs, sttstcs, nfrmtn scnc, nd cmptr scnc.\n"
     ]
    }
   ],
   "source": [
    "print(re.sub(\"[aeiou]\", \"\", wiki))"
   ]
  },
  {
   "cell_type": "markdown",
   "metadata": {},
   "source": [
    "### Detecting words\n",
    "\n",
    "Next, we want to find all words in the text. Write code to detect all\n",
    "words in the string `wiki`. I recommend again using `print` to show the\n",
    "results in an easy to view format."
   ]
  },
  {
   "cell_type": "code",
   "execution_count": 16,
   "metadata": {},
   "outputs": [
    {
     "name": "stdout",
     "output_type": "stream",
     "text": [
      "['Data', 'science', 'is', 'an', 'interdisciplinary', 'field', 'that', 'uses', 'scientific', 'methods', 'processes', 'algorithms', 'and', 'systems', 'to', 'extract', 'knowledge', 'and', 'insights', 'from', 'data', 'in', 'various', 'forms', 'both', 'structured', 'and', 'unstructured', 'similar', 'to', 'data', 'mining', 'Data', 'science', 'is', 'a', 'concept', 'to', 'unify', 'statistics', 'data', 'analysis', 'machine', 'learning', 'and', 'their', 'related', 'methods', 'in', 'order', 'to', 'understand', 'and', 'analyze', 'actual', 'phenomena', 'with', 'data', 'It', 'employs', 'techniques', 'and', 'theories', 'drawn', 'from', 'many', 'fields', 'within', 'the', 'context', 'of', 'mathematics', 'statistics', 'information', 'science', 'and', 'computer', 'science']\n"
     ]
    }
   ],
   "source": [
    "print(re.findall(\"[a-zA-Z]+\", wiki))"
   ]
  },
  {
   "cell_type": "markdown",
   "metadata": {},
   "source": [
    "If we look down a bit farther on the Wikipedia page, you'll see the following\n",
    "sentence."
   ]
  },
  {
   "cell_type": "code",
   "execution_count": 17,
   "metadata": {},
   "outputs": [],
   "source": [
    "wiki2 = \"\"\"Even the suggestion that data science is sexy was a paraphrased\n",
    "reference to Dr. Hans Rosling's 2011 BBC documentary quote, \"Statistics, is\n",
    "now the sexiest subject around\".\"\"\""
   ]
  },
  {
   "cell_type": "markdown",
   "metadata": {},
   "source": [
    "The code you wrote above probably will not work on this string because \n",
    "it will miss the date '2011' as well as the apostophe. Modify the code\n",
    "to catch these edge cases and print the results."
   ]
  },
  {
   "cell_type": "code",
   "execution_count": 18,
   "metadata": {},
   "outputs": [
    {
     "name": "stdout",
     "output_type": "stream",
     "text": [
      "['Data', 'science', 'is', 'an', 'interdisciplinary', 'field', 'that', 'uses', 'scientific', 'methods', 'processes', 'algorithms', 'and', 'systems', 'to', 'extract', 'knowledge', 'and', 'insights', 'from', 'data', 'in', 'various', 'forms', 'both', 'structured', 'and', 'unstructured', 'similar', 'to', 'data', 'mining', 'Data', 'science', 'is', 'a', 'concept', 'to', 'unify', 'statistics', 'data', 'analysis', 'machine', 'learning', 'and', 'their', 'related', 'methods', 'in', 'order', 'to', 'understand', 'and', 'analyze', 'actual', 'phenomena', 'with', 'data', 'It', 'employs', 'techniques', 'and', 'theories', 'drawn', 'from', 'many', 'fields', 'within', 'the', 'context', 'of', 'mathematics', 'statistics', 'information', 'science', 'and', 'computer', 'science']\n"
     ]
    }
   ],
   "source": [
    "print(re.findall(\"[a-zA-Z0-9']+\", wiki))"
   ]
  },
  {
   "cell_type": "markdown",
   "metadata": {},
   "source": [
    "There is actually a better way of finding words in a string using the\n",
    "special marker `\\w`, which matches any word-like character. It will not,\n",
    "though, detect apostophes (because these may or may not be part of a \n",
    "word). Modify the code you had above using the `\\w` marker:"
   ]
  },
  {
   "cell_type": "code",
   "execution_count": 19,
   "metadata": {},
   "outputs": [
    {
     "name": "stdout",
     "output_type": "stream",
     "text": [
      "['Data', 'science', 'is', 'an', 'interdisciplinary', 'field', 'that', 'uses', 'scientific', 'methods', 'processes', 'algorithms', 'and', 'systems', 'to', 'extract', 'knowledge', 'and', 'insights', 'from', 'data', 'in', 'various', 'forms', 'both', 'structured', 'and', 'unstructured', 'similar', 'to', 'data', 'mining', 'Data', 'science', 'is', 'a', 'concept', 'to', 'unify', 'statistics', 'data', 'analysis', 'machine', 'learning', 'and', 'their', 'related', 'methods', 'in', 'order', 'to', 'understand', 'and', 'analyze', 'actual', 'phenomena', 'with', 'data', 'It', 'employs', 'techniques', 'and', 'theories', 'drawn', 'from', 'many', 'fields', 'within', 'the', 'context', 'of', 'mathematics', 'statistics', 'information', 'science', 'and', 'computer', 'science']\n"
     ]
    }
   ],
   "source": [
    "print(re.findall(\"[\\w']+\", wiki))"
   ]
  },
  {
   "cell_type": "markdown",
   "metadata": {},
   "source": [
    "One benefit of the `\\w` character is that it can handle other languages.\n",
    "Take the French page on *Science des données*: "
   ]
  },
  {
   "cell_type": "code",
   "execution_count": 20,
   "metadata": {},
   "outputs": [],
   "source": [
    "wiki_fr = \"\"\"En termes généraux, la science des données est l'extraction\n",
    "de connaissance d'ensembles de données\"\"\""
   ]
  },
  {
   "cell_type": "markdown",
   "metadata": {},
   "source": [
    "Try both your original code and the code with `\\w` on `wiki_fr`:"
   ]
  },
  {
   "cell_type": "code",
   "execution_count": 21,
   "metadata": {},
   "outputs": [
    {
     "name": "stdout",
     "output_type": "stream",
     "text": [
      "['En', 'termes', 'g', 'n', 'raux', 'la', 'science', 'des', 'donn', 'es', 'est', \"l'extraction\", 'de', 'connaissance', \"d'ensembles\", 'de', 'donn', 'es']\n",
      "['En', 'termes', 'généraux', 'la', 'science', 'des', 'données', 'est', \"l'extraction\", 'de', 'connaissance', \"d'ensembles\", 'de', 'données']\n"
     ]
    }
   ],
   "source": [
    "print(re.findall(\"[a-zA-Z0-9']+\", wiki_fr))\n",
    "print(re.findall(\"[\\w']+\", wiki_fr))"
   ]
  },
  {
   "cell_type": "markdown",
   "metadata": {},
   "source": [
    "Which of them succesfully splits the string as you would expect?"
   ]
  },
  {
   "cell_type": "markdown",
   "metadata": {},
   "source": [
    "**Answer:**"
   ]
  },
  {
   "cell_type": "markdown",
   "metadata": {},
   "source": [
    "Finally, Take the start of the Chinese language page on \"数据科学\"."
   ]
  },
  {
   "cell_type": "code",
   "execution_count": 22,
   "metadata": {},
   "outputs": [],
   "source": [
    "wiki_zh = \"\"\"\"数据科学，又称资料科学，是一门利用数据学习知识的学科,\n",
    "其目标是通过从数据中提取出有价值的部分来生产数据产品。\"\"\""
   ]
  },
  {
   "cell_type": "markdown",
   "metadata": {},
   "source": [
    "Try both the original code and the one with `\\w` on the string."
   ]
  },
  {
   "cell_type": "code",
   "execution_count": 23,
   "metadata": {},
   "outputs": [
    {
     "name": "stdout",
     "output_type": "stream",
     "text": [
      "[]\n",
      "['数据科学', '又称资料科学', '是一门利用数据学习知识的学科', '其目标是通过从数据中提取出有价值的部分来生产数据产品']\n"
     ]
    }
   ],
   "source": [
    "print(re.findall(\"[a-zA-Z0-9']+\", wiki_zh))\n",
    "print(re.findall(\"[\\w']+\", wiki_zh))"
   ]
  },
  {
   "cell_type": "markdown",
   "metadata": {},
   "source": [
    "What happens? Does the `\\w` character correctly detect the Chinese\n",
    "character `。` for the end of the string? Does this code run the\n",
    "same on all computers in the class?"
   ]
  },
  {
   "cell_type": "markdown",
   "metadata": {},
   "source": [
    "**Answer:** The `\\w` character does not detect the Chinese `。` because it\n",
    "knows that it signals a sentence boundary. I believe that this runs the same\n",
    "on all machines. Note that this regular expression works in the sense that it\n",
    "correctly detects Chinese characters as word characters; it does not, however,\n",
    "correctly split the string into words because you cannot do this in Chinese\n",
    "using regular expressions alone."
   ]
  },
  {
   "cell_type": "markdown",
   "metadata": {},
   "source": [
    "### Trimming output\n",
    "\n",
    "Consider a similar string containing the raw HTML code for the Wikipedia\n",
    "page:"
   ]
  },
  {
   "cell_type": "code",
   "execution_count": 24,
   "metadata": {},
   "outputs": [],
   "source": [
    "wiki_html = \"\"\" <p>The term \"data science\" has appeared in various contexts over \n",
    "the past thirty years but did not become an established term until recently.\n",
    "In an early usage it was used as  a substitute for\n",
    "<a href=\"/wiki/Computer_science\">computer science</a>\n",
    "by <a href=\"/wiki/Peter_Naur\">Peter Naur</a>  in 1960. \"\"\""
   ]
  },
  {
   "cell_type": "markdown",
   "metadata": {},
   "source": [
    "I have already showed how to remove all of the html tags. Below,\n",
    "remove the HTML tags, overwrite the new string as `wiki_html`, and\n",
    "print out the result. If you make a mistake, just re-run the cell \n",
    "above to re-create the original string."
   ]
  },
  {
   "cell_type": "code",
   "execution_count": 25,
   "metadata": {},
   "outputs": [
    {
     "name": "stdout",
     "output_type": "stream",
     "text": [
      " The term \"data science\" has appeared in various contexts over \n",
      "the past thirty years but did not become an established term until recently.\n",
      "In an early usage it was used as  a substitute for\n",
      "computer science\n",
      "by Peter Naur  in 1960. \n"
     ]
    }
   ],
   "source": [
    "wiki_html = re.sub(\"<[^>]+>\", \"\", wiki_html)\n",
    "print(wiki_html)"
   ]
  },
  {
   "cell_type": "markdown",
   "metadata": {},
   "source": [
    "There are also new line characters `\\n` (or `\\r\\n` in Windows) in the string.\n",
    "Remove these as well and save the result as `wiki_html` again\n",
    "(Note: be careful here not to combine any words)."
   ]
  },
  {
   "cell_type": "code",
   "execution_count": 26,
   "metadata": {},
   "outputs": [
    {
     "name": "stdout",
     "output_type": "stream",
     "text": [
      " The term \"data science\" has appeared in various contexts over  the past thirty years but did not become an established term until recently. In an early usage it was used as  a substitute for computer science by Peter Naur  in 1960. \n"
     ]
    }
   ],
   "source": [
    "wiki_html = re.sub(\"[\\n\\r]\", \" \", wiki_html)\n",
    "print(wiki_html)"
   ]
  },
  {
   "cell_type": "markdown",
   "metadata": {},
   "source": [
    "You should notice that there is an errant extra space at the start of the\n",
    "string and end of the string. There are also several other extra spaces.\n",
    "These things  commonly occurs when cleaning text with regular expressions.\n",
    "We could use the string method `trim` to handle some of these issues,\n",
    "but let's try to do something a bit more general.\n",
    "\n",
    "There are several regular expression commands called *anchors* that can be\n",
    "used to detect the start of a string. For example, `\\A` finds the start of\n",
    "the string and `\\Z` the end. Using this, create a new version of `wiki_html`\n",
    "that removes the leading and trailing spaces (hint: this is easiest with\n",
    "two distinct regular expressions)."
   ]
  },
  {
   "cell_type": "code",
   "execution_count": 27,
   "metadata": {},
   "outputs": [
    {
     "data": {
      "text/plain": [
       "'The term \"data science\" has appeared in various contexts over  the past thirty years but did not become an established term until recently. In an early usage it was used as  a substitute for computer science by Peter Naur  in 1960. '"
      ]
     },
     "execution_count": 27,
     "metadata": {},
     "output_type": "execute_result"
    }
   ],
   "source": [
    "wiki_html = re.sub(\"\\A \", \"\", wiki_html)\n",
    "wiki_html"
   ]
  },
  {
   "cell_type": "code",
   "execution_count": 28,
   "metadata": {},
   "outputs": [
    {
     "data": {
      "text/plain": [
       "'The term \"data science\" has appeared in various contexts over  the past thirty years but did not become an established term until recently. In an early usage it was used as  a substitute for computer science by Peter Naur  in 1960.'"
      ]
     },
     "execution_count": 28,
     "metadata": {},
     "output_type": "execute_result"
    }
   ],
   "source": [
    "wiki_html = re.sub(\" \\Z\", \"\", wiki_html)\n",
    "wiki_html"
   ]
  },
  {
   "cell_type": "markdown",
   "metadata": {},
   "source": [
    "Now with the start and stop cases handled, replace any sequence of spaces\n",
    "with just a single space."
   ]
  },
  {
   "cell_type": "code",
   "execution_count": 29,
   "metadata": {},
   "outputs": [
    {
     "data": {
      "text/plain": [
       "'The term \"data science\" has appeared in various contexts over the past thirty years but did not become an established term until recently. In an early usage it was used as a substitute for computer science by Peter Naur in 1960.'"
      ]
     },
     "execution_count": 29,
     "metadata": {},
     "output_type": "execute_result"
    }
   ],
   "source": [
    "wiki_html = re.sub(\"[ ]+\", \" \", wiki_html)\n",
    "wiki_html"
   ]
  },
  {
   "cell_type": "markdown",
   "metadata": {},
   "source": [
    "The result should now look reasonablely close to the same format as the text we\n",
    "started with in the prior section."
   ]
  },
  {
   "cell_type": "markdown",
   "metadata": {},
   "source": [
    "### HTML tags\n",
    "\n",
    "Finally, let's try a bit more of a challenge. Take the following string of\n",
    "HTML code once again:"
   ]
  },
  {
   "cell_type": "code",
   "execution_count": 30,
   "metadata": {},
   "outputs": [],
   "source": [
    "wiki_html = \"\"\" <p>The term \"data science\" has appeared in various contexts over \n",
    "the past thirty years but did not become an established term until recently.\n",
    "In an early usage it was used as  a substitute for\n",
    "<a href=\"/wiki/Computer_science\">computer science</a>\n",
    "by <a href=\"/wiki/Peter_Naur\">Peter Naur</a>  in 1960. \"\"\""
   ]
  },
  {
   "cell_type": "markdown",
   "metadata": {},
   "source": [
    "I want to only extract the strings related to the link tags `<a>`.\n",
    "To do this, you'll need one more regular expression notation, defined by\n",
    "parentheses.\n",
    "\n",
    "What if we want to match a regular expression, but only capture part of the\n",
    "return string? For example, say we want to find what words *follow* the word\n",
    "\"in\". We could find pairs of words like this:"
   ]
  },
  {
   "cell_type": "code",
   "execution_count": 31,
   "metadata": {},
   "outputs": [
    {
     "data": {
      "text/plain": [
       "['in various', 'in 1960']"
      ]
     },
     "execution_count": 31,
     "metadata": {},
     "output_type": "execute_result"
    }
   ],
   "source": [
    "re.findall(\"in \\w+\", wiki_html)"
   ]
  },
  {
   "cell_type": "markdown",
   "metadata": {},
   "source": [
    "But what if we just want the second word? To do that, put the\n",
    "part of the regular expression you want returned in parentheses,\n",
    "like this:"
   ]
  },
  {
   "cell_type": "code",
   "execution_count": 32,
   "metadata": {},
   "outputs": [
    {
     "data": {
      "text/plain": [
       "['various', '1960']"
      ]
     },
     "execution_count": 32,
     "metadata": {},
     "output_type": "execute_result"
    }
   ],
   "source": [
    "re.findall(\"in (\\w+)\", wiki_html)"
   ]
  },
  {
   "cell_type": "markdown",
   "metadata": {},
   "source": [
    "Now, using this notation, you can extract the links contained in the text\n",
    "`wiki_html`. That is, get the strings \"/wiki/Computer_science\" and\n",
    "\"/wiki/Peter_Naur\". In the space below, build a regular expression to find\n",
    "these strings with a single regular expression:"
   ]
  },
  {
   "cell_type": "code",
   "execution_count": 33,
   "metadata": {},
   "outputs": [
    {
     "data": {
      "text/plain": [
       "['/wiki/Computer_science', '/wiki/Peter_Naur']"
      ]
     },
     "execution_count": 33,
     "metadata": {},
     "output_type": "execute_result"
    }
   ],
   "source": [
    "re.findall('<a href=\"(/wiki/\\w+)', wiki_html)"
   ]
  },
  {
   "cell_type": "markdown",
   "metadata": {},
   "source": [
    "Similarly, can you get the strings contained inside the tags? That is,\n",
    "find the strings \"computer science\" and \"Peter Naur\". Write the code for\n",
    "this below:"
   ]
  },
  {
   "cell_type": "code",
   "execution_count": 34,
   "metadata": {},
   "outputs": [
    {
     "data": {
      "text/plain": [
       "['computer science', 'Peter Naur']"
      ]
     },
     "execution_count": 34,
     "metadata": {},
     "output_type": "execute_result"
    }
   ],
   "source": [
    "re.findall('<a href=\"/wiki/\\w+\">([^<]+)</a>', wiki_html)"
   ]
  },
  {
   "cell_type": "code",
   "execution_count": null,
   "metadata": {},
   "outputs": [],
   "source": []
  }
 ],
 "metadata": {
  "kernelspec": {
   "display_name": "Python 3",
   "language": "python",
   "name": "python3"
  },
  "language_info": {
   "codemirror_mode": {
    "name": "ipython",
    "version": 3
   },
   "file_extension": ".py",
   "mimetype": "text/x-python",
   "name": "python",
   "nbconvert_exporter": "python",
   "pygments_lexer": "ipython3",
   "version": "3.6.6"
  }
 },
 "nbformat": 4,
 "nbformat_minor": 2
}
